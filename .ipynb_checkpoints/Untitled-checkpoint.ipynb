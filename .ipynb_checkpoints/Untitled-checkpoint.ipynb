{
 "cells": [
  {
   "cell_type": "code",
   "execution_count": 95,
   "metadata": {},
   "outputs": [],
   "source": [
    "import pandas as pd"
   ]
  },
  {
   "cell_type": "code",
   "execution_count": 501,
   "metadata": {},
   "outputs": [],
   "source": [
    "df = pd.read_excel('Evaluation.xlsx')"
   ]
  },
  {
   "cell_type": "code",
   "execution_count": 521,
   "metadata": {},
   "outputs": [
    {
     "data": {
      "text/plain": [
       "(128, 5)"
      ]
     },
     "execution_count": 521,
     "metadata": {},
     "output_type": "execute_result"
    }
   ],
   "source": [
    "df.shape"
   ]
  },
  {
   "cell_type": "code",
   "execution_count": 522,
   "metadata": {},
   "outputs": [
    {
     "data": {
      "text/html": [
       "<div>\n",
       "<style scoped>\n",
       "    .dataframe tbody tr th:only-of-type {\n",
       "        vertical-align: middle;\n",
       "    }\n",
       "\n",
       "    .dataframe tbody tr th {\n",
       "        vertical-align: top;\n",
       "    }\n",
       "\n",
       "    .dataframe thead th {\n",
       "        text-align: right;\n",
       "    }\n",
       "</style>\n",
       "<table border=\"1\" class=\"dataframe\">\n",
       "  <thead>\n",
       "    <tr style=\"text-align: right;\">\n",
       "      <th></th>\n",
       "      <th>Title</th>\n",
       "      <th>Abstract</th>\n",
       "      <th>Keywords</th>\n",
       "      <th>Source</th>\n",
       "      <th>Label</th>\n",
       "    </tr>\n",
       "  </thead>\n",
       "  <tbody>\n",
       "    <tr>\n",
       "      <td>0</td>\n",
       "      <td>A Novel Fuzzy Based Approach for Effort Estima...</td>\n",
       "      <td>Accurate and credible software effort estimati...</td>\n",
       "      <td>Effort Estimation, COCOMO, FIS, GMF, TMF, MMRE...</td>\n",
       "      <td>ACM</td>\n",
       "      <td>Yes</td>\n",
       "    </tr>\n",
       "    <tr>\n",
       "      <td>1</td>\n",
       "      <td>Recent Methods for Software Effort Estimation ...</td>\n",
       "      <td>Fairly accurate cost and effort predictions of...</td>\n",
       "      <td>COCOMO, Software Effort, Machine Learning</td>\n",
       "      <td>ACM</td>\n",
       "      <td>Yes</td>\n",
       "    </tr>\n",
       "    <tr>\n",
       "      <td>2</td>\n",
       "      <td>Software Cost Estimation Using Fuzzy Logic</td>\n",
       "      <td>Effective Software cost estimation is one of t...</td>\n",
       "      <td>COCOMO, Efforts, Fuzzy Logic, Software</td>\n",
       "      <td>ACM</td>\n",
       "      <td>Yes</td>\n",
       "    </tr>\n",
       "    <tr>\n",
       "      <td>3</td>\n",
       "      <td>The Mal Source Dataset: Quantifying Complexity...</td>\n",
       "      <td>During the last decades, the problem of malici...</td>\n",
       "      <td>Malware, Cloning, Complexity theory, Size meas...</td>\n",
       "      <td>IEEE</td>\n",
       "      <td>Yes</td>\n",
       "    </tr>\n",
       "    <tr>\n",
       "      <td>4</td>\n",
       "      <td>What Predicts Software Developers' Productivity?</td>\n",
       "      <td>Organizations have a variety of options to hel...</td>\n",
       "      <td>Productivity, Software, Companies, Google, Too...</td>\n",
       "      <td>IEEE</td>\n",
       "      <td>Yes</td>\n",
       "    </tr>\n",
       "  </tbody>\n",
       "</table>\n",
       "</div>"
      ],
      "text/plain": [
       "                                               Title  \\\n",
       "0  A Novel Fuzzy Based Approach for Effort Estima...   \n",
       "1  Recent Methods for Software Effort Estimation ...   \n",
       "2         Software Cost Estimation Using Fuzzy Logic   \n",
       "3  The Mal Source Dataset: Quantifying Complexity...   \n",
       "4   What Predicts Software Developers' Productivity?   \n",
       "\n",
       "                                            Abstract  \\\n",
       "0  Accurate and credible software effort estimati...   \n",
       "1  Fairly accurate cost and effort predictions of...   \n",
       "2  Effective Software cost estimation is one of t...   \n",
       "3  During the last decades, the problem of malici...   \n",
       "4  Organizations have a variety of options to hel...   \n",
       "\n",
       "                                            Keywords Source Label  \n",
       "0  Effort Estimation, COCOMO, FIS, GMF, TMF, MMRE...    ACM   Yes  \n",
       "1          COCOMO, Software Effort, Machine Learning    ACM   Yes  \n",
       "2             COCOMO, Efforts, Fuzzy Logic, Software    ACM   Yes  \n",
       "3  Malware, Cloning, Complexity theory, Size meas...   IEEE   Yes  \n",
       "4  Productivity, Software, Companies, Google, Too...   IEEE   Yes  "
      ]
     },
     "execution_count": 522,
     "metadata": {},
     "output_type": "execute_result"
    }
   ],
   "source": [
    "df.head()"
   ]
  },
  {
   "cell_type": "code",
   "execution_count": 514,
   "metadata": {},
   "outputs": [],
   "source": [
    "df_test = pd.read_excel('Test.xlsx')"
   ]
  },
  {
   "cell_type": "code",
   "execution_count": 275,
   "metadata": {},
   "outputs": [
    {
     "data": {
      "text/plain": [
       "125"
      ]
     },
     "execution_count": 275,
     "metadata": {},
     "output_type": "execute_result"
    }
   ],
   "source": [
    "len(content)"
   ]
  },
  {
   "cell_type": "code",
   "execution_count": 515,
   "metadata": {},
   "outputs": [
    {
     "data": {
      "text/html": [
       "<div>\n",
       "<style scoped>\n",
       "    .dataframe tbody tr th:only-of-type {\n",
       "        vertical-align: middle;\n",
       "    }\n",
       "\n",
       "    .dataframe tbody tr th {\n",
       "        vertical-align: top;\n",
       "    }\n",
       "\n",
       "    .dataframe thead th {\n",
       "        text-align: right;\n",
       "    }\n",
       "</style>\n",
       "<table border=\"1\" class=\"dataframe\">\n",
       "  <thead>\n",
       "    <tr style=\"text-align: right;\">\n",
       "      <th></th>\n",
       "      <th>Title</th>\n",
       "    </tr>\n",
       "  </thead>\n",
       "  <tbody>\n",
       "    <tr>\n",
       "      <td>0</td>\n",
       "      <td>A Novel Fuzzy Based Approach for Effort Estima...</td>\n",
       "    </tr>\n",
       "    <tr>\n",
       "      <td>1</td>\n",
       "      <td>Recent Methods for Software Effort Estimation ...</td>\n",
       "    </tr>\n",
       "    <tr>\n",
       "      <td>2</td>\n",
       "      <td>Software Cost Estimation Using Fuzzy Logic</td>\n",
       "    </tr>\n",
       "    <tr>\n",
       "      <td>3</td>\n",
       "      <td>The Mal Source Dataset: Quantifying Complexity...</td>\n",
       "    </tr>\n",
       "    <tr>\n",
       "      <td>4</td>\n",
       "      <td>What Predicts Software Developers' Productivity?</td>\n",
       "    </tr>\n",
       "  </tbody>\n",
       "</table>\n",
       "</div>"
      ],
      "text/plain": [
       "                                               Title\n",
       "0  A Novel Fuzzy Based Approach for Effort Estima...\n",
       "1  Recent Methods for Software Effort Estimation ...\n",
       "2         Software Cost Estimation Using Fuzzy Logic\n",
       "3  The Mal Source Dataset: Quantifying Complexity...\n",
       "4   What Predicts Software Developers' Productivity?"
      ]
     },
     "execution_count": 515,
     "metadata": {},
     "output_type": "execute_result"
    }
   ],
   "source": [
    "df_test.head()"
   ]
  },
  {
   "cell_type": "code",
   "execution_count": 499,
   "metadata": {},
   "outputs": [
    {
     "data": {
      "text/plain": [
       "105"
      ]
     },
     "execution_count": 499,
     "metadata": {},
     "output_type": "execute_result"
    }
   ],
   "source": [
    "len(df_test)"
   ]
  },
  {
   "cell_type": "code",
   "execution_count": 531,
   "metadata": {},
   "outputs": [],
   "source": [
    "df['content'] = df[['Title', 'Abstract', 'Keywords']].apply(lambda x: ' '.join(x), axis = 1) "
   ]
  },
  {
   "cell_type": "code",
   "execution_count": 532,
   "metadata": {},
   "outputs": [],
   "source": [
    "for x in range(128):\n",
    "    if df.Title.iloc[x] in test:\n",
    "        df.Label.iloc[x] = 'Yes'\n",
    "    else:\n",
    "        df.Label.iloc[x] = 'No'"
   ]
  },
  {
   "cell_type": "code",
   "execution_count": 533,
   "metadata": {},
   "outputs": [],
   "source": [
    "cocomo = df[df['Label']=='Yes']"
   ]
  },
  {
   "cell_type": "code",
   "execution_count": 534,
   "metadata": {},
   "outputs": [],
   "source": [
    "non_cocomo = df[df['Label']=='No']"
   ]
  },
  {
   "cell_type": "code",
   "execution_count": 535,
   "metadata": {},
   "outputs": [
    {
     "data": {
      "text/html": [
       "<div>\n",
       "<style scoped>\n",
       "    .dataframe tbody tr th:only-of-type {\n",
       "        vertical-align: middle;\n",
       "    }\n",
       "\n",
       "    .dataframe tbody tr th {\n",
       "        vertical-align: top;\n",
       "    }\n",
       "\n",
       "    .dataframe thead th {\n",
       "        text-align: right;\n",
       "    }\n",
       "</style>\n",
       "<table border=\"1\" class=\"dataframe\">\n",
       "  <thead>\n",
       "    <tr style=\"text-align: right;\">\n",
       "      <th></th>\n",
       "      <th>Title</th>\n",
       "      <th>Abstract</th>\n",
       "      <th>Keywords</th>\n",
       "      <th>Source</th>\n",
       "      <th>Label</th>\n",
       "      <th>content</th>\n",
       "    </tr>\n",
       "  </thead>\n",
       "  <tbody>\n",
       "    <tr>\n",
       "      <td>0</td>\n",
       "      <td>A Novel Fuzzy Based Approach for Effort Estima...</td>\n",
       "      <td>Accurate and credible software effort estimati...</td>\n",
       "      <td>Effort Estimation, COCOMO, FIS, GMF, TMF, MMRE...</td>\n",
       "      <td>ACM</td>\n",
       "      <td>Yes</td>\n",
       "      <td>A Novel Fuzzy Based Approach for Effort Estima...</td>\n",
       "    </tr>\n",
       "    <tr>\n",
       "      <td>1</td>\n",
       "      <td>Recent Methods for Software Effort Estimation ...</td>\n",
       "      <td>Fairly accurate cost and effort predictions of...</td>\n",
       "      <td>COCOMO, Software Effort, Machine Learning</td>\n",
       "      <td>ACM</td>\n",
       "      <td>Yes</td>\n",
       "      <td>Recent Methods for Software Effort Estimation ...</td>\n",
       "    </tr>\n",
       "    <tr>\n",
       "      <td>2</td>\n",
       "      <td>Software Cost Estimation Using Fuzzy Logic</td>\n",
       "      <td>Effective Software cost estimation is one of t...</td>\n",
       "      <td>COCOMO, Efforts, Fuzzy Logic, Software</td>\n",
       "      <td>ACM</td>\n",
       "      <td>Yes</td>\n",
       "      <td>Software Cost Estimation Using Fuzzy Logic Eff...</td>\n",
       "    </tr>\n",
       "    <tr>\n",
       "      <td>3</td>\n",
       "      <td>The Mal Source Dataset: Quantifying Complexity...</td>\n",
       "      <td>During the last decades, the problem of malici...</td>\n",
       "      <td>Malware, Cloning, Complexity theory, Size meas...</td>\n",
       "      <td>IEEE</td>\n",
       "      <td>Yes</td>\n",
       "      <td>The Mal Source Dataset: Quantifying Complexity...</td>\n",
       "    </tr>\n",
       "    <tr>\n",
       "      <td>4</td>\n",
       "      <td>What Predicts Software Developers' Productivity?</td>\n",
       "      <td>Organizations have a variety of options to hel...</td>\n",
       "      <td>Productivity, Software, Companies, Google, Too...</td>\n",
       "      <td>IEEE</td>\n",
       "      <td>Yes</td>\n",
       "      <td>What Predicts Software Developers' Productivit...</td>\n",
       "    </tr>\n",
       "  </tbody>\n",
       "</table>\n",
       "</div>"
      ],
      "text/plain": [
       "                                               Title  \\\n",
       "0  A Novel Fuzzy Based Approach for Effort Estima...   \n",
       "1  Recent Methods for Software Effort Estimation ...   \n",
       "2         Software Cost Estimation Using Fuzzy Logic   \n",
       "3  The Mal Source Dataset: Quantifying Complexity...   \n",
       "4   What Predicts Software Developers' Productivity?   \n",
       "\n",
       "                                            Abstract  \\\n",
       "0  Accurate and credible software effort estimati...   \n",
       "1  Fairly accurate cost and effort predictions of...   \n",
       "2  Effective Software cost estimation is one of t...   \n",
       "3  During the last decades, the problem of malici...   \n",
       "4  Organizations have a variety of options to hel...   \n",
       "\n",
       "                                            Keywords Source Label  \\\n",
       "0  Effort Estimation, COCOMO, FIS, GMF, TMF, MMRE...    ACM   Yes   \n",
       "1          COCOMO, Software Effort, Machine Learning    ACM   Yes   \n",
       "2             COCOMO, Efforts, Fuzzy Logic, Software    ACM   Yes   \n",
       "3  Malware, Cloning, Complexity theory, Size meas...   IEEE   Yes   \n",
       "4  Productivity, Software, Companies, Google, Too...   IEEE   Yes   \n",
       "\n",
       "                                             content  \n",
       "0  A Novel Fuzzy Based Approach for Effort Estima...  \n",
       "1  Recent Methods for Software Effort Estimation ...  \n",
       "2  Software Cost Estimation Using Fuzzy Logic Eff...  \n",
       "3  The Mal Source Dataset: Quantifying Complexity...  \n",
       "4  What Predicts Software Developers' Productivit...  "
      ]
     },
     "execution_count": 535,
     "metadata": {},
     "output_type": "execute_result"
    }
   ],
   "source": [
    "cocomo.head()"
   ]
  },
  {
   "cell_type": "code",
   "execution_count": 592,
   "metadata": {},
   "outputs": [],
   "source": [
    "cocomo_content = cocomo['content'].to_list()\n",
    "non_cocomo_content = non_cocomo['content'].to_list()"
   ]
  },
  {
   "cell_type": "code",
   "execution_count": 593,
   "metadata": {},
   "outputs": [
    {
     "data": {
      "text/plain": [
       "23"
      ]
     },
     "execution_count": 593,
     "metadata": {},
     "output_type": "execute_result"
    }
   ],
   "source": [
    "len(non_cocomo_content)"
   ]
  },
  {
   "cell_type": "code",
   "execution_count": 539,
   "metadata": {},
   "outputs": [],
   "source": [
    "cocomo_corpus = list()\n",
    "cocomo_lemma = list()\n",
    "for x in cocomo_content:\n",
    "    cocomo_corpus.append(preprocess(x))\n",
    "for x in cocomo_corpus:\n",
    "    cocomo_lemma.append(lemmatize(x))"
   ]
  },
  {
   "cell_type": "code",
   "execution_count": 588,
   "metadata": {},
   "outputs": [
    {
     "data": {
      "text/plain": [
       "(23, 6)"
      ]
     },
     "execution_count": 588,
     "metadata": {},
     "output_type": "execute_result"
    }
   ],
   "source": [
    "non_cocomo.shape"
   ]
  },
  {
   "cell_type": "code",
   "execution_count": 597,
   "metadata": {},
   "outputs": [],
   "source": [
    "non_cocomo_corpus = list()\n",
    "non_cocomo_lemma = list()\n",
    "for x in non_cocomo_content:\n",
    "    non_cocomo_corpus.append(preprocess(x))\n",
    "for x in non_cocomo_corpus:\n",
    "    non_cocomo_lemma.append(lemmatize(x))"
   ]
  },
  {
   "cell_type": "code",
   "execution_count": 598,
   "metadata": {},
   "outputs": [
    {
     "data": {
      "text/plain": [
       "23"
      ]
     },
     "execution_count": 598,
     "metadata": {},
     "output_type": "execute_result"
    }
   ],
   "source": [
    "len(non_cocomo_lemma)"
   ]
  },
  {
   "cell_type": "code",
   "execution_count": 99,
   "metadata": {},
   "outputs": [],
   "source": [
    "test = df_test['Title'].to_list()"
   ]
  },
  {
   "cell_type": "code",
   "execution_count": 59,
   "metadata": {},
   "outputs": [
    {
     "data": {
      "text/plain": [
       "'Reuse in Systems Engineering'"
      ]
     },
     "execution_count": 59,
     "metadata": {},
     "output_type": "execute_result"
    }
   ],
   "source": [
    "hasil[1]"
   ]
  },
  {
   "cell_type": "code",
   "execution_count": 10,
   "metadata": {},
   "outputs": [],
   "source": [
    "import nltk\n",
    "from nltk import word_tokenize\n",
    "from nltk.corpus import stopwords\n",
    "from nltk.stem import WordNetLemmatizer\n",
    "\n",
    "lemmatizer=WordNetLemmatizer()\n",
    "stop_words = stopwords.words('english')\n",
    "\n",
    "def preprocess(doc):\n",
    "    doc = doc.lower()  # Lower the text.\n",
    "    doc = word_tokenize(doc)  # Split into words.\n",
    "    doc = [w for w in doc if not w in stop_words]  # Remove stopwords.\n",
    "    doc = [w for w in doc if w.isalpha()]  # Remove numbers and punctuation.\n",
    "    return doc\n",
    "\n",
    "def lemmatize(doc):\n",
    "    doc_lemma = list()\n",
    "    for word in doc:\n",
    "        doc_lemma.append(lemmatizer.lemmatize(word))\n",
    "    return doc_lemma"
   ]
  },
  {
   "cell_type": "code",
   "execution_count": 363,
   "metadata": {},
   "outputs": [],
   "source": [
    "corpus = list()\n",
    "\n",
    "for text in content:\n",
    "    corpus.append(preprocess(text))"
   ]
  },
  {
   "cell_type": "code",
   "execution_count": 364,
   "metadata": {},
   "outputs": [],
   "source": [
    "corpus_lemma = list()\n",
    "\n",
    "for text in corpus:\n",
    "    corpus_lemma.append(lemmatize(text))"
   ]
  },
  {
   "cell_type": "code",
   "execution_count": 102,
   "metadata": {},
   "outputs": [
    {
     "data": {
      "text/plain": [
       "4"
      ]
     },
     "execution_count": 102,
     "metadata": {},
     "output_type": "execute_result"
    }
   ],
   "source": [
    "import multiprocessing\n",
    "from time import time\n",
    "\n",
    "multiprocessing.cpu_count()"
   ]
  },
  {
   "cell_type": "code",
   "execution_count": 103,
   "metadata": {},
   "outputs": [],
   "source": [
    "from gensim.models import FastText as ft\n",
    "from gensim.models import Word2Vec as w2v"
   ]
  },
  {
   "cell_type": "code",
   "execution_count": 733,
   "metadata": {},
   "outputs": [
    {
     "name": "stdout",
     "output_type": "stream",
     "text": [
      "Cell took 0.17 minutes to run.\n"
     ]
    }
   ],
   "source": [
    "start = time()\n",
    "model_ft = ft(corpus_lemma, sg=0, workers=multiprocessing.cpu_count()-1, size=100, iter=5, min_count=5)\n",
    "print('Cell took %.2f minutes to run.' %((time() - start)/60))"
   ]
  },
  {
   "cell_type": "code",
   "execution_count": 734,
   "metadata": {},
   "outputs": [
    {
     "name": "stderr",
     "output_type": "stream",
     "text": [
      "C:\\Users\\nabil\\Anaconda3\\lib\\site-packages\\ipykernel_launcher.py:1: DeprecationWarning: Call to deprecated `most_similar` (Method will be removed in 4.0.0, use self.wv.most_similar() instead).\n",
      "  \"\"\"Entry point for launching an IPython kernel.\n"
     ]
    },
    {
     "name": "stdout",
     "output_type": "stream",
     "text": [
      "estimation\n"
     ]
    }
   ],
   "source": [
    "similar = model_ft.most_similar(positive=query)\n",
    "similar = similar[0][0]\n",
    "print(similar)"
   ]
  },
  {
   "cell_type": "code",
   "execution_count": 676,
   "metadata": {},
   "outputs": [],
   "source": [
    "model_ft_wmd = ft(cocomo_lemma, workers=multiprocessing.cpu_count()-1, iter=5,size=100, min_count=5)\n",
    "model_ft_wmd_non = ft(non_cocomo_lemma, workers=multiprocessing.cpu_count()-1, iter=5,size=100, min_count=5)"
   ]
  },
  {
   "cell_type": "code",
   "execution_count": 735,
   "metadata": {},
   "outputs": [
    {
     "name": "stdout",
     "output_type": "stream",
     "text": [
      "Cell took 0.33 minutes to run.\n"
     ]
    }
   ],
   "source": [
    "start = time()\n",
    "model_ft_wmd = ft(cocomo_lemma, sg=0, workers=multiprocessing.cpu_count()-1, iter=5,size=100, min_count=5)\n",
    "model_ft_wmd_non = ft(non_cocomo_lemma, sg=0, workers=multiprocessing.cpu_count()-1, iter=5,size=100, min_count=5)\n",
    "print('Cell took %.2f minutes to run.' %((time() - start)/60))"
   ]
  },
  {
   "cell_type": "code",
   "execution_count": 677,
   "metadata": {},
   "outputs": [],
   "source": [
    "instance_ft = WmdSimilarity(cocomo_lemma, model_ft_wmd, num_best=105)"
   ]
  },
  {
   "cell_type": "code",
   "execution_count": 678,
   "metadata": {},
   "outputs": [],
   "source": [
    "instance_ft_non = WmdSimilarity(non_cocomo_lemma, model_ft_wmd_non, num_best=23)"
   ]
  },
  {
   "cell_type": "code",
   "execution_count": 428,
   "metadata": {},
   "outputs": [
    {
     "name": "stdout",
     "output_type": "stream",
     "text": [
      "Cell took 0.29 minutes to run.\n"
     ]
    }
   ],
   "source": [
    "start = time()\n",
    "model_ft = ft(corpus_lemma, sg=1, workers=multiprocessing.cpu_count()-1, iter=100,size=100, min_count=5)\n",
    "print('Cell took %.2f minutes to run.' %((time() - start)/60))"
   ]
  },
  {
   "cell_type": "code",
   "execution_count": 142,
   "metadata": {},
   "outputs": [],
   "source": [
    "from gensim.similarities import WmdSimilarity"
   ]
  },
  {
   "cell_type": "code",
   "execution_count": 569,
   "metadata": {},
   "outputs": [],
   "source": [
    "instance_w2v_non = WmdSimilarity(cocomo_lemma, model_ft_wmd, num_best=105)"
   ]
  },
  {
   "cell_type": "code",
   "execution_count": 725,
   "metadata": {},
   "outputs": [
    {
     "name": "stdout",
     "output_type": "stream",
     "text": [
      "Cell took 0.03 minutes to run.\n"
     ]
    }
   ],
   "source": [
    "start = time()\n",
    "sims_ft = instance_ft[query]\n",
    "sims_ft_non = instance_ft_non[query]\n",
    "print('Cell took %.2f minutes to run.' %((time() - start)/60))"
   ]
  },
  {
   "cell_type": "code",
   "execution_count": 737,
   "metadata": {},
   "outputs": [
    {
     "data": {
      "text/plain": [
       "[(16, 0.9657266025179552),\n",
       " (26, 0.9535968349225598),\n",
       " (43, 0.9530675352685932),\n",
       " (69, 0.953032166776403),\n",
       " (36, 0.9529510964798764),\n",
       " (57, 0.9490303579758363),\n",
       " (90, 0.9488208647012322),\n",
       " (80, 0.9472831994486494),\n",
       " (88, 0.9454410166853479),\n",
       " (71, 0.9446435884973581),\n",
       " (6, 0.9441705277047199),\n",
       " (38, 0.9438540864318123),\n",
       " (77, 0.9435513072091024),\n",
       " (64, 0.9432116450906883),\n",
       " (18, 0.9426688159965358),\n",
       " (86, 0.9392572294481338),\n",
       " (74, 0.9383642025914085),\n",
       " (1, 0.9368202356339759),\n",
       " (83, 0.9367115004559252),\n",
       " (65, 0.9364900938430326),\n",
       " (2, 0.9364290004533474),\n",
       " (20, 0.9361624721751491),\n",
       " (66, 0.936015851631446),\n",
       " (82, 0.935643464536924),\n",
       " (48, 0.9348205079625127),\n",
       " (30, 0.9323978450873344),\n",
       " (50, 0.9317832300152538),\n",
       " (47, 0.930744858167819),\n",
       " (14, 0.928038555020124),\n",
       " (45, 0.9277544817867132),\n",
       " (19, 0.9275342962219515),\n",
       " (97, 0.9269273119129728),\n",
       " (87, 0.9251368986199764),\n",
       " (63, 0.9246363813358665),\n",
       " (101, 0.9239269776662881),\n",
       " (89, 0.9237885440993874),\n",
       " (24, 0.9233010050194977),\n",
       " (96, 0.9224731904584313),\n",
       " (93, 0.922332364336144),\n",
       " (37, 0.9203463217971667),\n",
       " (92, 0.9200495304915215),\n",
       " (15, 0.9198832797881091),\n",
       " (39, 0.9188146343749753),\n",
       " (21, 0.9187426000929838),\n",
       " (0, 0.9160209762003979),\n",
       " (67, 0.9156163491514213),\n",
       " (49, 0.9151837981430039),\n",
       " (54, 0.9148538844366346),\n",
       " (84, 0.9147502674165532),\n",
       " (28, 0.9137311953377971),\n",
       " (85, 0.912180401426742),\n",
       " (33, 0.912067124028671),\n",
       " (34, 0.9114862746762763),\n",
       " (32, 0.9113844610968418),\n",
       " (102, 0.9102099783233415),\n",
       " (72, 0.9098269262778156),\n",
       " (70, 0.9055953928999446),\n",
       " (60, 0.9045336613317564),\n",
       " (79, 0.9031680419820117),\n",
       " (41, 0.9021693064005014),\n",
       " (17, 0.9021362350084602),\n",
       " (23, 0.8991167707672739),\n",
       " (25, 0.8991105357741708),\n",
       " (76, 0.8971507115750965),\n",
       " (5, 0.8953157243127391),\n",
       " (59, 0.8942030820319642),\n",
       " (22, 0.8932336626152494),\n",
       " (100, 0.8927393000377859),\n",
       " (103, 0.8925385244158234),\n",
       " (56, 0.892314235254535),\n",
       " (73, 0.8922277081938714),\n",
       " (44, 0.8911879410432529),\n",
       " (68, 0.8910314209114427),\n",
       " (58, 0.890496879890225),\n",
       " (13, 0.8902899410322732),\n",
       " (62, 0.890105762001152),\n",
       " (91, 0.8847705852460144),\n",
       " (81, 0.8847661074715955),\n",
       " (27, 0.8844071787304176),\n",
       " (8, 0.8803481438369984),\n",
       " (52, 0.879491062920818),\n",
       " (75, 0.8794212932455383),\n",
       " (51, 0.8760349344818578),\n",
       " (11, 0.8757595432632084),\n",
       " (10, 0.8724183938974062),\n",
       " (40, 0.8711914392665276),\n",
       " (46, 0.8679170708120062),\n",
       " (29, 0.8661684262868382),\n",
       " (78, 0.8646666119948149),\n",
       " (55, 0.8638226843729453),\n",
       " (104, 0.8633226941972919),\n",
       " (35, 0.8629084751927727),\n",
       " (3, 0.8618538638168161),\n",
       " (99, 0.8604981353965746),\n",
       " (61, 0.859017140110611),\n",
       " (9, 0.8532644135575933),\n",
       " (31, 0.852422387429576),\n",
       " (7, 0.8440046994244179),\n",
       " (12, 0.8382806741405252),\n",
       " (4, 0.8371408564107108),\n",
       " (94, 0.8345265894229112),\n",
       " (95, 0.8339293038081083),\n",
       " (98, 0.8032294963663033),\n",
       " (42, 0.8023298607107219),\n",
       " (53, 0.7603350712437034)]"
      ]
     },
     "execution_count": 737,
     "metadata": {},
     "output_type": "execute_result"
    }
   ],
   "source": [
    "sims_ft"
   ]
  },
  {
   "cell_type": "code",
   "execution_count": 731,
   "metadata": {},
   "outputs": [
    {
     "data": {
      "text/html": [
       "<div>\n",
       "<style scoped>\n",
       "    .dataframe tbody tr th:only-of-type {\n",
       "        vertical-align: middle;\n",
       "    }\n",
       "\n",
       "    .dataframe tbody tr th {\n",
       "        vertical-align: top;\n",
       "    }\n",
       "\n",
       "    .dataframe thead th {\n",
       "        text-align: right;\n",
       "    }\n",
       "</style>\n",
       "<table border=\"1\" class=\"dataframe\">\n",
       "  <thead>\n",
       "    <tr style=\"text-align: right;\">\n",
       "      <th></th>\n",
       "    </tr>\n",
       "  </thead>\n",
       "  <tbody>\n",
       "  </tbody>\n",
       "</table>\n",
       "</div>"
      ],
      "text/plain": [
       "Empty DataFrame\n",
       "Columns: []\n",
       "Index: []"
      ]
     },
     "execution_count": 731,
     "metadata": {},
     "output_type": "execute_result"
    }
   ],
   "source": [
    "df_fp = pd.DataFrame()\n",
    "for metadata in wmd_non:\n",
    "    df_fp=df_fp.append(df[df['Title']==metadata])\n",
    "#     print(metadata)\n",
    "df_fp.drop(['Label'], axis=1)\n",
    "# df[df['Title']==wmd_non[0]]"
   ]
  },
  {
   "cell_type": "code",
   "execution_count": 732,
   "metadata": {},
   "outputs": [
    {
     "data": {
      "text/html": [
       "<div>\n",
       "<style scoped>\n",
       "    .dataframe tbody tr th:only-of-type {\n",
       "        vertical-align: middle;\n",
       "    }\n",
       "\n",
       "    .dataframe tbody tr th {\n",
       "        vertical-align: top;\n",
       "    }\n",
       "\n",
       "    .dataframe thead th {\n",
       "        text-align: right;\n",
       "    }\n",
       "</style>\n",
       "<table border=\"1\" class=\"dataframe\">\n",
       "  <thead>\n",
       "    <tr style=\"text-align: right;\">\n",
       "      <th></th>\n",
       "      <th>Title</th>\n",
       "      <th>Abstract</th>\n",
       "      <th>Keywords</th>\n",
       "      <th>Source</th>\n",
       "      <th>content</th>\n",
       "    </tr>\n",
       "  </thead>\n",
       "  <tbody>\n",
       "    <tr>\n",
       "      <td>9</td>\n",
       "      <td>GALE: Geometric Active Learning for Search-Bas...</td>\n",
       "      <td>Multi-objective evolutionary algorithms (MOEAs...</td>\n",
       "      <td>Optimization , Software , Computational modeli...</td>\n",
       "      <td>IEEE</td>\n",
       "      <td>GALE: Geometric Active Learning for Search-Bas...</td>\n",
       "    </tr>\n",
       "    <tr>\n",
       "      <td>15</td>\n",
       "      <td>Collaborative Modeling Process for Development...</td>\n",
       "      <td>The discrete event systems specification (DEVS...</td>\n",
       "      <td>Unified modeling language , Object oriented mo...</td>\n",
       "      <td>IEEE</td>\n",
       "      <td>Collaborative Modeling Process for Development...</td>\n",
       "    </tr>\n",
       "    <tr>\n",
       "      <td>4</td>\n",
       "      <td>What Predicts Software Developers' Productivity?</td>\n",
       "      <td>Organizations have a variety of options to hel...</td>\n",
       "      <td>Productivity, Software, Companies, Google, Too...</td>\n",
       "      <td>IEEE</td>\n",
       "      <td>What Predicts Software Developers' Productivit...</td>\n",
       "    </tr>\n",
       "    <tr>\n",
       "      <td>115</td>\n",
       "      <td>An Initial Ontology for System Qualities</td>\n",
       "      <td>This paper presents an initial ontology for re...</td>\n",
       "      <td>ontology system qualities COCOMO</td>\n",
       "      <td>Wiley</td>\n",
       "      <td>An Initial Ontology for System Qualities This ...</td>\n",
       "    </tr>\n",
       "    <tr>\n",
       "      <td>116</td>\n",
       "      <td>Deflecting Arrow by Aggregating Rankings of Mu...</td>\n",
       "      <td>This paper has two objectives. The first is to...</td>\n",
       "      <td>Arrow 's impossibility theorem Borda count mul...</td>\n",
       "      <td>Wiley</td>\n",
       "      <td>Deflecting Arrow by Aggregating Rankings of Mu...</td>\n",
       "    </tr>\n",
       "    <tr>\n",
       "      <td>120</td>\n",
       "      <td>Balancing Time-to-Market and Quality in Embedd...</td>\n",
       "      <td>Finding a balance between the time‐to‐market a...</td>\n",
       "      <td>time‐to‐market quality release readiness effor...</td>\n",
       "      <td>Wiley</td>\n",
       "      <td>Balancing Time-to-Market and Quality in Embedd...</td>\n",
       "    </tr>\n",
       "    <tr>\n",
       "      <td>52</td>\n",
       "      <td>Bidirectional migration between variability an...</td>\n",
       "      <td>The product line engineering (PLE) has proven ...</td>\n",
       "      <td>Product line engineering Software cost estimat...</td>\n",
       "      <td>Springer Link</td>\n",
       "      <td>Bidirectional migration between variability an...</td>\n",
       "    </tr>\n",
       "    <tr>\n",
       "      <td>66</td>\n",
       "      <td>A second look at Faster, Better, Cheaper</td>\n",
       "      <td>“Faster, Better, Cheaper” (FBC) was a systems ...</td>\n",
       "      <td>Software engineering Predictor models COCOMO F...</td>\n",
       "      <td>Springer Link</td>\n",
       "      <td>A second look at Faster, Better, Cheaper “Fast...</td>\n",
       "    </tr>\n",
       "  </tbody>\n",
       "</table>\n",
       "</div>"
      ],
      "text/plain": [
       "                                                 Title  \\\n",
       "9    GALE: Geometric Active Learning for Search-Bas...   \n",
       "15   Collaborative Modeling Process for Development...   \n",
       "4     What Predicts Software Developers' Productivity?   \n",
       "115           An Initial Ontology for System Qualities   \n",
       "116  Deflecting Arrow by Aggregating Rankings of Mu...   \n",
       "120  Balancing Time-to-Market and Quality in Embedd...   \n",
       "52   Bidirectional migration between variability an...   \n",
       "66            A second look at Faster, Better, Cheaper   \n",
       "\n",
       "                                              Abstract  \\\n",
       "9    Multi-objective evolutionary algorithms (MOEAs...   \n",
       "15   The discrete event systems specification (DEVS...   \n",
       "4    Organizations have a variety of options to hel...   \n",
       "115  This paper presents an initial ontology for re...   \n",
       "116  This paper has two objectives. The first is to...   \n",
       "120  Finding a balance between the time‐to‐market a...   \n",
       "52   The product line engineering (PLE) has proven ...   \n",
       "66   “Faster, Better, Cheaper” (FBC) was a systems ...   \n",
       "\n",
       "                                              Keywords         Source  \\\n",
       "9    Optimization , Software , Computational modeli...           IEEE   \n",
       "15   Unified modeling language , Object oriented mo...           IEEE   \n",
       "4    Productivity, Software, Companies, Google, Too...           IEEE   \n",
       "115                   ontology system qualities COCOMO          Wiley   \n",
       "116  Arrow 's impossibility theorem Borda count mul...          Wiley   \n",
       "120  time‐to‐market quality release readiness effor...          Wiley   \n",
       "52   Product line engineering Software cost estimat...  Springer Link   \n",
       "66   Software engineering Predictor models COCOMO F...  Springer Link   \n",
       "\n",
       "                                               content  \n",
       "9    GALE: Geometric Active Learning for Search-Bas...  \n",
       "15   Collaborative Modeling Process for Development...  \n",
       "4    What Predicts Software Developers' Productivit...  \n",
       "115  An Initial Ontology for System Qualities This ...  \n",
       "116  Deflecting Arrow by Aggregating Rankings of Mu...  \n",
       "120  Balancing Time-to-Market and Quality in Embedd...  \n",
       "52   Bidirectional migration between variability an...  \n",
       "66   A second look at Faster, Better, Cheaper “Fast...  "
      ]
     },
     "execution_count": 732,
     "metadata": {},
     "output_type": "execute_result"
    }
   ],
   "source": [
    "df_fn = pd.DataFrame()\n",
    "for metadata in fn:\n",
    "    df_fn=df_fn.append(df[df['Title']==metadata])\n",
    "df_fn.drop(['Label'], axis=1)"
   ]
  },
  {
   "cell_type": "code",
   "execution_count": 742,
   "metadata": {},
   "outputs": [
    {
     "name": "stdout",
     "output_type": "stream",
     "text": [
      "Query:\n",
      "cocomo estimation\n",
      "Measuring and predicting software productivity: A systematic map and review\n",
      "Quantitative Defects Management in Iterative Development with BiDefect\n",
      "Model for improving the accuracy of relevant project selection in analogy using differential evolution algorithm\n",
      "Reducing software defects removal cost via design of experiments using Taguchi approach\n",
      "An Efficient Software Defect Analysis Using Correlation-Based Oversampling\n",
      "Estimating, planning and managing Agile Web development projects under a value-based perspective\n",
      "Reuse in Systems Engineering\n",
      "Software Development Effort Estimation based-on multiple classifier system and Lines of Code\n",
      "Identifying factors affecting software development cost and productivity\n",
      "Software cost estimating for CMMI Level 5 developers\n",
      "Increasing the accuracy of software development effort estimation using projects clustering\n",
      "Special issue on repeatable results in software engineering prediction\n",
      "Reconciling software architecture and source code in support of software evolution\n",
      "Reliability Improvement of Major Defense Acquisition Program Cost Estimates—Mapping DoDAF to COSYSMO\n",
      "Local versus Global Lessons for Defect Prediction and Effort Estimation\n",
      "Multi-Modal Design of an Intelligent Transportation System\n",
      "A taxonomy of design methods process models\n",
      "A Practical Approach to Size Estimation of Embedded Software Components\n",
      "Neural networks for predicting the duration of new software projects\n",
      "Towards an early software estimation using log-linear regression and a multilayer perceptron model\n",
      "Robust Statistical Methods for Empirical Software Engineering\n",
      "Enhancing the food locations in an artificial bee colony algorithm\n",
      "Development of a luminescence syncytium induction assay (LuSIA) for easily detecting and quantitatively measuring bovine leukemia virus infection\n",
      "Hasil yang tertangkap dari dataset yang bukan COCOMO sebanyak 0\n"
     ]
    }
   ],
   "source": [
    "wmd_non = list()\n",
    "print('Query:')\n",
    "print(sentence1)\n",
    "count = 0\n",
    "for i in range(23):\n",
    "#     print('sim = %.3f' % sims_ft[i][1])\n",
    "    if sims_ft_non[i][1] > 0.85:\n",
    "#         print(non_cocomo.Title.iloc[sims_ft_non[i][0]])\n",
    "        wmd_non.append(non_cocomo.Title.iloc[sims_ft_non[i][0]])\n",
    "        count = count + 1\n",
    "    else:\n",
    "        print(non_cocomo.Title.iloc[sims_ft_non[i][0]])\n",
    "print(\"Hasil yang tertangkap dari dataset yang bukan COCOMO sebanyak {}\".format(count))"
   ]
  },
  {
   "cell_type": "code",
   "execution_count": 741,
   "metadata": {
    "scrolled": true
   },
   "outputs": [
    {
     "name": "stdout",
     "output_type": "stream",
     "text": [
      "Query:\n",
      "cocomo estimation\n",
      "Hasil yang tertangkap dari dataset yang COCOMO sebanyak 97\n"
     ]
    }
   ],
   "source": [
    "wmd = list()\n",
    "fn = list()\n",
    "print('Query:')\n",
    "print(sentence1)\n",
    "count = 0\n",
    "for i in range(105):\n",
    "#     print('sim = %.3f' % sims_w2v[i][1])\n",
    "    if sims_ft[i][1] > 0.85:\n",
    "#         print(cocomo.Title.iloc[sims_ft[i][0]])\n",
    "        wmd.append(cocomo.Title.iloc[sims_ft[i][0]])\n",
    "        count = count + 1\n",
    "    else:\n",
    "#         print(cocomo.Title.iloc[sims_ft[i][0]])\n",
    "        fn.append(cocomo.Title.iloc[sims_ft[i][0]])\n",
    "print(\"Hasil yang tertangkap dari dataset yang COCOMO sebanyak {}\".format(count))"
   ]
  },
  {
   "cell_type": "code",
   "execution_count": 607,
   "metadata": {},
   "outputs": [
    {
     "data": {
      "text/plain": [
       "96"
      ]
     },
     "execution_count": 607,
     "metadata": {},
     "output_type": "execute_result"
    }
   ],
   "source": [
    "len(wmd)"
   ]
  },
  {
   "cell_type": "code",
   "execution_count": 474,
   "metadata": {},
   "outputs": [
    {
     "name": "stdout",
     "output_type": "stream",
     "text": [
      "Query:\n",
      "cocomo\n",
      "sim = 0.865\n",
      "An Integrative Economic Optimization Approach to Systems Development Risk Management\n",
      "sim = 0.488\n",
      "The optimal level of CRM IT investments\n",
      "sim = 0.381\n",
      "Multi-Modal Design of an Intelligent Transportation System\n",
      "sim = 0.380\n",
      "Decision model for allocating human resources in information system projects\n",
      "sim = 0.375\n",
      "Neuro fuzzy—COCOMO II model for software cost estimation\n",
      "sim = 0.328\n",
      "Software effort estimation based on the optimal Bayesian belief network\n",
      "sim = 0.319\n",
      "Efficient effort estimation system viz. function points and quality assurance coverage\n",
      "sim = 0.313\n",
      "Predicting the software performance during feasibility study\n",
      "sim = 0.308\n",
      "The state-of-the-art in software development effort estimation\n",
      "sim = 0.301\n",
      "Balancing Time-to-Market and Quality in Embedded Systems\n",
      "sim = 0.298\n",
      "Software cost estimation for component based fourth-generation language software applications\n",
      "sim = 0.296\n",
      "A contingency estimation model for software projects\n",
      "sim = 0.291\n",
      "Duplex output software effort estimation model with self-guided interpretation\n",
      "sim = 0.291\n",
      "Economies and diseconomies of scale in software development\n",
      "sim = 0.289\n",
      "Recent Methods for Software Effort Estimation by Analogy\n",
      "sim = 0.289\n",
      "Negative results for software effort estimation\n",
      "sim = 0.285\n",
      "A Class of Hybrid Multilayer Perceptrons for Software Development Effort Estimation Problems\n",
      "sim = 0.283\n",
      "Neural network-based models for software effort estimation: a review\n",
      "sim = 0.281\n",
      "Stable rankings for different effort models\n",
      "sim = 0.281\n",
      "Systematic literature review of machine learning based software development effort estimation models\n",
      "sim = 0.279\n",
      "A PSO-based model to increase the accuracy of software development effort estimation\n",
      "sim = 0.277\n",
      "Model for improving the accuracy of relevant project selection in analogy using differential evolution algorithm\n",
      "sim = 0.277\n",
      "Satin bowerbird optimizer: A new optimization algorithm to optimize ANFIS for software development effort estimation\n",
      "sim = 0.277\n",
      "A Comparative Analysis on Effort Estimation for Agile and Non‑agile Software Projects Using DBN‑ALO\n",
      "sim = 0.275\n",
      "MND-SCEMP: an empirical study of a software cost estimation modeling process in the defense domain\n",
      "sim = 0.275\n",
      "Comparison of weighted grey relational analysis for software effort estimation\n",
      "sim = 0.274\n",
      "Dynamic project performance estimation by combining static estimation models with system dynamics\n",
      "sim = 0.273\n",
      "Cost estimation model using enhance-based differential evolution algorithm\n",
      "sim = 0.273\n",
      "A Novel Fuzzy Based Approach for Effort Estimation in Software Development\n",
      "sim = 0.270\n",
      "A simulation model for strategic management process of software projects\n",
      "sim = 0.269\n",
      "Cuckoo search-based hybrid models for improving the accuracy of software effort estimation\n",
      "sim = 0.269\n",
      "Towards an early software estimation using log-linear regression and a multilayer perceptron model\n",
      "sim = 0.268\n",
      "A flexible method to estimate the software development effort based on the classification of projects and localization of comparisons\n",
      "sim = 0.268\n",
      "Multi objective differential evolution using homeostasis-based mutation for application in software cost estimation\n",
      "sim = 0.267\n",
      "Improving the accuracy of COPLIMO to estimate the payoff of a software product line\n",
      "sim = 0.267\n",
      "Deflecting Arrow by Aggregating Rankings of Multiple Correlated Criteria According to Borda\n",
      "sim = 0.266\n",
      "A hybrid model of wavelet neural network and metaheuristic algorithm for software development effort estimation\n",
      "sim = 0.265\n",
      "The situational factors that affect the software development process: Towards a comprehensive reference framework\n",
      "sim = 0.263\n",
      "Validation of Existing Software Effort Estimation Techniques in Context with Mobile Software Applications\n",
      "sim = 0.262\n",
      "LMES: A localized multi-estimator model to estimate software development effort\n",
      "sim = 0.262\n",
      "Probabilistic size proxy for software effort prediction: A framework\n",
      "sim = 0.261\n",
      "Software Development Effort Estimation based-on multiple classifier system and Lines of Code\n",
      "sim = 0.261\n",
      "An empirical evaluation of ensemble adjustment methods for analogy-based effort estimation\n",
      "sim = 0.260\n",
      "Fuzzy grey relational analysis for software effort estimation\n",
      "sim = 0.259\n",
      "Balancing uncertainty of context in ERP project estimation: an approach and a case study\n",
      "sim = 0.258\n",
      "Empirical evaluation of an entropy‐based approach to estimation variation of software development effort\n",
      "sim = 0.255\n",
      "Constraint-based human resource allocation in software projects\n",
      "sim = 0.254\n",
      "GA-based method for feature selection and parameters optimization for machine learning regression applied to software effort estimation\n",
      "sim = 0.253\n",
      "Predicting software project effort: A grey relational analysis-based method\n",
      "sim = 0.251\n",
      "Towards functional change decision support based on COSMIC FSM method\n",
      "sim = 0.251\n",
      "An effective software project effort estimation system using optimal firefly algorithm\n",
      "sim = 0.250\n",
      "Analogy-based software effort estimation using Fuzzy numbers\n",
      "sim = 0.249\n",
      "Investigating the use of duration‐based windows and estimation by analogy for COCOMO\n",
      "sim = 0.248\n",
      "A mapping model for assessing project effort from requirements\n",
      "sim = 0.246\n",
      "A controlled experiment in assessing and estimating software maintenance tasks\n",
      "sim = 0.245\n",
      "Accuracy Comparison of Analogy-Based Software Development Effort Estimation Techniques\n",
      "sim = 0.242\n",
      "A novel fuzzy mechanism for risk assessment in software projects\n",
      "sim = 0.240\n",
      "Special issue on repeatable results in software engineering prediction\n",
      "sim = 0.240\n",
      "Software development effort prediction of industrial projects applying a general regression neural network\n",
      "sim = 0.239\n",
      "Optimizing design parameters of fuzzy model based COCOMO using genetic algorithms\n",
      "sim = 0.233\n",
      "Software effort estimation using FAHP and weighted kernel LSSVM machine\n",
      "sim = 0.232\n",
      "Software project portfolio optimization with advanced multi objective evolutionary algorithms\n",
      "sim = 0.230\n",
      "Exploiting the Essential Assumptions of Analogy-Based Effort Estimation\n",
      "sim = 0.229\n",
      "Identifying factors affecting software development cost and productivity\n",
      "sim = 0.228\n",
      "Software Cost Estimation Using Fuzzy Logic\n",
      "sim = 0.226\n",
      "A systematic literature review of software effort prediction using machine learning methods\n",
      "sim = 0.225\n",
      "Fuzzy Emotional COCOMO II Software Cost Estimation (FECSCE) using Multi-Agent Systems\n",
      "sim = 0.225\n",
      "Data Mining Techniques for Software Effort Estimation: A Comparative Study\n",
      "sim = 0.224\n",
      "An empirical approach for early estimation of software testing effort using SRS document\n",
      "sim = 0.223\n",
      "Functional networks as a novel data mining paradigm in forecasting software development efforts\n",
      "sim = 0.220\n",
      "A multiplicative model of software defect repair times\n",
      "sim = 0.220\n",
      "Architecture analysis of enterprise systems modifiability – Models, analysis, and validation\n",
      "sim = 0.219\n",
      "Using static and dynamic impact analysis for effort estimation\n",
      "sim = 0.219\n",
      "Hybrid morphological methodology for software development cost estimation\n",
      "sim = 0.217\n",
      "An Initial Ontology for System Qualities\n",
      "sim = 0.213\n",
      "Re-estimating software effort using prior phase efforts and data mining techniques\n",
      "sim = 0.212\n",
      "Neural networks for predicting the duration of new software projects\n",
      "sim = 0.208\n",
      "Valuing Software Service Development in Support of Business-to-Consumer Services\n",
      "sim = 0.206\n",
      "Which models of the past are relevant to the present? A software effort estimation approach to exploiting useful past models\n",
      "sim = 0.204\n",
      "An effective approach for software project effort and duration estimation with machine learning algorithms\n",
      "sim = 0.203\n",
      "Active learning and effort estimation: Finding the essential content of software effort estimation data\n",
      "sim = 0.201\n",
      "Granularity of Services: An Economic Analysis\n",
      "sim = 0.201\n",
      "Value of ranked voting methods for estimation by analogy\n",
      "sim = 0.200\n",
      "Defectivity profiling with dynamic COQUALMO: An explication and product quality retrospective\n",
      "sim = 0.198\n",
      "Evaluating Pred(p) and standardized accuracy criteria in software development effort estimation\n",
      "sim = 0.197\n",
      "Comparison of estimation methods of cost and duration in IT projects\n",
      "sim = 0.197\n",
      "Determining relevant training data for effort estimation using Window-based COCOMO calibration\n",
      "sim = 0.197\n",
      "Reuse in Systems Engineering\n",
      "sim = 0.196\n",
      "Integrating firefly algorithm in artificial neural network models for accurate software cost predictions\n",
      "sim = 0.195\n",
      "Collaborative Modeling Process for Development of Domain-Specific Discrete Event Simulation Systems\n",
      "sim = 0.191\n",
      "A replicated assessment and comparison of adaptation techniques for analogy-based effort estimation\n",
      "sim = 0.191\n",
      "Finding conclusion stability for selecting the best effort predictor in software effort estimation\n",
      "sim = 0.189\n",
      "Software cost estimating for CMMI Level 5 developers\n",
      "sim = 0.188\n",
      "Validity and reliability of evaluation procedures in comparative studies of effort prediction models\n",
      "sim = 0.187\n",
      "Improved estimation of software development effort using Classical and Fuzzy Analogy ensembles\n",
      "sim = 0.184\n",
      "An Efficient Software Defect Analysis Using Correlation-Based Oversampling\n",
      "sim = 0.184\n",
      "Pareto efficient multi-objective optimization for local tuning of analogy-based estimation\n",
      "sim = 0.182\n",
      "Software cost optimization integrating fuzzy system and COA-Cuckoo optimization algorithm\n",
      "sim = 0.182\n",
      "GALE: Geometric Active Learning for Search-Based Software Engineering\n",
      "sim = 0.181\n",
      "The Use of Software Engineering Methods for Efficacious Test Program Creation: A Supportive Evidence Based Case Study\n",
      "sim = 0.181\n",
      "Learning Project Management Decisions: A Case Study with Case-Based Reasoning versus Data Farming\n",
      "sim = 0.180\n",
      "Analyzing and handling local bias for calibrating parametric cost estimation models\n",
      "sim = 0.171\n",
      "Handling imprecision and uncertainty in software development effort prediction: A type-2 fuzzy logic-based framework\n",
      "sim = 0.170\n",
      "A second look at Faster, Better, Cheaper\n",
      "sim = 0.169\n",
      "Reliability Improvement of Major Defense Acquisition Program Cost Estimates—Mapping DoDAF to COSYSMO\n"
     ]
    }
   ],
   "source": [
    "scs = list()\n",
    "print('Query:')\n",
    "print(sentence)\n",
    "for i in range(num_best):\n",
    "    print\n",
    "    print('sim = %.3f' % sim_soft[i][1])\n",
    "    print(df.Title.iloc[sim_soft[i][0]])\n",
    "    scs.append(df.Title.iloc[sim_soft[i][0]])"
   ]
  },
  {
   "cell_type": "code",
   "execution_count": 241,
   "metadata": {},
   "outputs": [],
   "source": [
    "from gensim.corpora import Dictionary\n",
    "from gensim.models import WordEmbeddingSimilarityIndex\n",
    "from gensim.models import TfidfModel\n",
    "from gensim.similarities import SoftCosineSimilarity, SparseTermSimilarityMatrix"
   ]
  },
  {
   "cell_type": "code",
   "execution_count": 465,
   "metadata": {},
   "outputs": [],
   "source": [
    "dct = Dictionary(corpus_lemma)\n",
    "corpus_tfidf = [dct.doc2bow(text) for text in corpus_lemma]\n",
    "model_tfidf = TfidfModel(corpus_tfidf)"
   ]
  },
  {
   "cell_type": "code",
   "execution_count": 468,
   "metadata": {},
   "outputs": [],
   "source": [
    "termsim_index = WordEmbeddingSimilarityIndex(model_ft.wv)\n",
    "dictionary = Dictionary(corpus_lemma)\n",
    "tfidf = TfidfModel(dictionary=dictionary)\n",
    "# bow_corpus = [dictionary.doc2bow(document) for document in corpus_lemma]\n",
    "similarity_matrix = SparseTermSimilarityMatrix(termsim_index, dictionary, tfidf)\n",
    "index = SoftCosineSimilarity(tfidf[[dictionary.doc2bow(document) for document in corpus_lemma]], similarity_matrix, num_best=105)"
   ]
  },
  {
   "cell_type": "code",
   "execution_count": 693,
   "metadata": {},
   "outputs": [],
   "source": [
    "start = time()\n",
    "\n",
    "sentence = 'cocomo software cost'\n",
    "query = preprocess(sentence)\n",
    "query = lemmatize(query)"
   ]
  },
  {
   "cell_type": "code",
   "execution_count": 736,
   "metadata": {},
   "outputs": [
    {
     "name": "stdout",
     "output_type": "stream",
     "text": [
      "cocomo estimation\n"
     ]
    }
   ],
   "source": [
    "start = time()\n",
    "\n",
    "sentence1 = 'cocomo ' + similar\n",
    "print(sentence1)\n",
    "query = preprocess(sentence1)\n",
    "query = lemmatize(query)"
   ]
  },
  {
   "cell_type": "code",
   "execution_count": 470,
   "metadata": {},
   "outputs": [
    {
     "name": "stdout",
     "output_type": "stream",
     "text": [
      "Cell took 0.00 minutes to run.\n"
     ]
    },
    {
     "name": "stderr",
     "output_type": "stream",
     "text": [
      "C:\\Users\\nabil\\Anaconda3\\lib\\site-packages\\gensim\\similarities\\termsim.py:358: RuntimeWarning: divide by zero encountered in true_divide\n",
      "  Y = np.multiply(Y, 1 / np.sqrt(Y_norm))\n",
      "C:\\Users\\nabil\\Anaconda3\\lib\\site-packages\\gensim\\similarities\\termsim.py:358: RuntimeWarning: invalid value encountered in multiply\n",
      "  Y = np.multiply(Y, 1 / np.sqrt(Y_norm))\n"
     ]
    }
   ],
   "source": [
    "start = time()\n",
    "query = tfidf[dictionary.doc2bow(query)]\n",
    "sim_soft = index[query]\n",
    "print('Cell took %.2f minutes to run.' %((time() - start)/60))"
   ]
  },
  {
   "cell_type": "code",
   "execution_count": 27,
   "metadata": {},
   "outputs": [
    {
     "data": {
      "text/plain": [
       "'Recent Methods for Software Effort Estimation by Analogy'"
      ]
     },
     "execution_count": 27,
     "metadata": {},
     "output_type": "execute_result"
    }
   ],
   "source": [
    "df.Title.iloc[1]"
   ]
  },
  {
   "cell_type": "code",
   "execution_count": 467,
   "metadata": {},
   "outputs": [],
   "source": [
    "truth = list()\n",
    "\n",
    "for x in range(105):\n",
    "    truth.append(int(1))"
   ]
  },
  {
   "cell_type": "code",
   "execution_count": 178,
   "metadata": {},
   "outputs": [
    {
     "data": {
      "text/plain": [
       "'A taxonomy of design methods process models'"
      ]
     },
     "execution_count": 178,
     "metadata": {},
     "output_type": "execute_result"
    }
   ],
   "source": [
    "wmd[104]"
   ]
  },
  {
   "cell_type": "code",
   "execution_count": 447,
   "metadata": {},
   "outputs": [
    {
     "data": {
      "text/plain": [
       "'Model for improving the accuracy of relevant project selection in analogy using differential evolution algorithm'"
      ]
     },
     "execution_count": 447,
     "metadata": {},
     "output_type": "execute_result"
    }
   ],
   "source": [
    "scs[21]"
   ]
  },
  {
   "cell_type": "code",
   "execution_count": 445,
   "metadata": {},
   "outputs": [],
   "source": [
    "list_a = list()\n",
    "count = 0\n",
    "for x in hasil_test_scs:\n",
    "    if x == 0:\n",
    "        list_a.append(count)\n",
    "    count = count + 1"
   ]
  },
  {
   "cell_type": "code",
   "execution_count": 446,
   "metadata": {},
   "outputs": [
    {
     "data": {
      "text/plain": [
       "[2, 21, 31, 41, 57, 63, 76, 87, 92, 95, 104]"
      ]
     },
     "execution_count": 446,
     "metadata": {},
     "output_type": "execute_result"
    }
   ],
   "source": [
    "list_a"
   ]
  },
  {
   "cell_type": "code",
   "execution_count": 177,
   "metadata": {},
   "outputs": [
    {
     "name": "stdout",
     "output_type": "stream",
     "text": [
      "89\n"
     ]
    }
   ],
   "source": [
    "hasil_test = list()\n",
    "count = 0\n",
    "for text in wmd:\n",
    "    if text in test:\n",
    "        hasil_test.append(1)\n",
    "        count = count + 1\n",
    "    else:\n",
    "        hasil_test.append(0)\n",
    "print(count)"
   ]
  },
  {
   "cell_type": "code",
   "execution_count": 479,
   "metadata": {},
   "outputs": [
    {
     "name": "stdout",
     "output_type": "stream",
     "text": [
      "94\n"
     ]
    }
   ],
   "source": [
    "hasil_test_scs = list()\n",
    "count = 0\n",
    "for text in scs:\n",
    "    if text in test:\n",
    "        hasil_test_scs.append(int(1))\n",
    "        count = count + 1\n",
    "    else:\n",
    "        hasil_test_scs.append(0)\n",
    "print(count)"
   ]
  },
  {
   "cell_type": "code",
   "execution_count": 72,
   "metadata": {},
   "outputs": [
    {
     "data": {
      "text/plain": [
       "0.0"
      ]
     },
     "execution_count": 72,
     "metadata": {},
     "output_type": "execute_result"
    }
   ],
   "source": [
    "from sklearn.metrics import cohen_kappa_score\n",
    "\n",
    "cohen_kappa_score(hasil_test, truth)"
   ]
  },
  {
   "cell_type": "code",
   "execution_count": 481,
   "metadata": {},
   "outputs": [
    {
     "data": {
      "text/plain": [
       "(94, 0, 0, 11)"
      ]
     },
     "execution_count": 481,
     "metadata": {},
     "output_type": "execute_result"
    }
   ],
   "source": [
    "def perf_measure(y_actual, y_hat):\n",
    "    TP = 0\n",
    "    FP = 0\n",
    "    TN = 0\n",
    "    FN = 0\n",
    "\n",
    "    for i in range(len(y_hat)): \n",
    "        if y_actual[i]==y_hat[i]==1:\n",
    "           TP += 1\n",
    "        if y_hat[i]==1 and y_actual[i]!=y_hat[i]:\n",
    "           FP += 1\n",
    "        if y_actual[i]==y_hat[i]==0:\n",
    "           TN += 1\n",
    "        if y_hat[i]==0 and y_actual[i]!=y_hat[i]:\n",
    "           FN += 1\n",
    "\n",
    "    return(TP, FP, TN, FN)\n",
    "\n",
    "perf_measure(truth, hasil_test_scs)"
   ]
  },
  {
   "cell_type": "code",
   "execution_count": 484,
   "metadata": {},
   "outputs": [
    {
     "data": {
      "text/plain": [
       "(0, 0, 11, 94)"
      ]
     },
     "execution_count": 484,
     "metadata": {},
     "output_type": "execute_result"
    }
   ],
   "source": [
    "from sklearn.metrics import confusion_matrix\n",
    "tn,fp,fn,tp = confusion_matrix(truth, hasil_test_scs).ravel()\n",
    "(tn,fp,fn,tp)"
   ]
  },
  {
   "cell_type": "code",
   "execution_count": 78,
   "metadata": {},
   "outputs": [],
   "source": [
    "a = list()\n",
    "for x in range(105):\n",
    "    a.append((x+1, hasil_test[x]))"
   ]
  },
  {
   "cell_type": "code",
   "execution_count": 87,
   "metadata": {},
   "outputs": [
    {
     "name": "stdout",
     "output_type": "stream",
     "text": [
      "85 raters.\n",
      "1 subjects.\n",
      "105 categories.\n"
     ]
    },
    {
     "ename": "NameError",
     "evalue": "name 'xrange' is not defined",
     "output_type": "error",
     "traceback": [
      "\u001b[1;31m---------------------------------------------------------------------------\u001b[0m",
      "\u001b[1;31mNameError\u001b[0m                                 Traceback (most recent call last)",
      "\u001b[1;32m<ipython-input-87-3fee48aa3f27>\u001b[0m in \u001b[0;36m<module>\u001b[1;34m\u001b[0m\n\u001b[0;32m      1\u001b[0m \u001b[0mhasil_test\u001b[0m \u001b[1;33m=\u001b[0m \u001b[1;33m[\u001b[0m\u001b[0mhasil_test\u001b[0m\u001b[1;33m]\u001b[0m\u001b[1;33m\u001b[0m\u001b[1;33m\u001b[0m\u001b[0m\n\u001b[1;32m----> 2\u001b[1;33m \u001b[0mcomputeKappa\u001b[0m\u001b[1;33m(\u001b[0m\u001b[0mhasil_test\u001b[0m\u001b[1;33m)\u001b[0m\u001b[1;33m\u001b[0m\u001b[1;33m\u001b[0m\u001b[0m\n\u001b[0m",
      "\u001b[1;32m<ipython-input-83-a2aebe369d4d>\u001b[0m in \u001b[0;36mcomputeKappa\u001b[1;34m(mat)\u001b[0m\n\u001b[0;32m     17\u001b[0m     \u001b[1;31m# Computing p[]\u001b[0m\u001b[1;33m\u001b[0m\u001b[1;33m\u001b[0m\u001b[1;33m\u001b[0m\u001b[0m\n\u001b[0;32m     18\u001b[0m     \u001b[0mp\u001b[0m \u001b[1;33m=\u001b[0m \u001b[1;33m[\u001b[0m\u001b[1;36m0.0\u001b[0m\u001b[1;33m]\u001b[0m \u001b[1;33m*\u001b[0m \u001b[0mk\u001b[0m\u001b[1;33m\u001b[0m\u001b[1;33m\u001b[0m\u001b[0m\n\u001b[1;32m---> 19\u001b[1;33m     \u001b[1;32mfor\u001b[0m \u001b[0mj\u001b[0m \u001b[1;32min\u001b[0m \u001b[0mxrange\u001b[0m\u001b[1;33m(\u001b[0m\u001b[0mk\u001b[0m\u001b[1;33m)\u001b[0m\u001b[1;33m:\u001b[0m\u001b[1;33m\u001b[0m\u001b[1;33m\u001b[0m\u001b[0m\n\u001b[0m\u001b[0;32m     20\u001b[0m         \u001b[0mp\u001b[0m\u001b[1;33m[\u001b[0m\u001b[0mj\u001b[0m\u001b[1;33m]\u001b[0m \u001b[1;33m=\u001b[0m \u001b[1;36m0.0\u001b[0m\u001b[1;33m\u001b[0m\u001b[1;33m\u001b[0m\u001b[0m\n\u001b[0;32m     21\u001b[0m         \u001b[1;32mfor\u001b[0m \u001b[0mi\u001b[0m \u001b[1;32min\u001b[0m \u001b[0mxrange\u001b[0m\u001b[1;33m(\u001b[0m\u001b[0mN\u001b[0m\u001b[1;33m)\u001b[0m\u001b[1;33m:\u001b[0m\u001b[1;33m\u001b[0m\u001b[1;33m\u001b[0m\u001b[0m\n",
      "\u001b[1;31mNameError\u001b[0m: name 'xrange' is not defined"
     ]
    }
   ],
   "source": [
    "hasil_test = [hasil_test]\n",
    "computeKappa(hasil_test)"
   ]
  },
  {
   "cell_type": "code",
   "execution_count": null,
   "metadata": {},
   "outputs": [],
   "source": []
  }
 ],
 "metadata": {
  "kernelspec": {
   "display_name": "Python 3",
   "language": "python",
   "name": "python3"
  },
  "language_info": {
   "codemirror_mode": {
    "name": "ipython",
    "version": 3
   },
   "file_extension": ".py",
   "mimetype": "text/x-python",
   "name": "python",
   "nbconvert_exporter": "python",
   "pygments_lexer": "ipython3",
   "version": "3.7.4"
  }
 },
 "nbformat": 4,
 "nbformat_minor": 2
}
