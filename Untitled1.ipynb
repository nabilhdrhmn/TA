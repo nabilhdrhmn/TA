{
 "cells": [
  {
   "cell_type": "code",
   "execution_count": 334,
   "metadata": {},
   "outputs": [],
   "source": [
    "import pandas as pd\n",
    "import math"
   ]
  },
  {
   "cell_type": "code",
   "execution_count": 266,
   "metadata": {},
   "outputs": [],
   "source": [
    "threshold = 1"
   ]
  },
  {
   "cell_type": "code",
   "execution_count": 39,
   "metadata": {},
   "outputs": [],
   "source": [
    "df_pm = pd.read_excel('Process Mining.xlsx', names=[\"Title\", \"Abstract\", \"Keywords\", \"Source\", \"Label\"])\n",
    "df_ss = pd.read_excel('Semantic Search.xlsx', names=[\"Title\", \"Abstract\", \"Keywords\", \"Source\", \"Label\"])\n",
    "df_mr = pd.read_excel('Mixed Reality.xlsx', names=[\"Title\", \"Abstract\", \"Keywords\", \"Source\", \"Label\"])"
   ]
  },
  {
   "cell_type": "code",
   "execution_count": 40,
   "metadata": {},
   "outputs": [],
   "source": [
    "df_pm['content'] = df_pm[['Title', 'Abstract', 'Keywords']].apply(lambda x: ' '.join(x), axis = 1) \n",
    "df_ss['content'] = df_ss[['Title', 'Abstract', 'Keywords']].apply(lambda x: ' '.join(x), axis = 1) \n",
    "df_mr['content'] = df_mr[['Title', 'Abstract', 'Keywords']].apply(lambda x: ' '.join(x), axis = 1) "
   ]
  },
  {
   "cell_type": "code",
   "execution_count": 41,
   "metadata": {},
   "outputs": [],
   "source": [
    "pm = df_pm[df_pm['Label']=='Yes']\n",
    "del pm['Label']\n",
    "non_pm = df_pm[df_pm['Label']=='No']\n",
    "del non_pm['Label']\n",
    "\n",
    "ss = df_ss[df_ss['Label']=='Yes']\n",
    "del ss['Label']\n",
    "non_ss = df_ss[df_ss['Label']=='No']\n",
    "del non_ss['Label']\n",
    "\n",
    "mr = df_mr[df_mr['Label']=='Yes']\n",
    "del mr['Label']\n",
    "non_mr = df_mr[df_mr['Label']=='No']\n",
    "del non_mr['Label']"
   ]
  },
  {
   "cell_type": "code",
   "execution_count": 43,
   "metadata": {},
   "outputs": [],
   "source": [
    "content_pm = pm['content'].to_list()\n",
    "content_non_pm = non_pm['content'].to_list()\n",
    "content_ss = ss['content'].to_list()\n",
    "content_non_ss = non_ss['content'].to_list()\n",
    "content_mr = mr['content'].to_list()\n",
    "content_non_mr = non_mr['content'].to_list()"
   ]
  },
  {
   "cell_type": "code",
   "execution_count": 44,
   "metadata": {},
   "outputs": [
    {
     "data": {
      "text/plain": [
       "42"
      ]
     },
     "execution_count": 44,
     "metadata": {},
     "output_type": "execute_result"
    }
   ],
   "source": [
    "len(content_pm)"
   ]
  },
  {
   "cell_type": "code",
   "execution_count": 45,
   "metadata": {},
   "outputs": [],
   "source": [
    "import nltk\n",
    "from nltk import word_tokenize\n",
    "from nltk.corpus import stopwords\n",
    "from nltk.stem import WordNetLemmatizer\n",
    "\n",
    "lemmatizer=WordNetLemmatizer()\n",
    "stop_words = stopwords.words('english')\n",
    "\n",
    "def preprocess(doc):\n",
    "    doc = doc.lower()  # Lower the text.\n",
    "    doc = word_tokenize(doc)  # Split into words.\n",
    "    doc = [w for w in doc if not w in stop_words]  # Remove stopwords.\n",
    "    doc = [w for w in doc if w.isalpha()]  # Remove numbers and punctuation.\n",
    "    return doc\n",
    "\n",
    "def lemmatize(doc):\n",
    "    doc_lemma = list()\n",
    "    for word in doc:\n",
    "        doc_lemma.append(lemmatizer.lemmatize(word))\n",
    "    return doc_lemma"
   ]
  },
  {
   "cell_type": "code",
   "execution_count": 46,
   "metadata": {},
   "outputs": [],
   "source": [
    "pm_corpus = list()\n",
    "pm_lemma = list()\n",
    "for x in content_pm:\n",
    "    pm_corpus.append(preprocess(x))\n",
    "for x in pm_corpus:\n",
    "    pm_lemma.append(lemmatize(x))"
   ]
  },
  {
   "cell_type": "code",
   "execution_count": 47,
   "metadata": {},
   "outputs": [],
   "source": [
    "non_pm_corpus = list()\n",
    "non_pm_lemma = list()\n",
    "for x in content_non_pm:\n",
    "    non_pm_corpus.append(preprocess(x))\n",
    "for x in non_pm_corpus:\n",
    "    non_pm_lemma.append(lemmatize(x))"
   ]
  },
  {
   "cell_type": "code",
   "execution_count": 48,
   "metadata": {},
   "outputs": [],
   "source": [
    "ss_corpus = list()\n",
    "ss_lemma = list()\n",
    "for x in content_ss:\n",
    "    ss_corpus.append(preprocess(x))\n",
    "for x in ss_corpus:\n",
    "    ss_lemma.append(lemmatize(x))"
   ]
  },
  {
   "cell_type": "code",
   "execution_count": 49,
   "metadata": {},
   "outputs": [],
   "source": [
    "non_ss_corpus = list()\n",
    "non_ss_lemma = list()\n",
    "for x in content_non_ss:\n",
    "    non_ss_corpus.append(preprocess(x))\n",
    "for x in non_ss_corpus:\n",
    "    non_ss_lemma.append(lemmatize(x))"
   ]
  },
  {
   "cell_type": "code",
   "execution_count": 50,
   "metadata": {},
   "outputs": [],
   "source": [
    "mr_corpus = list()\n",
    "mr_lemma = list()\n",
    "for x in content_mr:\n",
    "    mr_corpus.append(preprocess(x))\n",
    "for x in mr_corpus:\n",
    "    mr_lemma.append(lemmatize(x))"
   ]
  },
  {
   "cell_type": "code",
   "execution_count": 51,
   "metadata": {},
   "outputs": [],
   "source": [
    "non_mr_corpus = list()\n",
    "non_mr_lemma = list()\n",
    "for x in content_non_mr:\n",
    "    non_mr_corpus.append(preprocess(x))\n",
    "for x in non_mr_corpus:\n",
    "    non_mr_lemma.append(lemmatize(x))"
   ]
  },
  {
   "cell_type": "code",
   "execution_count": 52,
   "metadata": {},
   "outputs": [
    {
     "data": {
      "text/plain": [
       "4"
      ]
     },
     "execution_count": 52,
     "metadata": {},
     "output_type": "execute_result"
    }
   ],
   "source": [
    "import multiprocessing\n",
    "from time import time\n",
    "\n",
    "multiprocessing.cpu_count()"
   ]
  },
  {
   "cell_type": "code",
   "execution_count": 53,
   "metadata": {},
   "outputs": [],
   "source": [
    "from gensim.models import FastText as ft"
   ]
  },
  {
   "cell_type": "code",
   "execution_count": 273,
   "metadata": {},
   "outputs": [
    {
     "name": "stdout",
     "output_type": "stream",
     "text": [
      "Cell took 0.16 minutes to run.\n"
     ]
    }
   ],
   "source": [
    "start = time()\n",
    "model_ft_pm = ft(pm_lemma, sg=1, workers=multiprocessing.cpu_count()-1, size=100, iter=5, min_count=5, window=2)\n",
    "print('Cell took %.2f minutes to run.' %((time() - start)/60))"
   ]
  },
  {
   "cell_type": "code",
   "execution_count": 274,
   "metadata": {},
   "outputs": [
    {
     "name": "stdout",
     "output_type": "stream",
     "text": [
      "Cell took 0.15 minutes to run.\n"
     ]
    }
   ],
   "source": [
    "start = time()\n",
    "model_ft_non_pm = ft(non_pm_lemma, sg=1, workers=multiprocessing.cpu_count()-1, size=100, iter=5, min_count=5, window=2)\n",
    "print('Cell took %.2f minutes to run.' %((time() - start)/60))"
   ]
  },
  {
   "cell_type": "code",
   "execution_count": 275,
   "metadata": {},
   "outputs": [
    {
     "name": "stdout",
     "output_type": "stream",
     "text": [
      "Cell took 0.16 minutes to run.\n"
     ]
    }
   ],
   "source": [
    "start = time()\n",
    "model_ft_ss = ft(ss_lemma, sg=1, workers=multiprocessing.cpu_count()-1, size=100, iter=5, min_count=5, window=2)\n",
    "print('Cell took %.2f minutes to run.' %((time() - start)/60))"
   ]
  },
  {
   "cell_type": "code",
   "execution_count": 276,
   "metadata": {},
   "outputs": [
    {
     "name": "stdout",
     "output_type": "stream",
     "text": [
      "Cell took 0.15 minutes to run.\n"
     ]
    }
   ],
   "source": [
    "start = time()\n",
    "model_ft_non_ss = ft(non_ss_lemma, sg=1, workers=multiprocessing.cpu_count()-1, size=100, iter=5, min_count=5, window=2)\n",
    "print('Cell took %.2f minutes to run.' %((time() - start)/60))"
   ]
  },
  {
   "cell_type": "code",
   "execution_count": 277,
   "metadata": {},
   "outputs": [
    {
     "name": "stdout",
     "output_type": "stream",
     "text": [
      "Cell took 0.15 minutes to run.\n"
     ]
    }
   ],
   "source": [
    "start = time()\n",
    "model_ft_mr = ft(mr_lemma, sg=1, workers=multiprocessing.cpu_count()-1, size=100, iter=5, min_count=5, window=2)\n",
    "print('Cell took %.2f minutes to run.' %((time() - start)/60))"
   ]
  },
  {
   "cell_type": "code",
   "execution_count": 278,
   "metadata": {},
   "outputs": [
    {
     "name": "stdout",
     "output_type": "stream",
     "text": [
      "Cell took 0.15 minutes to run.\n"
     ]
    }
   ],
   "source": [
    "start = time()\n",
    "model_ft_non_mr = ft(non_mr_lemma, sg=1, workers=multiprocessing.cpu_count()-1, size=100, iter=5, min_count=5, window=2)\n",
    "print('Cell took %.2f minutes to run.' %((time() - start)/60))"
   ]
  },
  {
   "cell_type": "code",
   "execution_count": 60,
   "metadata": {},
   "outputs": [],
   "source": [
    "from gensim.similarities import WmdSimilarity"
   ]
  },
  {
   "cell_type": "code",
   "execution_count": 172,
   "metadata": {},
   "outputs": [],
   "source": [
    "threshold_ss_1 = 0.85\n",
    "threshold_ss_2 = 0.85\n",
    "threshold_ss_3 = 0.85\n",
    "threshold_pm_1 = 0.85\n",
    "threshold_pm_2 = 0.85\n",
    "threshold_pm_3 = 0.85\n",
    "threshold_mr_1 = 0.85\n",
    "threshold_mr_2 = 0.85\n",
    "threshold_mr_3 = 0.85"
   ]
  },
  {
   "cell_type": "code",
   "execution_count": 1,
   "metadata": {},
   "outputs": [
    {
     "ename": "NameError",
     "evalue": "name 'threshold_mr_1' is not defined",
     "output_type": "error",
     "traceback": [
      "\u001b[1;31m---------------------------------------------------------------------------\u001b[0m",
      "\u001b[1;31mNameError\u001b[0m                                 Traceback (most recent call last)",
      "\u001b[1;32m<ipython-input-1-7f0dfafe460f>\u001b[0m in \u001b[0;36m<module>\u001b[1;34m\u001b[0m\n\u001b[1;32m----> 1\u001b[1;33m \u001b[0mthreshold_mr_1\u001b[0m\u001b[1;33m\u001b[0m\u001b[1;33m\u001b[0m\u001b[0m\n\u001b[0m",
      "\u001b[1;31mNameError\u001b[0m: name 'threshold_mr_1' is not defined"
     ]
    }
   ],
   "source": [
    "threshold_mr_1"
   ]
  },
  {
   "cell_type": "code",
   "execution_count": 173,
   "metadata": {},
   "outputs": [],
   "source": [
    "threshold_non_ss_1 = 0.85\n",
    "threshold_non_ss_2 = 0.85\n",
    "threshold_non_ss_3 = 0.85\n",
    "threshold_non_pm_1 = 0.85\n",
    "threshold_non_pm_2 = 0.85\n",
    "threshold_non_pm_3 = 0.85\n",
    "threshold_non_mr_1 = 0.85\n",
    "threshold_non_mr_2 = 0.85\n",
    "threshold_non_mr_3 = 0.85"
   ]
  },
  {
   "cell_type": "code",
   "execution_count": 279,
   "metadata": {},
   "outputs": [],
   "source": [
    "instance_ft_pm = WmdSimilarity(pm_lemma, model_ft_pm, num_best=len(pm_lemma))\n",
    "instance_ft_non_pm = WmdSimilarity(non_pm_lemma, model_ft_non_pm, num_best=len(non_pm_lemma))\n",
    "\n",
    "instance_ft_ss = WmdSimilarity(ss_lemma, model_ft_ss, num_best=len(ss_lemma))\n",
    "instance_ft_non_ss = WmdSimilarity(non_ss_lemma, model_ft_non_ss, num_best=len(non_ss_lemma))\n",
    "\n",
    "instance_ft_mr = WmdSimilarity(mr_lemma, model_ft_mr, num_best=len(mr_lemma))\n",
    "instance_ft_non_mr = WmdSimilarity(non_mr_lemma, model_ft_non_mr, num_best=len(non_mr_lemma))"
   ]
  },
  {
   "cell_type": "markdown",
   "metadata": {},
   "source": [
    "## Skenario 1"
   ]
  },
  {
   "cell_type": "code",
   "execution_count": 368,
   "metadata": {},
   "outputs": [
    {
     "name": "stdout",
     "output_type": "stream",
     "text": [
      "Cell took 0.01 minutes to run.\n"
     ]
    }
   ],
   "source": [
    "start = time()\n",
    "sentence_pm = 'process mining'\n",
    "query = preprocess(sentence_pm)\n",
    "query_pm = lemmatize(query)\n",
    "sims_ft_pm = instance_ft_pm[query_pm]\n",
    "sims_ft_non_pm = instance_ft_non_pm[query_pm]\n",
    "print('Cell took %.2f minutes to run.' %((time() - start)/60))"
   ]
  },
  {
   "cell_type": "code",
   "execution_count": 399,
   "metadata": {},
   "outputs": [
    {
     "name": "stdout",
     "output_type": "stream",
     "text": [
      "Cell took 0.01 minutes to run.\n"
     ]
    }
   ],
   "source": [
    "start = time()\n",
    "sentence_ss = 'semantic search'\n",
    "query = preprocess(sentence_ss)\n",
    "query_ss = lemmatize(query)\n",
    "sims_ft_ss = instance_ft_ss[query_ss]\n",
    "sims_ft_non_ss = instance_ft_non_ss[query]\n",
    "print('Cell took %.2f minutes to run.' %((time() - start)/60))"
   ]
  },
  {
   "cell_type": "code",
   "execution_count": 363,
   "metadata": {},
   "outputs": [
    {
     "name": "stdout",
     "output_type": "stream",
     "text": [
      "Cell took 0.01 minutes to run.\n"
     ]
    }
   ],
   "source": [
    "start = time()\n",
    "sentence_mr = 'mixed reality'\n",
    "query = preprocess(sentence_mr)\n",
    "query_mr = lemmatize(query)\n",
    "sims_ft_mr = instance_ft_mr[query_mr]\n",
    "sims_ft_non_mr = instance_ft_non_mr[query]\n",
    "print('Cell took %.2f minutes to run.' %((time() - start)/60))"
   ]
  },
  {
   "cell_type": "code",
   "execution_count": 383,
   "metadata": {},
   "outputs": [
    {
     "name": "stderr",
     "output_type": "stream",
     "text": [
      "C:\\Users\\nabil\\Anaconda3\\lib\\site-packages\\ipykernel_launcher.py:1: DeprecationWarning: Call to deprecated `most_similar` (Method will be removed in 4.0.0, use self.wv.most_similar() instead).\n",
      "  \"\"\"Entry point for launching an IPython kernel.\n"
     ]
    },
    {
     "data": {
      "text/plain": [
       "False"
      ]
     },
     "execution_count": 383,
     "metadata": {},
     "output_type": "execute_result"
    }
   ],
   "source": [
    "similar = model_ft_pm.most_similar(positive=query_pm, topn=400)\n",
    "pm_most_similar_1 = similar[0][0]\n",
    "pm_most_similar_10 = similar[9][0]\n",
    "pm_most_similar_20 = similar[19][0]\n",
    "# pm_most_similar_1\n",
    "a = list()\n",
    "for x in range(len(similar)):\n",
    "    a.append(similar[x][0])\n",
    "    \n",
    "'techniques' in a"
   ]
  },
  {
   "cell_type": "code",
   "execution_count": 398,
   "metadata": {},
   "outputs": [
    {
     "name": "stderr",
     "output_type": "stream",
     "text": [
      "C:\\Users\\nabil\\Anaconda3\\lib\\site-packages\\ipykernel_launcher.py:1: DeprecationWarning: Call to deprecated `most_similar` (Method will be removed in 4.0.0, use self.wv.most_similar() instead).\n",
      "  \"\"\"Entry point for launching an IPython kernel.\n"
     ]
    },
    {
     "data": {
      "text/plain": [
       "False"
      ]
     },
     "execution_count": 398,
     "metadata": {},
     "output_type": "execute_result"
    }
   ],
   "source": [
    "similar = model_ft_ss.most_similar(positive=query_ss, topn=50)\n",
    "ss_most_similar_1 = similar[0][0]\n",
    "ss_most_similar_10 = similar[9][0]\n",
    "ss_most_similar_20 = similar[19][0]\n",
    "# ss_most_similar_20\n",
    "\n",
    "a = list()\n",
    "for x in range(len(similar)):\n",
    "    a.append(similar[x][0])\n",
    "    \n",
    "'engine' in a"
   ]
  },
  {
   "cell_type": "code",
   "execution_count": 411,
   "metadata": {},
   "outputs": [
    {
     "name": "stderr",
     "output_type": "stream",
     "text": [
      "C:\\Users\\nabil\\Anaconda3\\lib\\site-packages\\ipykernel_launcher.py:1: DeprecationWarning: Call to deprecated `most_similar` (Method will be removed in 4.0.0, use self.wv.most_similar() instead).\n",
      "  \"\"\"Entry point for launching an IPython kernel.\n"
     ]
    },
    {
     "data": {
      "text/plain": [
       "False"
      ]
     },
     "execution_count": 411,
     "metadata": {},
     "output_type": "execute_result"
    }
   ],
   "source": [
    "similar = model_ft_mr.most_similar(positive=query_mr, topn=50)\n",
    "mr_most_similar_1 = similar[0][0]\n",
    "mr_most_similar_10 = similar[9][0]\n",
    "mr_most_similar_20 = similar[19][0]\n",
    "# mr_most_similar_20\n",
    "\n",
    "a = list()\n",
    "for x in range(len(similar)):\n",
    "    a.append(similar[x][0])\n",
    "\n",
    "'realization' in a"
   ]
  },
  {
   "cell_type": "code",
   "execution_count": 372,
   "metadata": {},
   "outputs": [
    {
     "name": "stdout",
     "output_type": "stream",
     "text": [
      "Query:\n",
      "process mining\n",
      "Hasil True Positive Process Mining: 38\n",
      "Hasil False Negative Process Mining: 4\n"
     ]
    }
   ],
   "source": [
    "wmd = list()\n",
    "print('Query:')\n",
    "print(sentence_pm)\n",
    "tp = 0\n",
    "fn = 0\n",
    "for i in range(len(pm_lemma)):\n",
    "    if round(sims_ft_pm[i][1],2) >= threshold_pm_1:\n",
    "        wmd.append(pm.Title.iloc[sims_ft_pm[i][0]])\n",
    "        tp = tp + 1\n",
    "    else:\n",
    "        fn = fn + 1\n",
    "print(\"Hasil True Positive Process Mining: {}\".format(tp))\n",
    "print(\"Hasil False Negative Process Mining: {}\".format(fn))"
   ]
  },
  {
   "cell_type": "code",
   "execution_count": 289,
   "metadata": {},
   "outputs": [
    {
     "data": {
      "text/html": [
       "<div>\n",
       "<style scoped>\n",
       "    .dataframe tbody tr th:only-of-type {\n",
       "        vertical-align: middle;\n",
       "    }\n",
       "\n",
       "    .dataframe tbody tr th {\n",
       "        vertical-align: top;\n",
       "    }\n",
       "\n",
       "    .dataframe thead th {\n",
       "        text-align: right;\n",
       "    }\n",
       "</style>\n",
       "<table border=\"1\" class=\"dataframe\">\n",
       "  <thead>\n",
       "    <tr style=\"text-align: right;\">\n",
       "      <th></th>\n",
       "      <th>Title</th>\n",
       "      <th>Abstract</th>\n",
       "      <th>Keywords</th>\n",
       "      <th>Source</th>\n",
       "      <th>content</th>\n",
       "    </tr>\n",
       "  </thead>\n",
       "  <tbody>\n",
       "    <tr>\n",
       "      <td>50</td>\n",
       "      <td>A process mining based approach to knowledge m...</td>\n",
       "      <td>The quality of knowledge in the knowledge repo...</td>\n",
       "      <td>Knowledge maintenance Knowledge management Pro...</td>\n",
       "      <td>SpringerLink</td>\n",
       "      <td>A process mining based approach to knowledge m...</td>\n",
       "    </tr>\n",
       "    <tr>\n",
       "      <td>15</td>\n",
       "      <td>An Anti-Noise Process Mining Algorithm Based o...</td>\n",
       "      <td>Many human-centric systems have begun to use b...</td>\n",
       "      <td>Process mining;noise;business process;event lo...</td>\n",
       "      <td>IEEE</td>\n",
       "      <td>An Anti-Noise Process Mining Algorithm Based o...</td>\n",
       "    </tr>\n",
       "    <tr>\n",
       "      <td>28</td>\n",
       "      <td>Developing an internal logistics ontology for ...</td>\n",
       "      <td>Process mining offers the potential for intern...</td>\n",
       "      <td>Process mining; Preprocessing; Internal logist...</td>\n",
       "      <td>Science Direct</td>\n",
       "      <td>Developing an internal logistics ontology for ...</td>\n",
       "    </tr>\n",
       "    <tr>\n",
       "      <td>42</td>\n",
       "      <td>Mining frequent patterns in process models,</td>\n",
       "      <td>Process mining has emerged as a way to analyze...</td>\n",
       "      <td>Frequent pattern mining; Process mining; Proce...</td>\n",
       "      <td>Science Direct</td>\n",
       "      <td>Mining frequent patterns in process models, Pr...</td>\n",
       "    </tr>\n",
       "    <tr>\n",
       "      <td>43</td>\n",
       "      <td>How active learning and process mining can act...</td>\n",
       "      <td>In the context of Continuous Auditing, differe...</td>\n",
       "      <td>Continuous auditing; Internal control testing;...</td>\n",
       "      <td>Science Direct</td>\n",
       "      <td>How active learning and process mining can act...</td>\n",
       "    </tr>\n",
       "  </tbody>\n",
       "</table>\n",
       "</div>"
      ],
      "text/plain": [
       "                                                Title  \\\n",
       "50  A process mining based approach to knowledge m...   \n",
       "15  An Anti-Noise Process Mining Algorithm Based o...   \n",
       "28  Developing an internal logistics ontology for ...   \n",
       "42        Mining frequent patterns in process models,   \n",
       "43  How active learning and process mining can act...   \n",
       "\n",
       "                                             Abstract  \\\n",
       "50  The quality of knowledge in the knowledge repo...   \n",
       "15  Many human-centric systems have begun to use b...   \n",
       "28  Process mining offers the potential for intern...   \n",
       "42  Process mining has emerged as a way to analyze...   \n",
       "43  In the context of Continuous Auditing, differe...   \n",
       "\n",
       "                                             Keywords          Source  \\\n",
       "50  Knowledge maintenance Knowledge management Pro...    SpringerLink   \n",
       "15  Process mining;noise;business process;event lo...            IEEE   \n",
       "28  Process mining; Preprocessing; Internal logist...  Science Direct   \n",
       "42  Frequent pattern mining; Process mining; Proce...  Science Direct   \n",
       "43  Continuous auditing; Internal control testing;...  Science Direct   \n",
       "\n",
       "                                              content  \n",
       "50  A process mining based approach to knowledge m...  \n",
       "15  An Anti-Noise Process Mining Algorithm Based o...  \n",
       "28  Developing an internal logistics ontology for ...  \n",
       "42  Mining frequent patterns in process models, Pr...  \n",
       "43  How active learning and process mining can act...  "
      ]
     },
     "execution_count": 289,
     "metadata": {},
     "output_type": "execute_result"
    }
   ],
   "source": [
    "df_tp = pd.DataFrame()\n",
    "for metadata in wmd:\n",
    "    df_tp=df_tp.append(df_pm[df_pm['Title']==metadata])\n",
    "\n",
    "df_tp = df_tp.drop(['Label'], axis=1)\n",
    "df_tp.head()"
   ]
  },
  {
   "cell_type": "code",
   "execution_count": 374,
   "metadata": {},
   "outputs": [
    {
     "name": "stdout",
     "output_type": "stream",
     "text": [
      "Query:\n",
      "process mining\n",
      "Hasil True Negative Process Mining: 14\n",
      "Hasil False Positive Process Mining: 0\n"
     ]
    }
   ],
   "source": [
    "print('Query:')\n",
    "print(sentence_pm)\n",
    "fp = 0\n",
    "tn = 0\n",
    "for i in range(len(non_pm_lemma)):\n",
    "    if round(sims_ft_non_pm[i][1],2) >= threshold_non_pm_1:\n",
    "        fp = fp + 1\n",
    "    else:\n",
    "        tn = tn + 1\n",
    "        pass\n",
    "print(\"Hasil True Negative Process Mining: {}\".format(tn))\n",
    "print(\"Hasil False Positive Process Mining: {}\".format(fp))"
   ]
  },
  {
   "cell_type": "code",
   "execution_count": 209,
   "metadata": {},
   "outputs": [
    {
     "name": "stdout",
     "output_type": "stream",
     "text": [
      "Hasil Cohen's Kappa dari Skenario 1 Process Mining 0.8928571428571429\n",
      "Hasil Precision dari Skenario 1 Process Mining 1.0\n",
      "Hasil Recall dari Skenario 1 Process Mining 0.8571428571428571\n",
      "Hasil F-1 Score dari Skenario 1 Process Mining 0.923076923076923\n"
     ]
    }
   ],
   "source": [
    "cohen_kappa = (tp + tn)/(tp + tn + fp + fn)\n",
    "precision = tp/(tp+fp)\n",
    "recall = tp/(tp+fn)\n",
    "f1_score = 2 * (precision * recall)/(precision + recall)\n",
    "print(\"Hasil Cohen's Kappa dari Skenario 1 Process Mining {}\".format(cohen_kappa))\n",
    "print(\"Hasil Precision dari Skenario 1 Process Mining {}\".format(precision))\n",
    "print(\"Hasil Recall dari Skenario 1 Process Mining {}\".format(recall))\n",
    "print(\"Hasil F-1 Score dari Skenario 1 Process Mining {}\".format(f1_score))"
   ]
  },
  {
   "cell_type": "code",
   "execution_count": 400,
   "metadata": {},
   "outputs": [
    {
     "name": "stdout",
     "output_type": "stream",
     "text": [
      "Query:\n",
      "semantic search\n",
      "Hasil True Positive Semantic Search: 41\n",
      "Hasil False Negative Semantic Search: 5\n"
     ]
    }
   ],
   "source": [
    "wmd = list()\n",
    "print('Query:')\n",
    "print(sentence_ss)\n",
    "tp = 0\n",
    "fn = 0\n",
    "for i in range(len(ss_lemma)):\n",
    "    if round(sims_ft_ss[i][1],2) >= threshold_ss_1:\n",
    "        wmd.append(ss.Title.iloc[sims_ft_ss[i][0]])\n",
    "        tp = tp + 1\n",
    "    else:\n",
    "        fn = fn + 1\n",
    "        pass\n",
    "print(\"Hasil True Positive Semantic Search: {}\".format(tp))\n",
    "print(\"Hasil False Negative Semantic Search: {}\".format(fn))"
   ]
  },
  {
   "cell_type": "code",
   "execution_count": 212,
   "metadata": {},
   "outputs": [
    {
     "data": {
      "text/html": [
       "<div>\n",
       "<style scoped>\n",
       "    .dataframe tbody tr th:only-of-type {\n",
       "        vertical-align: middle;\n",
       "    }\n",
       "\n",
       "    .dataframe tbody tr th {\n",
       "        vertical-align: top;\n",
       "    }\n",
       "\n",
       "    .dataframe thead th {\n",
       "        text-align: right;\n",
       "    }\n",
       "</style>\n",
       "<table border=\"1\" class=\"dataframe\">\n",
       "  <thead>\n",
       "    <tr style=\"text-align: right;\">\n",
       "      <th></th>\n",
       "      <th>Title</th>\n",
       "      <th>Abstract</th>\n",
       "      <th>Keywords</th>\n",
       "      <th>Source</th>\n",
       "      <th>content</th>\n",
       "    </tr>\n",
       "  </thead>\n",
       "  <tbody>\n",
       "    <tr>\n",
       "      <td>4</td>\n",
       "      <td>Semantic-Aware Searching Over Encrypted Data f...</td>\n",
       "      <td>With the increasing adoption of cloud computin...</td>\n",
       "      <td>Searchable encryption;cloud computing;smart se...</td>\n",
       "      <td>IEEE</td>\n",
       "      <td>Semantic-Aware Searching Over Encrypted Data f...</td>\n",
       "    </tr>\n",
       "    <tr>\n",
       "      <td>6</td>\n",
       "      <td>An Efficient and Dynamic Semantic-Aware Multik...</td>\n",
       "      <td>Traditional searchable encryption schemes adop...</td>\n",
       "      <td>Dynamic update;cloud computing;multikeyword ra...</td>\n",
       "      <td>IEEE</td>\n",
       "      <td>An Efficient and Dynamic Semantic-Aware Multik...</td>\n",
       "    </tr>\n",
       "    <tr>\n",
       "      <td>1</td>\n",
       "      <td>Efficient semantic-based content search in P2P...</td>\n",
       "      <td>Most existing peer-to-peer (P2P) systems suppo...</td>\n",
       "      <td>Intelligent networks;Peer to peer computing;In...</td>\n",
       "      <td>IEEE</td>\n",
       "      <td>Efficient semantic-based content search in P2P...</td>\n",
       "    </tr>\n",
       "    <tr>\n",
       "      <td>0</td>\n",
       "      <td>Enhanced Search Engine Using Proposed Framewor...</td>\n",
       "      <td>Today, most users need search engines to facil...</td>\n",
       "      <td>Information retrieval;semantic search;semantic...</td>\n",
       "      <td>IEEE</td>\n",
       "      <td>Enhanced Search Engine Using Proposed Framewor...</td>\n",
       "    </tr>\n",
       "    <tr>\n",
       "      <td>51</td>\n",
       "      <td>Bridging structured and unstructured data via ...</td>\n",
       "      <td>In this paper, we identify the problems of cur...</td>\n",
       "      <td>Semantic Web User interface design Semantic an...</td>\n",
       "      <td>SpringerLink</td>\n",
       "      <td>Bridging structured and unstructured data via ...</td>\n",
       "    </tr>\n",
       "  </tbody>\n",
       "</table>\n",
       "</div>"
      ],
      "text/plain": [
       "                                                Title  \\\n",
       "4   Semantic-Aware Searching Over Encrypted Data f...   \n",
       "6   An Efficient and Dynamic Semantic-Aware Multik...   \n",
       "1   Efficient semantic-based content search in P2P...   \n",
       "0   Enhanced Search Engine Using Proposed Framewor...   \n",
       "51  Bridging structured and unstructured data via ...   \n",
       "\n",
       "                                             Abstract  \\\n",
       "4   With the increasing adoption of cloud computin...   \n",
       "6   Traditional searchable encryption schemes adop...   \n",
       "1   Most existing peer-to-peer (P2P) systems suppo...   \n",
       "0   Today, most users need search engines to facil...   \n",
       "51  In this paper, we identify the problems of cur...   \n",
       "\n",
       "                                             Keywords        Source  \\\n",
       "4   Searchable encryption;cloud computing;smart se...          IEEE   \n",
       "6   Dynamic update;cloud computing;multikeyword ra...          IEEE   \n",
       "1   Intelligent networks;Peer to peer computing;In...          IEEE   \n",
       "0   Information retrieval;semantic search;semantic...          IEEE   \n",
       "51  Semantic Web User interface design Semantic an...  SpringerLink   \n",
       "\n",
       "                                              content  \n",
       "4   Semantic-Aware Searching Over Encrypted Data f...  \n",
       "6   An Efficient and Dynamic Semantic-Aware Multik...  \n",
       "1   Efficient semantic-based content search in P2P...  \n",
       "0   Enhanced Search Engine Using Proposed Framewor...  \n",
       "51  Bridging structured and unstructured data via ...  "
      ]
     },
     "execution_count": 212,
     "metadata": {},
     "output_type": "execute_result"
    }
   ],
   "source": [
    "df_tp = pd.DataFrame()\n",
    "for metadata in wmd:\n",
    "    df_tp=df_tp.append(df_ss[df_ss['Title']==metadata])\n",
    "\n",
    "df_tp = df_tp.drop(['Label'], axis=1)\n",
    "df_tp.head()"
   ]
  },
  {
   "cell_type": "code",
   "execution_count": 216,
   "metadata": {},
   "outputs": [
    {
     "name": "stdout",
     "output_type": "stream",
     "text": [
      "Query:\n",
      "semantic search\n",
      "Hasil True Negative Semantic Search: 16\n",
      "Hasil False Positive Semantic Search: 0\n"
     ]
    }
   ],
   "source": [
    "print('Query:')\n",
    "print(sentence_ss)\n",
    "tn = 0\n",
    "fp = 0\n",
    "for i in range(len(non_ss_lemma)):\n",
    "    if sims_ft_non_ss[i][1] > threshold_non_ss_1:\n",
    "        fp = fp + 1\n",
    "    else:\n",
    "        tn = tn + 1\n",
    "        pass\n",
    "print(\"Hasil True Negative Semantic Search: {}\".format(c))\n",
    "print(\"Hasil False Positive Semantic Search: {}\".format(count))"
   ]
  },
  {
   "cell_type": "code",
   "execution_count": 218,
   "metadata": {},
   "outputs": [
    {
     "name": "stdout",
     "output_type": "stream",
     "text": [
      "Hasil Cohen's Kappa dari Skenario 1 Semantic Search 0.9193548387096774\n",
      "Hasil Precision dari Skenario 1 Semantic Search 1.0\n",
      "Hasil Recall dari Skenario 1 Semantic Search 0.8913043478260869\n",
      "Hasil F-1 Score dari Skenario 1 Semantic Search 0.9425287356321839\n"
     ]
    }
   ],
   "source": [
    "cohen_kappa = (tp + tn)/(tp + tn + fp + fn)\n",
    "precision = tp/(tp+fp)\n",
    "recall = tp/(tp+fn)\n",
    "f1_score = 2 * (precision * recall)/(precision + recall)\n",
    "print(\"Hasil Cohen's Kappa dari Skenario 1 Semantic Search {}\".format(cohen_kappa))\n",
    "print(\"Hasil Precision dari Skenario 1 Semantic Search {}\".format(precision))\n",
    "print(\"Hasil Recall dari Skenario 1 Semantic Search {}\".format(recall))\n",
    "print(\"Hasil F-1 Score dari Skenario 1 Semantic Search {}\".format(f1_score))"
   ]
  },
  {
   "cell_type": "code",
   "execution_count": 220,
   "metadata": {},
   "outputs": [
    {
     "name": "stdout",
     "output_type": "stream",
     "text": [
      "Query:\n",
      "mixed reality\n",
      "Hasil True Positive Mixed Reality: 38\n",
      "Hasil False Negative Mixed Reality: 5\n"
     ]
    }
   ],
   "source": [
    "wmd = list()\n",
    "print('Query:')\n",
    "print(sentence_mr)\n",
    "tp = 0\n",
    "fn = 0\n",
    "for i in range(len(mr_lemma)):\n",
    "    if sims_ft_mr[i][1] > threshold_mr_1:\n",
    "        wmd.append(mr.Title.iloc[sims_ft_mr[i][0]])\n",
    "        tp = tp + 1\n",
    "    else:\n",
    "        fn = fn + 1\n",
    "        pass\n",
    "print(\"Hasil True Positive Mixed Reality: {}\".format(tp))\n",
    "print(\"Hasil False Negative Mixed Reality: {}\".format(fn))"
   ]
  },
  {
   "cell_type": "code",
   "execution_count": 221,
   "metadata": {},
   "outputs": [
    {
     "data": {
      "text/html": [
       "<div>\n",
       "<style scoped>\n",
       "    .dataframe tbody tr th:only-of-type {\n",
       "        vertical-align: middle;\n",
       "    }\n",
       "\n",
       "    .dataframe tbody tr th {\n",
       "        vertical-align: top;\n",
       "    }\n",
       "\n",
       "    .dataframe thead th {\n",
       "        text-align: right;\n",
       "    }\n",
       "</style>\n",
       "<table border=\"1\" class=\"dataframe\">\n",
       "  <thead>\n",
       "    <tr style=\"text-align: right;\">\n",
       "      <th></th>\n",
       "      <th>Title</th>\n",
       "      <th>Abstract</th>\n",
       "      <th>Keywords</th>\n",
       "      <th>Source</th>\n",
       "      <th>content</th>\n",
       "    </tr>\n",
       "  </thead>\n",
       "  <tbody>\n",
       "    <tr>\n",
       "      <td>46</td>\n",
       "      <td>A systematic literature review of mixed realit...</td>\n",
       "      <td>Various studies have widely utilized mixed rea...</td>\n",
       "      <td>Mixed reality Interactive environments</td>\n",
       "      <td>Springer Link</td>\n",
       "      <td>A systematic literature review of mixed realit...</td>\n",
       "    </tr>\n",
       "    <tr>\n",
       "      <td>11</td>\n",
       "      <td>A Mixed Reality Virtual Clothes Try-On System</td>\n",
       "      <td>Virtual try-on of clothes has received much at...</td>\n",
       "      <td>3D-2D alignment;body customization;mixed reali...</td>\n",
       "      <td>IEEE</td>\n",
       "      <td>A Mixed Reality Virtual Clothes Try-On System ...</td>\n",
       "    </tr>\n",
       "    <tr>\n",
       "      <td>38</td>\n",
       "      <td>Mixed reality-based user interface for quality...</td>\n",
       "      <td>In recent years, the quality control of car bo...</td>\n",
       "      <td>Car body surface quality control; Mixed realit...</td>\n",
       "      <td>Science Direct</td>\n",
       "      <td>Mixed reality-based user interface for quality...</td>\n",
       "    </tr>\n",
       "    <tr>\n",
       "      <td>0</td>\n",
       "      <td>Visuo-Haptic Mixed Reality with Unobstructed T...</td>\n",
       "      <td>Visuo-haptic mixed reality consists of adding ...</td>\n",
       "      <td>image segmentation;haptic interfaces;misalignm...</td>\n",
       "      <td>IEEE</td>\n",
       "      <td>Visuo-Haptic Mixed Reality with Unobstructed T...</td>\n",
       "    </tr>\n",
       "    <tr>\n",
       "      <td>48</td>\n",
       "      <td>Document search support by making physical doc...</td>\n",
       "      <td>This paper presents Limpid Desk that supports ...</td>\n",
       "      <td>Projection-based mixed reality, Document searc...</td>\n",
       "      <td>Springer Link</td>\n",
       "      <td>Document search support by making physical doc...</td>\n",
       "    </tr>\n",
       "  </tbody>\n",
       "</table>\n",
       "</div>"
      ],
      "text/plain": [
       "                                                Title  \\\n",
       "46  A systematic literature review of mixed realit...   \n",
       "11      A Mixed Reality Virtual Clothes Try-On System   \n",
       "38  Mixed reality-based user interface for quality...   \n",
       "0   Visuo-Haptic Mixed Reality with Unobstructed T...   \n",
       "48  Document search support by making physical doc...   \n",
       "\n",
       "                                             Abstract  \\\n",
       "46  Various studies have widely utilized mixed rea...   \n",
       "11  Virtual try-on of clothes has received much at...   \n",
       "38  In recent years, the quality control of car bo...   \n",
       "0   Visuo-haptic mixed reality consists of adding ...   \n",
       "48  This paper presents Limpid Desk that supports ...   \n",
       "\n",
       "                                             Keywords          Source  \\\n",
       "46            Mixed reality Interactive environments    Springer Link   \n",
       "11  3D-2D alignment;body customization;mixed reali...            IEEE   \n",
       "38  Car body surface quality control; Mixed realit...  Science Direct   \n",
       "0   image segmentation;haptic interfaces;misalignm...            IEEE   \n",
       "48  Projection-based mixed reality, Document searc...   Springer Link   \n",
       "\n",
       "                                              content  \n",
       "46  A systematic literature review of mixed realit...  \n",
       "11  A Mixed Reality Virtual Clothes Try-On System ...  \n",
       "38  Mixed reality-based user interface for quality...  \n",
       "0   Visuo-Haptic Mixed Reality with Unobstructed T...  \n",
       "48  Document search support by making physical doc...  "
      ]
     },
     "execution_count": 221,
     "metadata": {},
     "output_type": "execute_result"
    }
   ],
   "source": [
    "df_tp = pd.DataFrame()\n",
    "for metadata in wmd:\n",
    "    df_tp=df_tp.append(df_mr[df_mr['Title']==metadata])\n",
    "\n",
    "df_tp = df_tp.drop(['Label'], axis=1)\n",
    "df_tp.head()"
   ]
  },
  {
   "cell_type": "code",
   "execution_count": 224,
   "metadata": {},
   "outputs": [
    {
     "name": "stdout",
     "output_type": "stream",
     "text": [
      "Query:\n",
      "mixed reality\n",
      "Hasil True Negative Mixed Reality: 9\n",
      "Hasil False Positive Mixed Reality: 0\n"
     ]
    }
   ],
   "source": [
    "print('Query:')\n",
    "print(sentence_mr)\n",
    "tn = 0\n",
    "fp = 0\n",
    "for i in range(len(non_mr_lemma)):\n",
    "    if sims_ft_non_mr[i][1] > threshold_non_mr_1:\n",
    "        fp = fp + 1\n",
    "    else:\n",
    "        tn = tn + 1\n",
    "        pass\n",
    "print(\"Hasil True Negative Mixed Reality: {}\".format(tn))\n",
    "print(\"Hasil False Positive Mixed Reality: {}\".format(fp))"
   ]
  },
  {
   "cell_type": "code",
   "execution_count": 225,
   "metadata": {},
   "outputs": [
    {
     "name": "stdout",
     "output_type": "stream",
     "text": [
      "Hasil Cohen's Kappa dari Skenario 1 Mixed Reality 0.9038461538461539\n",
      "Hasil Precision dari Skenario 1 Mixed Reality 1.0\n",
      "Hasil Recall dari Skenario 1 Mixed Reality 0.8837209302325582\n",
      "Hasil F-1 Score dari Skenario 1 Mixed Reality 0.9382716049382717\n"
     ]
    }
   ],
   "source": [
    "cohen_kappa = (tp + tn)/(tp + tn + fp + fn)\n",
    "precision = tp/(tp+fp)\n",
    "recall = tp/(tp+fn)\n",
    "f1_score = 2 * (precision * recall)/(precision + recall)\n",
    "print(\"Hasil Cohen's Kappa dari Skenario 1 Mixed Reality {}\".format(cohen_kappa))\n",
    "print(\"Hasil Precision dari Skenario 1 Mixed Reality {}\".format(precision))\n",
    "print(\"Hasil Recall dari Skenario 1 Mixed Reality {}\".format(recall))\n",
    "print(\"Hasil F-1 Score dari Skenario 1 Mixed Reality {}\".format(f1_score))"
   ]
  },
  {
   "cell_type": "markdown",
   "metadata": {},
   "source": [
    "## Skenario 2"
   ]
  },
  {
   "cell_type": "code",
   "execution_count": 387,
   "metadata": {},
   "outputs": [
    {
     "name": "stdout",
     "output_type": "stream",
     "text": [
      "Cell took 0.02 minutes to run.\n"
     ]
    }
   ],
   "source": [
    "start = time()\n",
    "sentence_pm = 'process mining' + ' techniques ' + 'model'\n",
    "query = preprocess(sentence_pm)\n",
    "query_pm = lemmatize(query)\n",
    "sims_ft_pm = instance_ft_pm[query_pm]\n",
    "sims_ft_non_pm = instance_ft_non_pm[query_pm]\n",
    "print('Cell took %.2f minutes to run.' %((time() - start)/60))"
   ]
  },
  {
   "cell_type": "code",
   "execution_count": 403,
   "metadata": {},
   "outputs": [
    {
     "name": "stdout",
     "output_type": "stream",
     "text": [
      "Cell took 0.02 minutes to run.\n"
     ]
    }
   ],
   "source": [
    "start = time()\n",
    "sentence_ss = 'semantic search' + ' query'\n",
    "query = preprocess(sentence_ss)\n",
    "query_ss = lemmatize(query)\n",
    "sims_ft_ss = instance_ft_ss[query_ss]\n",
    "sims_ft_non_ss = instance_ft_non_ss[query_ss]\n",
    "print('Cell took %.2f minutes to run.' %((time() - start)/60))"
   ]
  },
  {
   "cell_type": "code",
   "execution_count": 293,
   "metadata": {},
   "outputs": [
    {
     "name": "stdout",
     "output_type": "stream",
     "text": [
      "Cell took 0.02 minutes to run.\n"
     ]
    }
   ],
   "source": [
    "start = time()\n",
    "sentence_mr = 'mixed reality' + ' virtual'\n",
    "query = preprocess(sentence_mr)\n",
    "query_mr = lemmatize(query)\n",
    "sims_ft_mr = instance_ft_mr[query]\n",
    "sims_ft_non_mr = instance_ft_non_mr[query]\n",
    "print('Cell took %.2f minutes to run.' %((time() - start)/60))"
   ]
  },
  {
   "cell_type": "code",
   "execution_count": 388,
   "metadata": {},
   "outputs": [
    {
     "name": "stdout",
     "output_type": "stream",
     "text": [
      "Query:\n",
      "process mining techniques model\n",
      "Hasil True Positive Process Mining: 38\n",
      "Hasil False Negative Process Mining: 4\n"
     ]
    }
   ],
   "source": [
    "wmd = list()\n",
    "print('Query:')\n",
    "print(sentence_pm)\n",
    "tp = 0\n",
    "fn = 0\n",
    "for i in range(len(pm_lemma)):\n",
    "    if round(sims_ft_pm[i][1],2) >= threshold_pm_1:\n",
    "        wmd.append(pm.Title.iloc[sims_ft_pm[i][0]])\n",
    "        tp = tp + 1\n",
    "    else:\n",
    "        fn = fn + 1\n",
    "print(\"Hasil True Positive Process Mining: {}\".format(tp))\n",
    "print(\"Hasil False Negative Process Mining: {}\".format(fn))"
   ]
  },
  {
   "cell_type": "code",
   "execution_count": 343,
   "metadata": {},
   "outputs": [],
   "source": [
    "def truncate(n, decimals=0):\n",
    "    multiplier = 10 ** decimals\n",
    "    return int(n * multiplier) / multiplier"
   ]
  },
  {
   "cell_type": "code",
   "execution_count": 346,
   "metadata": {},
   "outputs": [
    {
     "data": {
      "text/plain": [
       "0.8801"
      ]
     },
     "execution_count": 346,
     "metadata": {},
     "output_type": "execute_result"
    }
   ],
   "source": [
    "truncate(sims_ft_pm[0][1], 4)"
   ]
  },
  {
   "cell_type": "code",
   "execution_count": 231,
   "metadata": {},
   "outputs": [
    {
     "data": {
      "text/html": [
       "<div>\n",
       "<style scoped>\n",
       "    .dataframe tbody tr th:only-of-type {\n",
       "        vertical-align: middle;\n",
       "    }\n",
       "\n",
       "    .dataframe tbody tr th {\n",
       "        vertical-align: top;\n",
       "    }\n",
       "\n",
       "    .dataframe thead th {\n",
       "        text-align: right;\n",
       "    }\n",
       "</style>\n",
       "<table border=\"1\" class=\"dataframe\">\n",
       "  <thead>\n",
       "    <tr style=\"text-align: right;\">\n",
       "      <th></th>\n",
       "      <th>Title</th>\n",
       "      <th>Abstract</th>\n",
       "      <th>Keywords</th>\n",
       "      <th>Source</th>\n",
       "      <th>content</th>\n",
       "    </tr>\n",
       "  </thead>\n",
       "  <tbody>\n",
       "    <tr>\n",
       "      <td>50</td>\n",
       "      <td>A process mining based approach to knowledge m...</td>\n",
       "      <td>The quality of knowledge in the knowledge repo...</td>\n",
       "      <td>Knowledge maintenance Knowledge management Pro...</td>\n",
       "      <td>SpringerLink</td>\n",
       "      <td>A process mining based approach to knowledge m...</td>\n",
       "    </tr>\n",
       "    <tr>\n",
       "      <td>15</td>\n",
       "      <td>An Anti-Noise Process Mining Algorithm Based o...</td>\n",
       "      <td>Many human-centric systems have begun to use b...</td>\n",
       "      <td>Process mining;noise;business process;event lo...</td>\n",
       "      <td>IEEE</td>\n",
       "      <td>An Anti-Noise Process Mining Algorithm Based o...</td>\n",
       "    </tr>\n",
       "    <tr>\n",
       "      <td>28</td>\n",
       "      <td>Developing an internal logistics ontology for ...</td>\n",
       "      <td>Process mining offers the potential for intern...</td>\n",
       "      <td>Process mining; Preprocessing; Internal logist...</td>\n",
       "      <td>Science Direct</td>\n",
       "      <td>Developing an internal logistics ontology for ...</td>\n",
       "    </tr>\n",
       "    <tr>\n",
       "      <td>19</td>\n",
       "      <td>A Framework for the Analysis of Process Mining...</td>\n",
       "      <td>There are many process mining algorithms and r...</td>\n",
       "      <td>Business processes;process mining;machine lear...</td>\n",
       "      <td>IEEE</td>\n",
       "      <td>A Framework for the Analysis of Process Mining...</td>\n",
       "    </tr>\n",
       "    <tr>\n",
       "      <td>43</td>\n",
       "      <td>How active learning and process mining can act...</td>\n",
       "      <td>In the context of Continuous Auditing, differe...</td>\n",
       "      <td>Continuous auditing; Internal control testing;...</td>\n",
       "      <td>Science Direct</td>\n",
       "      <td>How active learning and process mining can act...</td>\n",
       "    </tr>\n",
       "  </tbody>\n",
       "</table>\n",
       "</div>"
      ],
      "text/plain": [
       "                                                Title  \\\n",
       "50  A process mining based approach to knowledge m...   \n",
       "15  An Anti-Noise Process Mining Algorithm Based o...   \n",
       "28  Developing an internal logistics ontology for ...   \n",
       "19  A Framework for the Analysis of Process Mining...   \n",
       "43  How active learning and process mining can act...   \n",
       "\n",
       "                                             Abstract  \\\n",
       "50  The quality of knowledge in the knowledge repo...   \n",
       "15  Many human-centric systems have begun to use b...   \n",
       "28  Process mining offers the potential for intern...   \n",
       "19  There are many process mining algorithms and r...   \n",
       "43  In the context of Continuous Auditing, differe...   \n",
       "\n",
       "                                             Keywords          Source  \\\n",
       "50  Knowledge maintenance Knowledge management Pro...    SpringerLink   \n",
       "15  Process mining;noise;business process;event lo...            IEEE   \n",
       "28  Process mining; Preprocessing; Internal logist...  Science Direct   \n",
       "19  Business processes;process mining;machine lear...            IEEE   \n",
       "43  Continuous auditing; Internal control testing;...  Science Direct   \n",
       "\n",
       "                                              content  \n",
       "50  A process mining based approach to knowledge m...  \n",
       "15  An Anti-Noise Process Mining Algorithm Based o...  \n",
       "28  Developing an internal logistics ontology for ...  \n",
       "19  A Framework for the Analysis of Process Mining...  \n",
       "43  How active learning and process mining can act...  "
      ]
     },
     "execution_count": 231,
     "metadata": {},
     "output_type": "execute_result"
    }
   ],
   "source": [
    "df_tp = pd.DataFrame()\n",
    "for metadata in wmd:\n",
    "    df_tp=df_tp.append(df_pm[df_pm['Title']==metadata])\n",
    "\n",
    "df_tp = df_tp.drop(['Label'], axis=1)\n",
    "df_tp.head()"
   ]
  },
  {
   "cell_type": "code",
   "execution_count": 233,
   "metadata": {},
   "outputs": [
    {
     "name": "stdout",
     "output_type": "stream",
     "text": [
      "Query:\n",
      "process mining business\n",
      "Hasil True Negative Process Mining: 14\n",
      "Hasil False Positive Process Mining: 0\n"
     ]
    }
   ],
   "source": [
    "print('Query:')\n",
    "print(sentence_pm)\n",
    "tn = 0\n",
    "fp = 0\n",
    "for i in range(len(non_pm_lemma)):\n",
    "    if sims_ft_non_pm[i][1] > threshold_non_pm_2:\n",
    "        fp = fp + 1\n",
    "    else:\n",
    "        tn = tn + 1\n",
    "        pass\n",
    "print(\"Hasil True Negative Process Mining: {}\".format(tn))\n",
    "print(\"Hasil False Positive Process Mining: {}\".format(fp))"
   ]
  },
  {
   "cell_type": "code",
   "execution_count": 234,
   "metadata": {},
   "outputs": [
    {
     "name": "stdout",
     "output_type": "stream",
     "text": [
      "Hasil Cohen's Kappa dari Skenario 2 Process Mining 0.9642857142857143\n",
      "Hasil Precision dari Skenario 2 Process Mining 1.0\n",
      "Hasil Recall dari Skenario 2 Process Mining 0.9523809523809523\n",
      "Hasil F-1 Score dari Skenario 2 Process Mining 0.975609756097561\n"
     ]
    }
   ],
   "source": [
    "cohen_kappa = (tp + tn)/(tp + tn + fp + fn)\n",
    "precision = tp/(tp+fp)\n",
    "recall = tp/(tp+fn)\n",
    "f1_score = 2 * (precision * recall)/(precision + recall)\n",
    "print(\"Hasil Cohen's Kappa dari Skenario 2 Process Mining {}\".format(cohen_kappa))\n",
    "print(\"Hasil Precision dari Skenario 2 Process Mining {}\".format(precision))\n",
    "print(\"Hasil Recall dari Skenario 2 Process Mining {}\".format(recall))\n",
    "print(\"Hasil F-1 Score dari Skenario 2 Process Mining {}\".format(f1_score))"
   ]
  },
  {
   "cell_type": "code",
   "execution_count": 405,
   "metadata": {
    "scrolled": true
   },
   "outputs": [
    {
     "name": "stdout",
     "output_type": "stream",
     "text": [
      "Query:\n",
      "semantic search query\n",
      "Hasil True Positive Semantic Search: 41\n",
      "Hasil False Negative Semantic Search: 5\n"
     ]
    }
   ],
   "source": [
    "wmd = list()\n",
    "print('Query:')\n",
    "print(sentence_ss)\n",
    "tp = 0\n",
    "fn = 0\n",
    "for i in range(len(ss_lemma)):\n",
    "    if round(sims_ft_ss[i][1],2) >= .75:\n",
    "        wmd.append(ss.Title.iloc[sims_ft_ss[i][0]])\n",
    "        tp = tp + 1\n",
    "    else:\n",
    "        fn = fn + 1\n",
    "        pass\n",
    "print(\"Hasil True Positive Semantic Search: {}\".format(tp))\n",
    "print(\"Hasil False Negative Semantic Search: {}\".format(fn))"
   ]
  },
  {
   "cell_type": "code",
   "execution_count": 237,
   "metadata": {},
   "outputs": [
    {
     "data": {
      "text/html": [
       "<div>\n",
       "<style scoped>\n",
       "    .dataframe tbody tr th:only-of-type {\n",
       "        vertical-align: middle;\n",
       "    }\n",
       "\n",
       "    .dataframe tbody tr th {\n",
       "        vertical-align: top;\n",
       "    }\n",
       "\n",
       "    .dataframe thead th {\n",
       "        text-align: right;\n",
       "    }\n",
       "</style>\n",
       "<table border=\"1\" class=\"dataframe\">\n",
       "  <thead>\n",
       "    <tr style=\"text-align: right;\">\n",
       "      <th></th>\n",
       "      <th>Title</th>\n",
       "      <th>Abstract</th>\n",
       "      <th>Keywords</th>\n",
       "      <th>Source</th>\n",
       "      <th>content</th>\n",
       "    </tr>\n",
       "  </thead>\n",
       "  <tbody>\n",
       "    <tr>\n",
       "      <td>4</td>\n",
       "      <td>Semantic-Aware Searching Over Encrypted Data f...</td>\n",
       "      <td>With the increasing adoption of cloud computin...</td>\n",
       "      <td>Searchable encryption;cloud computing;smart se...</td>\n",
       "      <td>IEEE</td>\n",
       "      <td>Semantic-Aware Searching Over Encrypted Data f...</td>\n",
       "    </tr>\n",
       "    <tr>\n",
       "      <td>6</td>\n",
       "      <td>An Efficient and Dynamic Semantic-Aware Multik...</td>\n",
       "      <td>Traditional searchable encryption schemes adop...</td>\n",
       "      <td>Dynamic update;cloud computing;multikeyword ra...</td>\n",
       "      <td>IEEE</td>\n",
       "      <td>An Efficient and Dynamic Semantic-Aware Multik...</td>\n",
       "    </tr>\n",
       "    <tr>\n",
       "      <td>1</td>\n",
       "      <td>Efficient semantic-based content search in P2P...</td>\n",
       "      <td>Most existing peer-to-peer (P2P) systems suppo...</td>\n",
       "      <td>Intelligent networks;Peer to peer computing;In...</td>\n",
       "      <td>IEEE</td>\n",
       "      <td>Efficient semantic-based content search in P2P...</td>\n",
       "    </tr>\n",
       "    <tr>\n",
       "      <td>0</td>\n",
       "      <td>Enhanced Search Engine Using Proposed Framewor...</td>\n",
       "      <td>Today, most users need search engines to facil...</td>\n",
       "      <td>Information retrieval;semantic search;semantic...</td>\n",
       "      <td>IEEE</td>\n",
       "      <td>Enhanced Search Engine Using Proposed Framewor...</td>\n",
       "    </tr>\n",
       "    <tr>\n",
       "      <td>51</td>\n",
       "      <td>Bridging structured and unstructured data via ...</td>\n",
       "      <td>In this paper, we identify the problems of cur...</td>\n",
       "      <td>Semantic Web User interface design Semantic an...</td>\n",
       "      <td>SpringerLink</td>\n",
       "      <td>Bridging structured and unstructured data via ...</td>\n",
       "    </tr>\n",
       "  </tbody>\n",
       "</table>\n",
       "</div>"
      ],
      "text/plain": [
       "                                                Title  \\\n",
       "4   Semantic-Aware Searching Over Encrypted Data f...   \n",
       "6   An Efficient and Dynamic Semantic-Aware Multik...   \n",
       "1   Efficient semantic-based content search in P2P...   \n",
       "0   Enhanced Search Engine Using Proposed Framewor...   \n",
       "51  Bridging structured and unstructured data via ...   \n",
       "\n",
       "                                             Abstract  \\\n",
       "4   With the increasing adoption of cloud computin...   \n",
       "6   Traditional searchable encryption schemes adop...   \n",
       "1   Most existing peer-to-peer (P2P) systems suppo...   \n",
       "0   Today, most users need search engines to facil...   \n",
       "51  In this paper, we identify the problems of cur...   \n",
       "\n",
       "                                             Keywords        Source  \\\n",
       "4   Searchable encryption;cloud computing;smart se...          IEEE   \n",
       "6   Dynamic update;cloud computing;multikeyword ra...          IEEE   \n",
       "1   Intelligent networks;Peer to peer computing;In...          IEEE   \n",
       "0   Information retrieval;semantic search;semantic...          IEEE   \n",
       "51  Semantic Web User interface design Semantic an...  SpringerLink   \n",
       "\n",
       "                                              content  \n",
       "4   Semantic-Aware Searching Over Encrypted Data f...  \n",
       "6   An Efficient and Dynamic Semantic-Aware Multik...  \n",
       "1   Efficient semantic-based content search in P2P...  \n",
       "0   Enhanced Search Engine Using Proposed Framewor...  \n",
       "51  Bridging structured and unstructured data via ...  "
      ]
     },
     "execution_count": 237,
     "metadata": {},
     "output_type": "execute_result"
    }
   ],
   "source": [
    "df_tp = pd.DataFrame()\n",
    "for metadata in wmd:\n",
    "    df_tp=df_tp.append(df_ss[df_ss['Title']==metadata])\n",
    "\n",
    "df_tp = df_tp.drop(['Label'], axis=1)\n",
    "df_tp.head()"
   ]
  },
  {
   "cell_type": "code",
   "execution_count": 238,
   "metadata": {},
   "outputs": [
    {
     "name": "stdout",
     "output_type": "stream",
     "text": [
      "Query:\n",
      "semantic search similarity\n",
      "Hasil True Negative Semantic Search: 16\n",
      "Hasil False Positive Semantic Search: 0\n"
     ]
    }
   ],
   "source": [
    "print('Query:')\n",
    "print(sentence_ss)\n",
    "tn = 0\n",
    "fp = 0\n",
    "for i in range(len(non_ss_lemma)):\n",
    "    if sims_ft_non_ss[i][1] > threshold_non_ss_2:\n",
    "        fp = fp + 1\n",
    "    else:\n",
    "        tn = tn + 1\n",
    "        pass\n",
    "print(\"Hasil True Negative Semantic Search: {}\".format(tn))\n",
    "print(\"Hasil False Positive Semantic Search: {}\".format(fp))"
   ]
  },
  {
   "cell_type": "code",
   "execution_count": 239,
   "metadata": {},
   "outputs": [
    {
     "name": "stdout",
     "output_type": "stream",
     "text": [
      "Hasil Cohen's Kappa dari Skenario 2 Semantic Search 0.967741935483871\n",
      "Hasil Precision dari Skenario 2 Semantic Search 1.0\n",
      "Hasil Recall dari Skenario 2 Semantic Search 0.9565217391304348\n",
      "Hasil F-1 Score dari Skenario 2 Semantic Search 0.9777777777777777\n"
     ]
    }
   ],
   "source": [
    "cohen_kappa = (tp + tn)/(tp + tn + fp + fn)\n",
    "precision = tp/(tp+fp)\n",
    "recall = tp/(tp+fn)\n",
    "f1_score = 2 * (precision * recall)/(precision + recall)\n",
    "print(\"Hasil Cohen's Kappa dari Skenario 2 Semantic Search {}\".format(cohen_kappa))\n",
    "print(\"Hasil Precision dari Skenario 2 Semantic Search {}\".format(precision))\n",
    "print(\"Hasil Recall dari Skenario 2 Semantic Search {}\".format(recall))\n",
    "print(\"Hasil F-1 Score dari Skenario 2 Semantic Search {}\".format(f1_score))"
   ]
  },
  {
   "cell_type": "code",
   "execution_count": 241,
   "metadata": {},
   "outputs": [
    {
     "name": "stdout",
     "output_type": "stream",
     "text": [
      "Query:\n",
      "mixed reality virtual\n",
      "Hasil True Positive Mixed Reality: 39\n",
      "Hasil False Negative Mixed Reality: 4\n"
     ]
    }
   ],
   "source": [
    "wmd = list()\n",
    "print('Query:')\n",
    "print(sentence_mr)\n",
    "tp = 0\n",
    "fn = 0\n",
    "for i in range(len(mr_lemma)):\n",
    "    if sims_ft_mr[i][1] > threshold_mr_2:\n",
    "        wmd.append(mr.Title.iloc[sims_ft_mr[i][0]])\n",
    "        tp = tp + 1\n",
    "    else:\n",
    "        fn = fn + 1\n",
    "        pass\n",
    "print(\"Hasil True Positive Mixed Reality: {}\".format(tp))\n",
    "print(\"Hasil False Negative Mixed Reality: {}\".format(fn))"
   ]
  },
  {
   "cell_type": "code",
   "execution_count": 242,
   "metadata": {},
   "outputs": [
    {
     "data": {
      "text/html": [
       "<div>\n",
       "<style scoped>\n",
       "    .dataframe tbody tr th:only-of-type {\n",
       "        vertical-align: middle;\n",
       "    }\n",
       "\n",
       "    .dataframe tbody tr th {\n",
       "        vertical-align: top;\n",
       "    }\n",
       "\n",
       "    .dataframe thead th {\n",
       "        text-align: right;\n",
       "    }\n",
       "</style>\n",
       "<table border=\"1\" class=\"dataframe\">\n",
       "  <thead>\n",
       "    <tr style=\"text-align: right;\">\n",
       "      <th></th>\n",
       "      <th>Title</th>\n",
       "      <th>Abstract</th>\n",
       "      <th>Keywords</th>\n",
       "      <th>Source</th>\n",
       "      <th>content</th>\n",
       "    </tr>\n",
       "  </thead>\n",
       "  <tbody>\n",
       "    <tr>\n",
       "      <td>46</td>\n",
       "      <td>A systematic literature review of mixed realit...</td>\n",
       "      <td>Various studies have widely utilized mixed rea...</td>\n",
       "      <td>Mixed reality Interactive environments</td>\n",
       "      <td>Springer Link</td>\n",
       "      <td>A systematic literature review of mixed realit...</td>\n",
       "    </tr>\n",
       "    <tr>\n",
       "      <td>11</td>\n",
       "      <td>A Mixed Reality Virtual Clothes Try-On System</td>\n",
       "      <td>Virtual try-on of clothes has received much at...</td>\n",
       "      <td>3D-2D alignment;body customization;mixed reali...</td>\n",
       "      <td>IEEE</td>\n",
       "      <td>A Mixed Reality Virtual Clothes Try-On System ...</td>\n",
       "    </tr>\n",
       "    <tr>\n",
       "      <td>38</td>\n",
       "      <td>Mixed reality-based user interface for quality...</td>\n",
       "      <td>In recent years, the quality control of car bo...</td>\n",
       "      <td>Car body surface quality control; Mixed realit...</td>\n",
       "      <td>Science Direct</td>\n",
       "      <td>Mixed reality-based user interface for quality...</td>\n",
       "    </tr>\n",
       "    <tr>\n",
       "      <td>0</td>\n",
       "      <td>Visuo-Haptic Mixed Reality with Unobstructed T...</td>\n",
       "      <td>Visuo-haptic mixed reality consists of adding ...</td>\n",
       "      <td>image segmentation;haptic interfaces;misalignm...</td>\n",
       "      <td>IEEE</td>\n",
       "      <td>Visuo-Haptic Mixed Reality with Unobstructed T...</td>\n",
       "    </tr>\n",
       "    <tr>\n",
       "      <td>48</td>\n",
       "      <td>Document search support by making physical doc...</td>\n",
       "      <td>This paper presents Limpid Desk that supports ...</td>\n",
       "      <td>Projection-based mixed reality, Document searc...</td>\n",
       "      <td>Springer Link</td>\n",
       "      <td>Document search support by making physical doc...</td>\n",
       "    </tr>\n",
       "  </tbody>\n",
       "</table>\n",
       "</div>"
      ],
      "text/plain": [
       "                                                Title  \\\n",
       "46  A systematic literature review of mixed realit...   \n",
       "11      A Mixed Reality Virtual Clothes Try-On System   \n",
       "38  Mixed reality-based user interface for quality...   \n",
       "0   Visuo-Haptic Mixed Reality with Unobstructed T...   \n",
       "48  Document search support by making physical doc...   \n",
       "\n",
       "                                             Abstract  \\\n",
       "46  Various studies have widely utilized mixed rea...   \n",
       "11  Virtual try-on of clothes has received much at...   \n",
       "38  In recent years, the quality control of car bo...   \n",
       "0   Visuo-haptic mixed reality consists of adding ...   \n",
       "48  This paper presents Limpid Desk that supports ...   \n",
       "\n",
       "                                             Keywords          Source  \\\n",
       "46            Mixed reality Interactive environments    Springer Link   \n",
       "11  3D-2D alignment;body customization;mixed reali...            IEEE   \n",
       "38  Car body surface quality control; Mixed realit...  Science Direct   \n",
       "0   image segmentation;haptic interfaces;misalignm...            IEEE   \n",
       "48  Projection-based mixed reality, Document searc...   Springer Link   \n",
       "\n",
       "                                              content  \n",
       "46  A systematic literature review of mixed realit...  \n",
       "11  A Mixed Reality Virtual Clothes Try-On System ...  \n",
       "38  Mixed reality-based user interface for quality...  \n",
       "0   Visuo-Haptic Mixed Reality with Unobstructed T...  \n",
       "48  Document search support by making physical doc...  "
      ]
     },
     "execution_count": 242,
     "metadata": {},
     "output_type": "execute_result"
    }
   ],
   "source": [
    "df_tp = pd.DataFrame()\n",
    "for metadata in wmd:\n",
    "    df_tp=df_tp.append(df_mr[df_mr['Title']==metadata])\n",
    "\n",
    "df_tp = df_tp.drop(['Label'], axis=1)\n",
    "df_tp.head()"
   ]
  },
  {
   "cell_type": "code",
   "execution_count": 244,
   "metadata": {},
   "outputs": [
    {
     "name": "stdout",
     "output_type": "stream",
     "text": [
      "Query:\n",
      "mixed reality virtual\n",
      "Hasil True Negative Mixed Reality: 9\n",
      "Hasil False Positive Mixed Reality: 0\n"
     ]
    }
   ],
   "source": [
    "print('Query:')\n",
    "print(sentence_mr)\n",
    "tn = 0\n",
    "fp = 0\n",
    "for i in range(len(non_mr_lemma)):\n",
    "    if sims_ft_non_mr[i][1] > threshold_non_mr_2:\n",
    "        fp = fp + 1\n",
    "    else:\n",
    "        tn = tn + 1\n",
    "        pass\n",
    "print(\"Hasil True Negative Mixed Reality: {}\".format(tn))\n",
    "print(\"Hasil False Positive Mixed Reality: {}\".format(fp))"
   ]
  },
  {
   "cell_type": "code",
   "execution_count": 245,
   "metadata": {},
   "outputs": [
    {
     "name": "stdout",
     "output_type": "stream",
     "text": [
      "Hasil Cohen's Kappa dari Skenario 2 Mixed Reality 0.9230769230769231\n",
      "Hasil Precision dari Skenario 2 Mixed Reality 1.0\n",
      "Hasil Recall dari Skenario 2 Mixed Reality 0.9069767441860465\n",
      "Hasil F-1 Score dari Skenario 2 Mixed Reality 0.951219512195122\n"
     ]
    }
   ],
   "source": [
    "cohen_kappa = (tp + tn)/(tp + tn + fp + fn)\n",
    "precision = tp/(tp+fp)\n",
    "recall = tp/(tp+fn)\n",
    "f1_score = 2 * (precision * recall)/(precision + recall)\n",
    "print(\"Hasil Cohen's Kappa dari Skenario 2 Mixed Reality {}\".format(cohen_kappa))\n",
    "print(\"Hasil Precision dari Skenario 2 Mixed Reality {}\".format(precision))\n",
    "print(\"Hasil Recall dari Skenario 2 Mixed Reality {}\".format(recall))\n",
    "print(\"Hasil F-1 Score dari Skenario 2 Mixed Reality {}\".format(f1_score))"
   ]
  },
  {
   "cell_type": "markdown",
   "metadata": {},
   "source": [
    "## Skenario 3"
   ]
  },
  {
   "cell_type": "code",
   "execution_count": 389,
   "metadata": {},
   "outputs": [
    {
     "name": "stdout",
     "output_type": "stream",
     "text": [
      "Cell took 0.01 minutes to run.\n"
     ]
    }
   ],
   "source": [
    "start = time()\n",
    "sentence_pm = 'process mining '+ pm_most_similar_1\n",
    "query = preprocess(sentence)\n",
    "query_pm = lemmatize(query)\n",
    "sims_ft_pm = instance_ft_pm[query_pm]\n",
    "sims_ft_non_pm = instance_ft_non_pm[query_pm]\n",
    "print('Cell took %.2f minutes to run.' %((time() - start)/60))"
   ]
  },
  {
   "cell_type": "code",
   "execution_count": 297,
   "metadata": {},
   "outputs": [
    {
     "name": "stdout",
     "output_type": "stream",
     "text": [
      "Cell took 0.01 minutes to run.\n"
     ]
    }
   ],
   "source": [
    "start = time()\n",
    "sentence_ss = 'semantic search' + ss_most_similar\n",
    "query = preprocess(sentence)\n",
    "query_ss = lemmatize(query)\n",
    "sims_ft_ss = instance_ft_ss[query]\n",
    "sims_ft_non_ss = instance_ft_non_ss[query]\n",
    "print('Cell took %.2f minutes to run.' %((time() - start)/60))"
   ]
  },
  {
   "cell_type": "code",
   "execution_count": 298,
   "metadata": {},
   "outputs": [
    {
     "name": "stdout",
     "output_type": "stream",
     "text": [
      "Cell took 0.02 minutes to run.\n"
     ]
    }
   ],
   "source": [
    "start = time()\n",
    "sentence_mr = 'mixed reality' + mr_most_similar\n",
    "query = preprocess(sentence)\n",
    "query_mr = lemmatize(query)\n",
    "sims_ft_mr = instance_ft_mr[query]\n",
    "sims_ft_non_mr = instance_ft_non_mr[query]\n",
    "print('Cell took %.2f minutes to run.' %((time() - start)/60))"
   ]
  },
  {
   "cell_type": "code",
   "execution_count": 390,
   "metadata": {},
   "outputs": [
    {
     "name": "stdout",
     "output_type": "stream",
     "text": [
      "Query:\n",
      "process mining processing\n",
      "Hasil True Positive Process Mining: 38\n",
      "Hasil False Negative Process Mining: 4\n"
     ]
    }
   ],
   "source": [
    "wmd = list()\n",
    "print('Query:')\n",
    "print(sentence_pm)\n",
    "tp = 0\n",
    "fn = 0\n",
    "for i in range(len(pm_lemma)):\n",
    "    if round(sims_ft_pm[i][1],2) >= .75:\n",
    "        wmd.append(pm.Title.iloc[sims_ft_pm[i][0]])\n",
    "        tp = tp + 1\n",
    "    else:\n",
    "        fn = fn + 1\n",
    "print(\"Hasil True Positive Process Mining: {}\".format(tp))\n",
    "print(\"Hasil False Negative Process Mining: {}\".format(fn))"
   ]
  },
  {
   "cell_type": "code",
   "execution_count": 248,
   "metadata": {},
   "outputs": [
    {
     "data": {
      "text/html": [
       "<div>\n",
       "<style scoped>\n",
       "    .dataframe tbody tr th:only-of-type {\n",
       "        vertical-align: middle;\n",
       "    }\n",
       "\n",
       "    .dataframe tbody tr th {\n",
       "        vertical-align: top;\n",
       "    }\n",
       "\n",
       "    .dataframe thead th {\n",
       "        text-align: right;\n",
       "    }\n",
       "</style>\n",
       "<table border=\"1\" class=\"dataframe\">\n",
       "  <thead>\n",
       "    <tr style=\"text-align: right;\">\n",
       "      <th></th>\n",
       "      <th>Title</th>\n",
       "      <th>Abstract</th>\n",
       "      <th>Keywords</th>\n",
       "      <th>Source</th>\n",
       "      <th>content</th>\n",
       "    </tr>\n",
       "  </thead>\n",
       "  <tbody>\n",
       "    <tr>\n",
       "      <td>50</td>\n",
       "      <td>A process mining based approach to knowledge m...</td>\n",
       "      <td>The quality of knowledge in the knowledge repo...</td>\n",
       "      <td>Knowledge maintenance Knowledge management Pro...</td>\n",
       "      <td>SpringerLink</td>\n",
       "      <td>A process mining based approach to knowledge m...</td>\n",
       "    </tr>\n",
       "    <tr>\n",
       "      <td>15</td>\n",
       "      <td>An Anti-Noise Process Mining Algorithm Based o...</td>\n",
       "      <td>Many human-centric systems have begun to use b...</td>\n",
       "      <td>Process mining;noise;business process;event lo...</td>\n",
       "      <td>IEEE</td>\n",
       "      <td>An Anti-Noise Process Mining Algorithm Based o...</td>\n",
       "    </tr>\n",
       "    <tr>\n",
       "      <td>28</td>\n",
       "      <td>Developing an internal logistics ontology for ...</td>\n",
       "      <td>Process mining offers the potential for intern...</td>\n",
       "      <td>Process mining; Preprocessing; Internal logist...</td>\n",
       "      <td>Science Direct</td>\n",
       "      <td>Developing an internal logistics ontology for ...</td>\n",
       "    </tr>\n",
       "    <tr>\n",
       "      <td>19</td>\n",
       "      <td>A Framework for the Analysis of Process Mining...</td>\n",
       "      <td>There are many process mining algorithms and r...</td>\n",
       "      <td>Business processes;process mining;machine lear...</td>\n",
       "      <td>IEEE</td>\n",
       "      <td>A Framework for the Analysis of Process Mining...</td>\n",
       "    </tr>\n",
       "    <tr>\n",
       "      <td>43</td>\n",
       "      <td>How active learning and process mining can act...</td>\n",
       "      <td>In the context of Continuous Auditing, differe...</td>\n",
       "      <td>Continuous auditing; Internal control testing;...</td>\n",
       "      <td>Science Direct</td>\n",
       "      <td>How active learning and process mining can act...</td>\n",
       "    </tr>\n",
       "  </tbody>\n",
       "</table>\n",
       "</div>"
      ],
      "text/plain": [
       "                                                Title  \\\n",
       "50  A process mining based approach to knowledge m...   \n",
       "15  An Anti-Noise Process Mining Algorithm Based o...   \n",
       "28  Developing an internal logistics ontology for ...   \n",
       "19  A Framework for the Analysis of Process Mining...   \n",
       "43  How active learning and process mining can act...   \n",
       "\n",
       "                                             Abstract  \\\n",
       "50  The quality of knowledge in the knowledge repo...   \n",
       "15  Many human-centric systems have begun to use b...   \n",
       "28  Process mining offers the potential for intern...   \n",
       "19  There are many process mining algorithms and r...   \n",
       "43  In the context of Continuous Auditing, differe...   \n",
       "\n",
       "                                             Keywords          Source  \\\n",
       "50  Knowledge maintenance Knowledge management Pro...    SpringerLink   \n",
       "15  Process mining;noise;business process;event lo...            IEEE   \n",
       "28  Process mining; Preprocessing; Internal logist...  Science Direct   \n",
       "19  Business processes;process mining;machine lear...            IEEE   \n",
       "43  Continuous auditing; Internal control testing;...  Science Direct   \n",
       "\n",
       "                                              content  \n",
       "50  A process mining based approach to knowledge m...  \n",
       "15  An Anti-Noise Process Mining Algorithm Based o...  \n",
       "28  Developing an internal logistics ontology for ...  \n",
       "19  A Framework for the Analysis of Process Mining...  \n",
       "43  How active learning and process mining can act...  "
      ]
     },
     "execution_count": 248,
     "metadata": {},
     "output_type": "execute_result"
    }
   ],
   "source": [
    "df_tp = pd.DataFrame()\n",
    "for metadata in wmd:\n",
    "    df_tp=df_tp.append(df_pm[df_pm['Title']==metadata])\n",
    "\n",
    "df_tp = df_tp.drop(['Label'], axis=1)\n",
    "df_tp.head()"
   ]
  },
  {
   "cell_type": "code",
   "execution_count": 249,
   "metadata": {},
   "outputs": [
    {
     "name": "stdout",
     "output_type": "stream",
     "text": [
      "Query:\n",
      "processing\n",
      "Hasil True Negative Process Mining: 9\n",
      "Hasil False Positive Process Mining: 0\n"
     ]
    }
   ],
   "source": [
    "print('Query:')\n",
    "print(sentence_pm)\n",
    "tn = 0\n",
    "fp = 0\n",
    "for i in range(len(non_pm_lemma)):\n",
    "    if sims_ft_non_pm[i][1] > threshold_non_pm_3:\n",
    "        fp = fp + 1\n",
    "    else:\n",
    "        tn = tn + 1\n",
    "        pass\n",
    "print(\"Hasil True Negative Process Mining: {}\".format(c))\n",
    "print(\"Hasil False Positive Process Mining: {}\".format(count))"
   ]
  },
  {
   "cell_type": "code",
   "execution_count": 250,
   "metadata": {},
   "outputs": [
    {
     "name": "stdout",
     "output_type": "stream",
     "text": [
      "Hasil Cohen's Kappa dari Skenario 3 Process Mining 0.8928571428571429\n",
      "Hasil Precision dari Skenario 3 Process Mining 1.0\n",
      "Hasil Recall dari Skenario 3 Process Mining 0.8571428571428571\n",
      "Hasil F-1 Score dari Skenario 3 Process Mining 0.923076923076923\n"
     ]
    }
   ],
   "source": [
    "cohen_kappa = (tp + tn)/(tp + tn + fp + fn)\n",
    "precision = tp/(tp+fp)\n",
    "recall = tp/(tp+fn)\n",
    "f1_score = 2 * (precision * recall)/(precision + recall)\n",
    "print(\"Hasil Cohen's Kappa dari Skenario 3 Process Mining {}\".format(cohen_kappa))\n",
    "print(\"Hasil Precision dari Skenario 3 Process Mining {}\".format(precision))\n",
    "print(\"Hasil Recall dari Skenario 3 Process Mining {}\".format(recall))\n",
    "print(\"Hasil F-1 Score dari Skenario 3 Process Mining {}\".format(f1_score))"
   ]
  },
  {
   "cell_type": "code",
   "execution_count": 252,
   "metadata": {},
   "outputs": [
    {
     "name": "stdout",
     "output_type": "stream",
     "text": [
      "Query:\n",
      "searching\n",
      "Hasil True Positive Semantic Search: 41\n",
      "Hasil False Negative Semantic Search: 5\n"
     ]
    }
   ],
   "source": [
    "wmd = list()\n",
    "print('Query:')\n",
    "print(sentence_ss)\n",
    "tp = 0\n",
    "fn = 0\n",
    "for i in range(len(ss_lemma)):\n",
    "    if sims_ft_ss[i][1] > threshold_ss_3:\n",
    "        wmd.append(ss.Title.iloc[sims_ft_ss[i][0]])\n",
    "        tp = tp + 1\n",
    "    else:\n",
    "        fn = fn + 1\n",
    "        pass\n",
    "print(\"Hasil True Positive Semantic Search: {}\".format(tp))\n",
    "print(\"Hasil False Negative Semantic Search: {}\".format(fn))"
   ]
  },
  {
   "cell_type": "code",
   "execution_count": 253,
   "metadata": {},
   "outputs": [
    {
     "data": {
      "text/html": [
       "<div>\n",
       "<style scoped>\n",
       "    .dataframe tbody tr th:only-of-type {\n",
       "        vertical-align: middle;\n",
       "    }\n",
       "\n",
       "    .dataframe tbody tr th {\n",
       "        vertical-align: top;\n",
       "    }\n",
       "\n",
       "    .dataframe thead th {\n",
       "        text-align: right;\n",
       "    }\n",
       "</style>\n",
       "<table border=\"1\" class=\"dataframe\">\n",
       "  <thead>\n",
       "    <tr style=\"text-align: right;\">\n",
       "      <th></th>\n",
       "      <th>Title</th>\n",
       "      <th>Abstract</th>\n",
       "      <th>Keywords</th>\n",
       "      <th>Source</th>\n",
       "      <th>content</th>\n",
       "    </tr>\n",
       "  </thead>\n",
       "  <tbody>\n",
       "    <tr>\n",
       "      <td>4</td>\n",
       "      <td>Semantic-Aware Searching Over Encrypted Data f...</td>\n",
       "      <td>With the increasing adoption of cloud computin...</td>\n",
       "      <td>Searchable encryption;cloud computing;smart se...</td>\n",
       "      <td>IEEE</td>\n",
       "      <td>Semantic-Aware Searching Over Encrypted Data f...</td>\n",
       "    </tr>\n",
       "    <tr>\n",
       "      <td>6</td>\n",
       "      <td>An Efficient and Dynamic Semantic-Aware Multik...</td>\n",
       "      <td>Traditional searchable encryption schemes adop...</td>\n",
       "      <td>Dynamic update;cloud computing;multikeyword ra...</td>\n",
       "      <td>IEEE</td>\n",
       "      <td>An Efficient and Dynamic Semantic-Aware Multik...</td>\n",
       "    </tr>\n",
       "    <tr>\n",
       "      <td>1</td>\n",
       "      <td>Efficient semantic-based content search in P2P...</td>\n",
       "      <td>Most existing peer-to-peer (P2P) systems suppo...</td>\n",
       "      <td>Intelligent networks;Peer to peer computing;In...</td>\n",
       "      <td>IEEE</td>\n",
       "      <td>Efficient semantic-based content search in P2P...</td>\n",
       "    </tr>\n",
       "    <tr>\n",
       "      <td>0</td>\n",
       "      <td>Enhanced Search Engine Using Proposed Framewor...</td>\n",
       "      <td>Today, most users need search engines to facil...</td>\n",
       "      <td>Information retrieval;semantic search;semantic...</td>\n",
       "      <td>IEEE</td>\n",
       "      <td>Enhanced Search Engine Using Proposed Framewor...</td>\n",
       "    </tr>\n",
       "    <tr>\n",
       "      <td>51</td>\n",
       "      <td>Bridging structured and unstructured data via ...</td>\n",
       "      <td>In this paper, we identify the problems of cur...</td>\n",
       "      <td>Semantic Web User interface design Semantic an...</td>\n",
       "      <td>SpringerLink</td>\n",
       "      <td>Bridging structured and unstructured data via ...</td>\n",
       "    </tr>\n",
       "  </tbody>\n",
       "</table>\n",
       "</div>"
      ],
      "text/plain": [
       "                                                Title  \\\n",
       "4   Semantic-Aware Searching Over Encrypted Data f...   \n",
       "6   An Efficient and Dynamic Semantic-Aware Multik...   \n",
       "1   Efficient semantic-based content search in P2P...   \n",
       "0   Enhanced Search Engine Using Proposed Framewor...   \n",
       "51  Bridging structured and unstructured data via ...   \n",
       "\n",
       "                                             Abstract  \\\n",
       "4   With the increasing adoption of cloud computin...   \n",
       "6   Traditional searchable encryption schemes adop...   \n",
       "1   Most existing peer-to-peer (P2P) systems suppo...   \n",
       "0   Today, most users need search engines to facil...   \n",
       "51  In this paper, we identify the problems of cur...   \n",
       "\n",
       "                                             Keywords        Source  \\\n",
       "4   Searchable encryption;cloud computing;smart se...          IEEE   \n",
       "6   Dynamic update;cloud computing;multikeyword ra...          IEEE   \n",
       "1   Intelligent networks;Peer to peer computing;In...          IEEE   \n",
       "0   Information retrieval;semantic search;semantic...          IEEE   \n",
       "51  Semantic Web User interface design Semantic an...  SpringerLink   \n",
       "\n",
       "                                              content  \n",
       "4   Semantic-Aware Searching Over Encrypted Data f...  \n",
       "6   An Efficient and Dynamic Semantic-Aware Multik...  \n",
       "1   Efficient semantic-based content search in P2P...  \n",
       "0   Enhanced Search Engine Using Proposed Framewor...  \n",
       "51  Bridging structured and unstructured data via ...  "
      ]
     },
     "execution_count": 253,
     "metadata": {},
     "output_type": "execute_result"
    }
   ],
   "source": [
    "df_tp = pd.DataFrame()\n",
    "for metadata in wmd:\n",
    "    df_tp=df_tp.append(df_ss[df_ss['Title']==metadata])\n",
    "\n",
    "df_tp = df_tp.drop(['Label'], axis=1)\n",
    "df_tp.head()"
   ]
  },
  {
   "cell_type": "code",
   "execution_count": 255,
   "metadata": {},
   "outputs": [
    {
     "name": "stdout",
     "output_type": "stream",
     "text": [
      "Query:\n",
      "searching\n",
      "Hasil True Negative Semantic Search: 16\n",
      "Hasil False Positive Semantic Search: 0\n"
     ]
    }
   ],
   "source": [
    "print('Query:')\n",
    "print(sentence_ss)\n",
    "tn = 0\n",
    "fp = 0\n",
    "for i in range(len(non_ss_lemma)):\n",
    "    if sims_ft_non_ss[i][1] > threshold_non_ss_3:\n",
    "        fp = fp + 1\n",
    "    else:\n",
    "        tn = tn + 1\n",
    "        pass\n",
    "print(\"Hasil True Negative Semantic Search: {}\".format(tn))\n",
    "print(\"Hasil False Positive Semantic Search: {}\".format(fp))"
   ]
  },
  {
   "cell_type": "code",
   "execution_count": 256,
   "metadata": {},
   "outputs": [
    {
     "name": "stdout",
     "output_type": "stream",
     "text": [
      "Hasil Cohen's Kappa dari Skenario 3 Semantic Search 0.9193548387096774\n",
      "Hasil Precision dari Skenario 3 Semantic Search 1.0\n",
      "Hasil Recall dari Skenario 3 Semantic Search 0.8913043478260869\n",
      "Hasil F-1 Score dari Skenario 3 Semantic Search 0.9425287356321839\n"
     ]
    }
   ],
   "source": [
    "cohen_kappa = (tp + tn)/(tp + tn + fp + fn)\n",
    "precision = tp/(tp+fp)\n",
    "recall = tp/(tp+fn)\n",
    "f1_score = 2 * (precision * recall)/(precision + recall)\n",
    "print(\"Hasil Cohen's Kappa dari Skenario 3 Semantic Search {}\".format(cohen_kappa))\n",
    "print(\"Hasil Precision dari Skenario 3 Semantic Search {}\".format(precision))\n",
    "print(\"Hasil Recall dari Skenario 3 Semantic Search {}\".format(recall))\n",
    "print(\"Hasil F-1 Score dari Skenario 3 Semantic Search {}\".format(f1_score))"
   ]
  },
  {
   "cell_type": "code",
   "execution_count": 258,
   "metadata": {},
   "outputs": [
    {
     "name": "stdout",
     "output_type": "stream",
     "text": [
      "Query:\n",
      "realistic\n",
      "Hasil True Positive Mixed Reality: 38\n",
      "Hasil False Negative Mixed Reality: 5\n"
     ]
    }
   ],
   "source": [
    "wmd = list()\n",
    "print('Query:')\n",
    "print(sentence_mr)\n",
    "tp = 0\n",
    "fn = 0\n",
    "for i in range(len(mr_lemma)):\n",
    "    if sims_ft_mr[i][1] > threshold_mr_3:\n",
    "        wmd.append(mr.Title.iloc[sims_ft_mr[i][0]])\n",
    "        tp = tp + 1\n",
    "    else:\n",
    "        fn = fn + 1\n",
    "        pass\n",
    "print(\"Hasil True Positive Mixed Reality: {}\".format(tp))\n",
    "print(\"Hasil False Negative Mixed Reality: {}\".format(fn))"
   ]
  },
  {
   "cell_type": "code",
   "execution_count": 259,
   "metadata": {},
   "outputs": [
    {
     "data": {
      "text/html": [
       "<div>\n",
       "<style scoped>\n",
       "    .dataframe tbody tr th:only-of-type {\n",
       "        vertical-align: middle;\n",
       "    }\n",
       "\n",
       "    .dataframe tbody tr th {\n",
       "        vertical-align: top;\n",
       "    }\n",
       "\n",
       "    .dataframe thead th {\n",
       "        text-align: right;\n",
       "    }\n",
       "</style>\n",
       "<table border=\"1\" class=\"dataframe\">\n",
       "  <thead>\n",
       "    <tr style=\"text-align: right;\">\n",
       "      <th></th>\n",
       "      <th>Title</th>\n",
       "      <th>Abstract</th>\n",
       "      <th>Keywords</th>\n",
       "      <th>Source</th>\n",
       "      <th>content</th>\n",
       "    </tr>\n",
       "  </thead>\n",
       "  <tbody>\n",
       "    <tr>\n",
       "      <td>46</td>\n",
       "      <td>A systematic literature review of mixed realit...</td>\n",
       "      <td>Various studies have widely utilized mixed rea...</td>\n",
       "      <td>Mixed reality Interactive environments</td>\n",
       "      <td>Springer Link</td>\n",
       "      <td>A systematic literature review of mixed realit...</td>\n",
       "    </tr>\n",
       "    <tr>\n",
       "      <td>11</td>\n",
       "      <td>A Mixed Reality Virtual Clothes Try-On System</td>\n",
       "      <td>Virtual try-on of clothes has received much at...</td>\n",
       "      <td>3D-2D alignment;body customization;mixed reali...</td>\n",
       "      <td>IEEE</td>\n",
       "      <td>A Mixed Reality Virtual Clothes Try-On System ...</td>\n",
       "    </tr>\n",
       "    <tr>\n",
       "      <td>38</td>\n",
       "      <td>Mixed reality-based user interface for quality...</td>\n",
       "      <td>In recent years, the quality control of car bo...</td>\n",
       "      <td>Car body surface quality control; Mixed realit...</td>\n",
       "      <td>Science Direct</td>\n",
       "      <td>Mixed reality-based user interface for quality...</td>\n",
       "    </tr>\n",
       "    <tr>\n",
       "      <td>0</td>\n",
       "      <td>Visuo-Haptic Mixed Reality with Unobstructed T...</td>\n",
       "      <td>Visuo-haptic mixed reality consists of adding ...</td>\n",
       "      <td>image segmentation;haptic interfaces;misalignm...</td>\n",
       "      <td>IEEE</td>\n",
       "      <td>Visuo-Haptic Mixed Reality with Unobstructed T...</td>\n",
       "    </tr>\n",
       "    <tr>\n",
       "      <td>48</td>\n",
       "      <td>Document search support by making physical doc...</td>\n",
       "      <td>This paper presents Limpid Desk that supports ...</td>\n",
       "      <td>Projection-based mixed reality, Document searc...</td>\n",
       "      <td>Springer Link</td>\n",
       "      <td>Document search support by making physical doc...</td>\n",
       "    </tr>\n",
       "  </tbody>\n",
       "</table>\n",
       "</div>"
      ],
      "text/plain": [
       "                                                Title  \\\n",
       "46  A systematic literature review of mixed realit...   \n",
       "11      A Mixed Reality Virtual Clothes Try-On System   \n",
       "38  Mixed reality-based user interface for quality...   \n",
       "0   Visuo-Haptic Mixed Reality with Unobstructed T...   \n",
       "48  Document search support by making physical doc...   \n",
       "\n",
       "                                             Abstract  \\\n",
       "46  Various studies have widely utilized mixed rea...   \n",
       "11  Virtual try-on of clothes has received much at...   \n",
       "38  In recent years, the quality control of car bo...   \n",
       "0   Visuo-haptic mixed reality consists of adding ...   \n",
       "48  This paper presents Limpid Desk that supports ...   \n",
       "\n",
       "                                             Keywords          Source  \\\n",
       "46            Mixed reality Interactive environments    Springer Link   \n",
       "11  3D-2D alignment;body customization;mixed reali...            IEEE   \n",
       "38  Car body surface quality control; Mixed realit...  Science Direct   \n",
       "0   image segmentation;haptic interfaces;misalignm...            IEEE   \n",
       "48  Projection-based mixed reality, Document searc...   Springer Link   \n",
       "\n",
       "                                              content  \n",
       "46  A systematic literature review of mixed realit...  \n",
       "11  A Mixed Reality Virtual Clothes Try-On System ...  \n",
       "38  Mixed reality-based user interface for quality...  \n",
       "0   Visuo-Haptic Mixed Reality with Unobstructed T...  \n",
       "48  Document search support by making physical doc...  "
      ]
     },
     "execution_count": 259,
     "metadata": {},
     "output_type": "execute_result"
    }
   ],
   "source": [
    "df_tp = pd.DataFrame()\n",
    "for metadata in wmd:\n",
    "    df_tp=df_tp.append(df_mr[df_mr['Title']==metadata])\n",
    "\n",
    "df_tp = df_tp.drop(['Label'], axis=1)\n",
    "df_tp.head()"
   ]
  },
  {
   "cell_type": "code",
   "execution_count": 260,
   "metadata": {},
   "outputs": [
    {
     "name": "stdout",
     "output_type": "stream",
     "text": [
      "Query:\n",
      "realistic\n",
      "Hasil True Negative Mixed Reality: 9\n",
      "Hasil False Positive Mixed Reality: 0\n"
     ]
    }
   ],
   "source": [
    "print('Query:')\n",
    "print(sentence_mr)\n",
    "tn = 0\n",
    "fp = 0\n",
    "for i in range(len(non_mr_lemma)):\n",
    "    if sims_ft_non_mr[i][1] > threshold_non_mr_3:\n",
    "        fp = fp + 1\n",
    "    else:\n",
    "        tn = tn + 1\n",
    "        pass\n",
    "print(\"Hasil True Negative Mixed Reality: {}\".format(tn))\n",
    "print(\"Hasil False Positive Mixed Reality: {}\".format(fp))"
   ]
  },
  {
   "cell_type": "code",
   "execution_count": 261,
   "metadata": {},
   "outputs": [
    {
     "name": "stdout",
     "output_type": "stream",
     "text": [
      "Hasil Cohen's Kappa dari Skenario 3 Mixed Reality 0.9038461538461539\n",
      "Hasil Precision dari Skenario 3 Mixed Reality 1.0\n",
      "Hasil Recall dari Skenario 3 Mixed Reality 0.8837209302325582\n",
      "Hasil F-1 Score dari Skenario 3 Mixed Reality 0.9382716049382717\n"
     ]
    }
   ],
   "source": [
    "cohen_kappa = (tp + tn)/(tp + tn + fp + fn)\n",
    "precision = tp/(tp+fp)\n",
    "recall = tp/(tp+fn)\n",
    "f1_score = 2 * (precision * recall)/(precision + recall)\n",
    "print(\"Hasil Cohen's Kappa dari Skenario 3 Mixed Reality {}\".format(cohen_kappa))\n",
    "print(\"Hasil Precision dari Skenario 3 Mixed Reality {}\".format(precision))\n",
    "print(\"Hasil Recall dari Skenario 3 Mixed Reality {}\".format(recall))\n",
    "print(\"Hasil F-1 Score dari Skenario 3 Mixed Reality {}\".format(f1_score))"
   ]
  },
  {
   "cell_type": "code",
   "execution_count": null,
   "metadata": {},
   "outputs": [],
   "source": [
    "start = time()\n",
    "sentence = 'process mining'\n",
    "query = preprocess(sentence)\n",
    "query_pm = lemmatize(query)\n",
    "sims_ft_pm = instance_ft_pm[query]\n",
    "sims_ft_non_pm = instance_ft_non_pm[query]\n",
    "print('Cell took %.2f minutes to run.' %((time() - start)/60))"
   ]
  },
  {
   "cell_type": "code",
   "execution_count": null,
   "metadata": {},
   "outputs": [],
   "source": [
    "wmd = list()\n",
    "print('Query:')\n",
    "print(sentence_pm)\n",
    "tp = 0\n",
    "fn = 0\n",
    "for i in range(len(pm_lemma)):\n",
    "    if sims_ft_pm[i][1] > threshold:\n",
    "        wmd.append(pm.Title.iloc[sims_ft_pm[i][0]])\n",
    "        tp = tp + 1\n",
    "    else:\n",
    "        fn = fn + 1\n",
    "print(\"Hasil True Positive Process Mining: {}\".format(tp))\n",
    "print(\"Hasil False Negative Process Mining: {}\".format(fn))"
   ]
  },
  {
   "cell_type": "code",
   "execution_count": null,
   "metadata": {},
   "outputs": [],
   "source": [
    "print('Query:')\n",
    "print(sentence_pm)\n",
    "fp = 0\n",
    "tn = 0\n",
    "for i in range(len(non_pm_lemma)):\n",
    "    if sims_ft_non_pm[i][1] > threshold:\n",
    "        fp = fp + 1\n",
    "    else:\n",
    "        tn = tn + 1\n",
    "        pass\n",
    "print(\"Hasil True Negative Process Mining: {}\".format(tn))\n",
    "print(\"Hasil False Positive Process Mining: {}\".format(fp))"
   ]
  }
 ],
 "metadata": {
  "kernelspec": {
   "display_name": "Python 3",
   "language": "python",
   "name": "python3"
  },
  "language_info": {
   "codemirror_mode": {
    "name": "ipython",
    "version": 3
   },
   "file_extension": ".py",
   "mimetype": "text/x-python",
   "name": "python",
   "nbconvert_exporter": "python",
   "pygments_lexer": "ipython3",
   "version": "3.7.4"
  }
 },
 "nbformat": 4,
 "nbformat_minor": 2
}
