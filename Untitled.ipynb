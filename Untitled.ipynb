{
 "cells": [
  {
   "cell_type": "code",
   "execution_count": 1,
   "metadata": {},
   "outputs": [],
   "source": [
    "import pandas as pd"
   ]
  },
  {
   "cell_type": "code",
   "execution_count": 48,
   "metadata": {},
   "outputs": [],
   "source": [
    "threshold_skenario_1_cocomo = 0.85\n",
    "threshold_skenario_2_cocomo = 0.85\n",
    "threshold_skenario_3_cocomo = 0.85\n",
    "threshold_skenario_1_non_cocomo = 0.85\n",
    "threshold_skenario_2_non_cocomo = 0.85\n",
    "threshold_skenario_3_non_cocomo = 0.85"
   ]
  },
  {
   "cell_type": "code",
   "execution_count": 283,
   "metadata": {},
   "outputs": [],
   "source": [
    "def truncate(n, decimals=0):\n",
    "    multiplier = 10 ** decimals\n",
    "    return int(n * multiplier) / multiplier"
   ]
  },
  {
   "cell_type": "code",
   "execution_count": null,
   "metadata": {},
   "outputs": [],
   "source": [
    "df_fp = pd.DataFrame()\n",
    "for metadata in wmd_non:\n",
    "    df_fp=df_fp.append(df[df['Title']==metadata])\n",
    "#     print(metadata)\n",
    "df_fp.drop(['Label'], axis=1)\n",
    "# df[df['Title']==wmd_non[0]]"
   ]
  },
  {
   "cell_type": "code",
   "execution_count": null,
   "metadata": {},
   "outputs": [],
   "source": [
    "df_fn = pd.DataFrame()\n",
    "for metadata in fn:\n",
    "    df_fn=df_fn.append(df[df['Title']==metadata])\n",
    "df_fn.drop(['Label'], axis=1)"
   ]
  },
  {
   "cell_type": "code",
   "execution_count": 22,
   "metadata": {},
   "outputs": [],
   "source": [
    "import nltk\n",
    "from nltk import word_tokenize\n",
    "from nltk.corpus import stopwords\n",
    "from nltk.stem import WordNetLemmatizer\n",
    "\n",
    "lemmatizer=WordNetLemmatizer()\n",
    "stop_words = stopwords.words('english')\n",
    "\n",
    "def preprocess(doc):\n",
    "    doc = doc.lower()  # Lower the text.\n",
    "    doc = word_tokenize(doc)  # Split into words.\n",
    "    doc = [w for w in doc if not w in stop_words]  # Remove stopwords.\n",
    "    doc = [w for w in doc if w.isalpha()]  # Remove numbers and punctuation.\n",
    "    return doc\n",
    "\n",
    "def lemmatize(doc):\n",
    "    doc_lemma = list()\n",
    "    for word in doc:\n",
    "        doc_lemma.append(lemmatizer.lemmatize(word))\n",
    "    return doc_lemma"
   ]
  },
  {
   "cell_type": "code",
   "execution_count": 2,
   "metadata": {},
   "outputs": [],
   "source": [
    "df = pd.read_excel('Evaluation.xlsx')"
   ]
  },
  {
   "cell_type": "code",
   "execution_count": 3,
   "metadata": {},
   "outputs": [
    {
     "data": {
      "text/plain": [
       "(128, 5)"
      ]
     },
     "execution_count": 3,
     "metadata": {},
     "output_type": "execute_result"
    }
   ],
   "source": [
    "df.shape"
   ]
  },
  {
   "cell_type": "code",
   "execution_count": 4,
   "metadata": {},
   "outputs": [
    {
     "data": {
      "text/html": [
       "<div>\n",
       "<style scoped>\n",
       "    .dataframe tbody tr th:only-of-type {\n",
       "        vertical-align: middle;\n",
       "    }\n",
       "\n",
       "    .dataframe tbody tr th {\n",
       "        vertical-align: top;\n",
       "    }\n",
       "\n",
       "    .dataframe thead th {\n",
       "        text-align: right;\n",
       "    }\n",
       "</style>\n",
       "<table border=\"1\" class=\"dataframe\">\n",
       "  <thead>\n",
       "    <tr style=\"text-align: right;\">\n",
       "      <th></th>\n",
       "      <th>Title</th>\n",
       "      <th>Abstract</th>\n",
       "      <th>Keywords</th>\n",
       "      <th>Source</th>\n",
       "      <th>Label</th>\n",
       "    </tr>\n",
       "  </thead>\n",
       "  <tbody>\n",
       "    <tr>\n",
       "      <td>0</td>\n",
       "      <td>A Novel Fuzzy Based Approach for Effort Estima...</td>\n",
       "      <td>Accurate and credible software effort estimati...</td>\n",
       "      <td>Effort Estimation, COCOMO, FIS, GMF, TMF, MMRE...</td>\n",
       "      <td>ACM</td>\n",
       "      <td>NaN</td>\n",
       "    </tr>\n",
       "    <tr>\n",
       "      <td>1</td>\n",
       "      <td>Recent Methods for Software Effort Estimation ...</td>\n",
       "      <td>Fairly accurate cost and effort predictions of...</td>\n",
       "      <td>COCOMO, Software Effort, Machine Learning</td>\n",
       "      <td>ACM</td>\n",
       "      <td>NaN</td>\n",
       "    </tr>\n",
       "    <tr>\n",
       "      <td>2</td>\n",
       "      <td>Software Cost Estimation Using Fuzzy Logic</td>\n",
       "      <td>Effective Software cost estimation is one of t...</td>\n",
       "      <td>COCOMO, Efforts, Fuzzy Logic, Software</td>\n",
       "      <td>ACM</td>\n",
       "      <td>NaN</td>\n",
       "    </tr>\n",
       "    <tr>\n",
       "      <td>3</td>\n",
       "      <td>The Mal Source Dataset: Quantifying Complexity...</td>\n",
       "      <td>During the last decades, the problem of malici...</td>\n",
       "      <td>Malware, Cloning, Complexity theory, Size meas...</td>\n",
       "      <td>IEEE</td>\n",
       "      <td>NaN</td>\n",
       "    </tr>\n",
       "    <tr>\n",
       "      <td>4</td>\n",
       "      <td>What Predicts Software Developers' Productivity?</td>\n",
       "      <td>Organizations have a variety of options to hel...</td>\n",
       "      <td>Productivity, Software, Companies, Google, Too...</td>\n",
       "      <td>IEEE</td>\n",
       "      <td>NaN</td>\n",
       "    </tr>\n",
       "  </tbody>\n",
       "</table>\n",
       "</div>"
      ],
      "text/plain": [
       "                                               Title  \\\n",
       "0  A Novel Fuzzy Based Approach for Effort Estima...   \n",
       "1  Recent Methods for Software Effort Estimation ...   \n",
       "2         Software Cost Estimation Using Fuzzy Logic   \n",
       "3  The Mal Source Dataset: Quantifying Complexity...   \n",
       "4   What Predicts Software Developers' Productivity?   \n",
       "\n",
       "                                            Abstract  \\\n",
       "0  Accurate and credible software effort estimati...   \n",
       "1  Fairly accurate cost and effort predictions of...   \n",
       "2  Effective Software cost estimation is one of t...   \n",
       "3  During the last decades, the problem of malici...   \n",
       "4  Organizations have a variety of options to hel...   \n",
       "\n",
       "                                            Keywords Source  Label  \n",
       "0  Effort Estimation, COCOMO, FIS, GMF, TMF, MMRE...    ACM    NaN  \n",
       "1          COCOMO, Software Effort, Machine Learning    ACM    NaN  \n",
       "2             COCOMO, Efforts, Fuzzy Logic, Software    ACM    NaN  \n",
       "3  Malware, Cloning, Complexity theory, Size meas...   IEEE    NaN  \n",
       "4  Productivity, Software, Companies, Google, Too...   IEEE    NaN  "
      ]
     },
     "execution_count": 4,
     "metadata": {},
     "output_type": "execute_result"
    }
   ],
   "source": [
    "df.head()"
   ]
  },
  {
   "cell_type": "code",
   "execution_count": 5,
   "metadata": {},
   "outputs": [],
   "source": [
    "df_test = pd.read_excel('Test.xlsx')"
   ]
  },
  {
   "cell_type": "code",
   "execution_count": 6,
   "metadata": {},
   "outputs": [
    {
     "data": {
      "text/html": [
       "<div>\n",
       "<style scoped>\n",
       "    .dataframe tbody tr th:only-of-type {\n",
       "        vertical-align: middle;\n",
       "    }\n",
       "\n",
       "    .dataframe tbody tr th {\n",
       "        vertical-align: top;\n",
       "    }\n",
       "\n",
       "    .dataframe thead th {\n",
       "        text-align: right;\n",
       "    }\n",
       "</style>\n",
       "<table border=\"1\" class=\"dataframe\">\n",
       "  <thead>\n",
       "    <tr style=\"text-align: right;\">\n",
       "      <th></th>\n",
       "      <th>Title</th>\n",
       "    </tr>\n",
       "  </thead>\n",
       "  <tbody>\n",
       "    <tr>\n",
       "      <td>0</td>\n",
       "      <td>A Novel Fuzzy Based Approach for Effort Estima...</td>\n",
       "    </tr>\n",
       "    <tr>\n",
       "      <td>1</td>\n",
       "      <td>Recent Methods for Software Effort Estimation ...</td>\n",
       "    </tr>\n",
       "    <tr>\n",
       "      <td>2</td>\n",
       "      <td>Software Cost Estimation Using Fuzzy Logic</td>\n",
       "    </tr>\n",
       "    <tr>\n",
       "      <td>3</td>\n",
       "      <td>The Mal Source Dataset: Quantifying Complexity...</td>\n",
       "    </tr>\n",
       "    <tr>\n",
       "      <td>4</td>\n",
       "      <td>What Predicts Software Developers' Productivity?</td>\n",
       "    </tr>\n",
       "  </tbody>\n",
       "</table>\n",
       "</div>"
      ],
      "text/plain": [
       "                                               Title\n",
       "0  A Novel Fuzzy Based Approach for Effort Estima...\n",
       "1  Recent Methods for Software Effort Estimation ...\n",
       "2         Software Cost Estimation Using Fuzzy Logic\n",
       "3  The Mal Source Dataset: Quantifying Complexity...\n",
       "4   What Predicts Software Developers' Productivity?"
      ]
     },
     "execution_count": 6,
     "metadata": {},
     "output_type": "execute_result"
    }
   ],
   "source": [
    "df_test.head()"
   ]
  },
  {
   "cell_type": "code",
   "execution_count": 7,
   "metadata": {},
   "outputs": [
    {
     "data": {
      "text/plain": [
       "105"
      ]
     },
     "execution_count": 7,
     "metadata": {},
     "output_type": "execute_result"
    }
   ],
   "source": [
    "len(df_test)"
   ]
  },
  {
   "cell_type": "code",
   "execution_count": 8,
   "metadata": {},
   "outputs": [],
   "source": [
    "test = df_test['Title'].to_list()"
   ]
  },
  {
   "cell_type": "code",
   "execution_count": 9,
   "metadata": {},
   "outputs": [],
   "source": [
    "df['content'] = df[['Title', 'Abstract', 'Keywords']].apply(lambda x: ' '.join(x), axis = 1) "
   ]
  },
  {
   "cell_type": "code",
   "execution_count": 10,
   "metadata": {},
   "outputs": [
    {
     "name": "stderr",
     "output_type": "stream",
     "text": [
      "C:\\Users\\nabil\\Anaconda3\\lib\\site-packages\\pandas\\core\\indexing.py:205: SettingWithCopyWarning: \n",
      "A value is trying to be set on a copy of a slice from a DataFrame\n",
      "\n",
      "See the caveats in the documentation: http://pandas.pydata.org/pandas-docs/stable/user_guide/indexing.html#returning-a-view-versus-a-copy\n",
      "  self._setitem_with_indexer(indexer, value)\n"
     ]
    }
   ],
   "source": [
    "for x in range(128):\n",
    "    if df.Title.iloc[x] in test:\n",
    "        df.Label.iloc[x] = 'Yes'\n",
    "    else:\n",
    "        df.Label.iloc[x] = 'No'"
   ]
  },
  {
   "cell_type": "code",
   "execution_count": 12,
   "metadata": {},
   "outputs": [],
   "source": [
    "cocomo = df[df['Label']=='Yes']"
   ]
  },
  {
   "cell_type": "code",
   "execution_count": 13,
   "metadata": {},
   "outputs": [],
   "source": [
    "non_cocomo = df[df['Label']=='No']"
   ]
  },
  {
   "cell_type": "code",
   "execution_count": 14,
   "metadata": {},
   "outputs": [
    {
     "data": {
      "text/html": [
       "<div>\n",
       "<style scoped>\n",
       "    .dataframe tbody tr th:only-of-type {\n",
       "        vertical-align: middle;\n",
       "    }\n",
       "\n",
       "    .dataframe tbody tr th {\n",
       "        vertical-align: top;\n",
       "    }\n",
       "\n",
       "    .dataframe thead th {\n",
       "        text-align: right;\n",
       "    }\n",
       "</style>\n",
       "<table border=\"1\" class=\"dataframe\">\n",
       "  <thead>\n",
       "    <tr style=\"text-align: right;\">\n",
       "      <th></th>\n",
       "      <th>Title</th>\n",
       "      <th>Abstract</th>\n",
       "      <th>Keywords</th>\n",
       "      <th>Source</th>\n",
       "      <th>Label</th>\n",
       "      <th>content</th>\n",
       "    </tr>\n",
       "  </thead>\n",
       "  <tbody>\n",
       "    <tr>\n",
       "      <td>0</td>\n",
       "      <td>A Novel Fuzzy Based Approach for Effort Estima...</td>\n",
       "      <td>Accurate and credible software effort estimati...</td>\n",
       "      <td>Effort Estimation, COCOMO, FIS, GMF, TMF, MMRE...</td>\n",
       "      <td>ACM</td>\n",
       "      <td>Yes</td>\n",
       "      <td>A Novel Fuzzy Based Approach for Effort Estima...</td>\n",
       "    </tr>\n",
       "    <tr>\n",
       "      <td>1</td>\n",
       "      <td>Recent Methods for Software Effort Estimation ...</td>\n",
       "      <td>Fairly accurate cost and effort predictions of...</td>\n",
       "      <td>COCOMO, Software Effort, Machine Learning</td>\n",
       "      <td>ACM</td>\n",
       "      <td>Yes</td>\n",
       "      <td>Recent Methods for Software Effort Estimation ...</td>\n",
       "    </tr>\n",
       "    <tr>\n",
       "      <td>2</td>\n",
       "      <td>Software Cost Estimation Using Fuzzy Logic</td>\n",
       "      <td>Effective Software cost estimation is one of t...</td>\n",
       "      <td>COCOMO, Efforts, Fuzzy Logic, Software</td>\n",
       "      <td>ACM</td>\n",
       "      <td>Yes</td>\n",
       "      <td>Software Cost Estimation Using Fuzzy Logic Eff...</td>\n",
       "    </tr>\n",
       "    <tr>\n",
       "      <td>3</td>\n",
       "      <td>The Mal Source Dataset: Quantifying Complexity...</td>\n",
       "      <td>During the last decades, the problem of malici...</td>\n",
       "      <td>Malware, Cloning, Complexity theory, Size meas...</td>\n",
       "      <td>IEEE</td>\n",
       "      <td>Yes</td>\n",
       "      <td>The Mal Source Dataset: Quantifying Complexity...</td>\n",
       "    </tr>\n",
       "    <tr>\n",
       "      <td>4</td>\n",
       "      <td>What Predicts Software Developers' Productivity?</td>\n",
       "      <td>Organizations have a variety of options to hel...</td>\n",
       "      <td>Productivity, Software, Companies, Google, Too...</td>\n",
       "      <td>IEEE</td>\n",
       "      <td>Yes</td>\n",
       "      <td>What Predicts Software Developers' Productivit...</td>\n",
       "    </tr>\n",
       "  </tbody>\n",
       "</table>\n",
       "</div>"
      ],
      "text/plain": [
       "                                               Title  \\\n",
       "0  A Novel Fuzzy Based Approach for Effort Estima...   \n",
       "1  Recent Methods for Software Effort Estimation ...   \n",
       "2         Software Cost Estimation Using Fuzzy Logic   \n",
       "3  The Mal Source Dataset: Quantifying Complexity...   \n",
       "4   What Predicts Software Developers' Productivity?   \n",
       "\n",
       "                                            Abstract  \\\n",
       "0  Accurate and credible software effort estimati...   \n",
       "1  Fairly accurate cost and effort predictions of...   \n",
       "2  Effective Software cost estimation is one of t...   \n",
       "3  During the last decades, the problem of malici...   \n",
       "4  Organizations have a variety of options to hel...   \n",
       "\n",
       "                                            Keywords Source Label  \\\n",
       "0  Effort Estimation, COCOMO, FIS, GMF, TMF, MMRE...    ACM   Yes   \n",
       "1          COCOMO, Software Effort, Machine Learning    ACM   Yes   \n",
       "2             COCOMO, Efforts, Fuzzy Logic, Software    ACM   Yes   \n",
       "3  Malware, Cloning, Complexity theory, Size meas...   IEEE   Yes   \n",
       "4  Productivity, Software, Companies, Google, Too...   IEEE   Yes   \n",
       "\n",
       "                                             content  \n",
       "0  A Novel Fuzzy Based Approach for Effort Estima...  \n",
       "1  Recent Methods for Software Effort Estimation ...  \n",
       "2  Software Cost Estimation Using Fuzzy Logic Eff...  \n",
       "3  The Mal Source Dataset: Quantifying Complexity...  \n",
       "4  What Predicts Software Developers' Productivit...  "
      ]
     },
     "execution_count": 14,
     "metadata": {},
     "output_type": "execute_result"
    }
   ],
   "source": [
    "cocomo.head()"
   ]
  },
  {
   "cell_type": "code",
   "execution_count": 18,
   "metadata": {},
   "outputs": [],
   "source": [
    "cocomo_content = cocomo['content'].to_list()\n",
    "non_cocomo_content = non_cocomo['content'].to_list()"
   ]
  },
  {
   "cell_type": "code",
   "execution_count": 19,
   "metadata": {},
   "outputs": [
    {
     "data": {
      "text/plain": [
       "105"
      ]
     },
     "execution_count": 19,
     "metadata": {},
     "output_type": "execute_result"
    }
   ],
   "source": [
    "len(cocomo_content)"
   ]
  },
  {
   "cell_type": "code",
   "execution_count": 20,
   "metadata": {},
   "outputs": [
    {
     "data": {
      "text/plain": [
       "23"
      ]
     },
     "execution_count": 20,
     "metadata": {},
     "output_type": "execute_result"
    }
   ],
   "source": [
    "len(non_cocomo_content)"
   ]
  },
  {
   "cell_type": "code",
   "execution_count": 23,
   "metadata": {},
   "outputs": [],
   "source": [
    "cocomo_corpus = list()\n",
    "cocomo_lemma = list()\n",
    "for x in cocomo_content:\n",
    "    cocomo_corpus.append(preprocess(x))\n",
    "for x in cocomo_corpus:\n",
    "    cocomo_lemma.append(lemmatize(x))"
   ]
  },
  {
   "cell_type": "code",
   "execution_count": 25,
   "metadata": {},
   "outputs": [],
   "source": [
    "non_cocomo_corpus = list()\n",
    "non_cocomo_lemma = list()\n",
    "for x in non_cocomo_content:\n",
    "    non_cocomo_corpus.append(preprocess(x))\n",
    "for x in non_cocomo_corpus:\n",
    "    non_cocomo_lemma.append(lemmatize(x))"
   ]
  },
  {
   "cell_type": "code",
   "execution_count": 26,
   "metadata": {},
   "outputs": [
    {
     "data": {
      "text/plain": [
       "4"
      ]
     },
     "execution_count": 26,
     "metadata": {},
     "output_type": "execute_result"
    }
   ],
   "source": [
    "import multiprocessing\n",
    "from time import time\n",
    "\n",
    "multiprocessing.cpu_count()"
   ]
  },
  {
   "cell_type": "code",
   "execution_count": 27,
   "metadata": {},
   "outputs": [],
   "source": [
    "from gensim.models import FastText as ft"
   ]
  },
  {
   "cell_type": "code",
   "execution_count": 214,
   "metadata": {},
   "outputs": [
    {
     "name": "stdout",
     "output_type": "stream",
     "text": [
      "Cell took 0.30 minutes to run.\n"
     ]
    }
   ],
   "source": [
    "start = time()\n",
    "model_ft_wmd = ft(cocomo_lemma, sg=1, workers=multiprocessing.cpu_count()-1, iter=5,size=100, min_count=5, window=2)\n",
    "model_ft_wmd_non = ft(non_cocomo_lemma, sg=1, workers=multiprocessing.cpu_count()-1, iter=5,size=100, min_count=5, window=2)\n",
    "print('Cell took %.2f minutes to run.' %((time() - start)/60))"
   ]
  },
  {
   "cell_type": "code",
   "execution_count": 29,
   "metadata": {},
   "outputs": [],
   "source": [
    "from gensim.similarities import WmdSimilarity"
   ]
  },
  {
   "cell_type": "code",
   "execution_count": 215,
   "metadata": {},
   "outputs": [],
   "source": [
    "instance_ft = WmdSimilarity(cocomo_lemma, model_ft_wmd, num_best=105)"
   ]
  },
  {
   "cell_type": "code",
   "execution_count": 216,
   "metadata": {},
   "outputs": [],
   "source": [
    "instance_ft_non = WmdSimilarity(non_cocomo_lemma, model_ft_wmd_non, num_best=23)"
   ]
  },
  {
   "cell_type": "markdown",
   "metadata": {},
   "source": [
    "## Skenario 1 COCOMO"
   ]
  },
  {
   "cell_type": "code",
   "execution_count": 295,
   "metadata": {},
   "outputs": [],
   "source": [
    "start = time()\n",
    "\n",
    "sentence = 'cocomo'\n",
    "query = preprocess(sentence)\n",
    "query = lemmatize(query)"
   ]
  },
  {
   "cell_type": "code",
   "execution_count": 296,
   "metadata": {},
   "outputs": [
    {
     "name": "stdout",
     "output_type": "stream",
     "text": [
      "Cell took 0.02 minutes to run.\n"
     ]
    }
   ],
   "source": [
    "start = time()\n",
    "sims_ft = instance_ft[query]\n",
    "sims_ft_non = instance_ft_non[query]\n",
    "print('Cell took %.2f minutes to run.' %((time() - start)/60))"
   ]
  },
  {
   "cell_type": "code",
   "execution_count": 302,
   "metadata": {},
   "outputs": [
    {
     "name": "stdout",
     "output_type": "stream",
     "text": [
      "Query:\n",
      "cocomo\n",
      "Hasil True Negative dari dataset yang bukan COCOMO sebanyak 23\n",
      "Hasil False Positive dari dataset yang bukan COCOMO sebanyak 0\n"
     ]
    }
   ],
   "source": [
    "wmd_non = list()\n",
    "print('Query:')\n",
    "print(sentence)\n",
    "fp = 0\n",
    "tn = 0\n",
    "for i in range(23):\n",
    "    if sims_ft_non[i][1] >= threshold_skenario_1_non_cocomo:\n",
    "        wmd_non.append(non_cocomo.Title.iloc[sims_ft_non[i][0]])\n",
    "        fp = fp + 1\n",
    "    else:\n",
    "        tn = tn + 1\n",
    "\n",
    "print(\"Hasil True Negative dari dataset yang bukan COCOMO sebanyak {}\".format(tn))\n",
    "print(\"Hasil False Positive dari dataset yang bukan COCOMO sebanyak {}\".format(fp))"
   ]
  },
  {
   "cell_type": "code",
   "execution_count": 301,
   "metadata": {
    "scrolled": true
   },
   "outputs": [
    {
     "name": "stdout",
     "output_type": "stream",
     "text": [
      "Query:\n",
      "cocomo\n",
      "Hasil True Positive dari dataset yang COCOMO sebanyak 96\n",
      "Hasil False Negative dari dataset yang COCOMO sebanyak 9\n"
     ]
    }
   ],
   "source": [
    "wmd = list()\n",
    "print('Query:')\n",
    "print(sentence)\n",
    "tp = 0\n",
    "fn = 0\n",
    "for i in range(105):\n",
    "    if round(sims_ft[i][1],2) >= threshold_skenario_1_cocomo:\n",
    "        wmd.append(cocomo.Title.iloc[sims_ft[i][0]])\n",
    "        tp = tp + 1\n",
    "    else:\n",
    "        fn = fn + 1\n",
    "print(\"Hasil True Positive dari dataset yang COCOMO sebanyak {}\".format(tp))\n",
    "print(\"Hasil False Negative dari dataset yang COCOMO sebanyak {}\".format(fn))"
   ]
  },
  {
   "cell_type": "code",
   "execution_count": 188,
   "metadata": {},
   "outputs": [
    {
     "data": {
      "text/html": [
       "<div>\n",
       "<style scoped>\n",
       "    .dataframe tbody tr th:only-of-type {\n",
       "        vertical-align: middle;\n",
       "    }\n",
       "\n",
       "    .dataframe tbody tr th {\n",
       "        vertical-align: top;\n",
       "    }\n",
       "\n",
       "    .dataframe thead th {\n",
       "        text-align: right;\n",
       "    }\n",
       "</style>\n",
       "<table border=\"1\" class=\"dataframe\">\n",
       "  <thead>\n",
       "    <tr style=\"text-align: right;\">\n",
       "      <th></th>\n",
       "      <th>Title</th>\n",
       "      <th>Abstract</th>\n",
       "      <th>Keywords</th>\n",
       "      <th>Source</th>\n",
       "      <th>content</th>\n",
       "    </tr>\n",
       "  </thead>\n",
       "  <tbody>\n",
       "    <tr>\n",
       "      <td>20</td>\n",
       "      <td>Software cost estimation for component based f...</td>\n",
       "      <td>Software cost estimation is important for budg...</td>\n",
       "      <td>budgeting , object-oriented programming , proj...</td>\n",
       "      <td>IEEE</td>\n",
       "      <td>Software cost estimation for component based f...</td>\n",
       "    </tr>\n",
       "    <tr>\n",
       "      <td>53</td>\n",
       "      <td>A PSO-based model to increase the accuracy of ...</td>\n",
       "      <td>Development effort is one of the most importan...</td>\n",
       "      <td>Development effort estimation COCOMO Analogy-b...</td>\n",
       "      <td>Springer Link</td>\n",
       "      <td>A PSO-based model to increase the accuracy of ...</td>\n",
       "    </tr>\n",
       "    <tr>\n",
       "      <td>31</td>\n",
       "      <td>Cuckoo search-based hybrid models for improvin...</td>\n",
       "      <td>This research proposes a new approach which is...</td>\n",
       "      <td>Cuckoo search COCOMO model Software effort est...</td>\n",
       "      <td>Springer Link</td>\n",
       "      <td>Cuckoo search-based hybrid models for improvin...</td>\n",
       "    </tr>\n",
       "    <tr>\n",
       "      <td>87</td>\n",
       "      <td>A simulation model for strategic management pr...</td>\n",
       "      <td>In this study, a simulation model for the stra...</td>\n",
       "      <td>Strategic management,Simulation modelling,Deci...</td>\n",
       "      <td>Science Direct</td>\n",
       "      <td>A simulation model for strategic management pr...</td>\n",
       "    </tr>\n",
       "    <tr>\n",
       "      <td>45</td>\n",
       "      <td>Transfer learning in effort estimation</td>\n",
       "      <td>When projects lack sufficient local data to ma...</td>\n",
       "      <td>Transfer learning Effort estimation COCOMO mod...</td>\n",
       "      <td>Springer Link</td>\n",
       "      <td>Transfer learning in effort estimation When pr...</td>\n",
       "    </tr>\n",
       "  </tbody>\n",
       "</table>\n",
       "</div>"
      ],
      "text/plain": [
       "                                                Title  \\\n",
       "20  Software cost estimation for component based f...   \n",
       "53  A PSO-based model to increase the accuracy of ...   \n",
       "31  Cuckoo search-based hybrid models for improvin...   \n",
       "87  A simulation model for strategic management pr...   \n",
       "45             Transfer learning in effort estimation   \n",
       "\n",
       "                                             Abstract  \\\n",
       "20  Software cost estimation is important for budg...   \n",
       "53  Development effort is one of the most importan...   \n",
       "31  This research proposes a new approach which is...   \n",
       "87  In this study, a simulation model for the stra...   \n",
       "45  When projects lack sufficient local data to ma...   \n",
       "\n",
       "                                             Keywords          Source  \\\n",
       "20  budgeting , object-oriented programming , proj...            IEEE   \n",
       "53  Development effort estimation COCOMO Analogy-b...   Springer Link   \n",
       "31  Cuckoo search COCOMO model Software effort est...   Springer Link   \n",
       "87  Strategic management,Simulation modelling,Deci...  Science Direct   \n",
       "45  Transfer learning Effort estimation COCOMO mod...   Springer Link   \n",
       "\n",
       "                                              content  \n",
       "20  Software cost estimation for component based f...  \n",
       "53  A PSO-based model to increase the accuracy of ...  \n",
       "31  Cuckoo search-based hybrid models for improvin...  \n",
       "87  A simulation model for strategic management pr...  \n",
       "45  Transfer learning in effort estimation When pr...  "
      ]
     },
     "execution_count": 188,
     "metadata": {},
     "output_type": "execute_result"
    }
   ],
   "source": [
    "df_tp = pd.DataFrame()\n",
    "for metadata in wmd:\n",
    "    df_tp=df_tp.append(df[df['Title']==metadata])\n",
    "\n",
    "df_tp = df_tp.drop(['Label'], axis=1)\n",
    "df_tp.head()"
   ]
  },
  {
   "cell_type": "code",
   "execution_count": 169,
   "metadata": {},
   "outputs": [
    {
     "name": "stdout",
     "output_type": "stream",
     "text": [
      "Hasil Cohen's Kappa dari Skenario 1 COCOMO 0.890625\n",
      "Hasil Precision dari Skenario 1 COCOMO 1.0\n",
      "Hasil Recall dari Skenario 1 COCOMO 0.8666666666666667\n",
      "Hasil F-1 Score dari Skenario 1 COCOMO 0.9285714285714286\n"
     ]
    }
   ],
   "source": [
    "cohen_kappa = (tp + tn)/(tp + tn + fp + fn)\n",
    "precision = tp/(tp+fp)\n",
    "recall = tp/(tp+fn)\n",
    "f1_score = 2 * (precision * recall)/(precision + recall)\n",
    "print(\"Hasil Cohen's Kappa dari Skenario 1 COCOMO {}\".format(cohen_kappa))\n",
    "print(\"Hasil Precision dari Skenario 1 COCOMO {}\".format(precision))\n",
    "print(\"Hasil Recall dari Skenario 1 COCOMO {}\".format(recall))\n",
    "print(\"Hasil F-1 Score dari Skenario 1 COCOMO {}\".format(f1_score))"
   ]
  },
  {
   "cell_type": "markdown",
   "metadata": {},
   "source": [
    "## Skenario 2 COCOMO"
   ]
  },
  {
   "cell_type": "code",
   "execution_count": 312,
   "metadata": {},
   "outputs": [],
   "source": [
    "start = time()\n",
    "\n",
    "sentence = 'cocomo' + ' cost ' + 'constructive'\n",
    "query = preprocess(sentence)\n",
    "query = lemmatize(query)"
   ]
  },
  {
   "cell_type": "code",
   "execution_count": 313,
   "metadata": {},
   "outputs": [
    {
     "name": "stdout",
     "output_type": "stream",
     "text": [
      "Cell took 0.03 minutes to run.\n"
     ]
    }
   ],
   "source": [
    "start = time()\n",
    "sims_ft = instance_ft[query]\n",
    "sims_ft_non = instance_ft_non[query]\n",
    "print('Cell took %.2f minutes to run.' %((time() - start)/60))"
   ]
  },
  {
   "cell_type": "code",
   "execution_count": 314,
   "metadata": {},
   "outputs": [
    {
     "name": "stdout",
     "output_type": "stream",
     "text": [
      "Query:\n",
      "cocomo cost constructive\n",
      "Hasil True Negative dari dataset yang bukan COCOMO sebanyak 23\n",
      "Hasil False Positive dari dataset yang bukan COCOMO sebanyak 0\n"
     ]
    }
   ],
   "source": [
    "wmd_non = list()\n",
    "print('Query:')\n",
    "print(sentence)\n",
    "fp = 0\n",
    "tn = 0\n",
    "for i in range(23):\n",
    "#     print('sim = %.3f' % sims_ft[i][1])\n",
    "    if sims_ft_non[i][1] >= threshold_skenario_2_non_cocomo:\n",
    "#         print(non_cocomo.Title.iloc[sims_ft_non[i][0]])\n",
    "        wmd_non.append(non_cocomo.Title.iloc[sims_ft_non[i][0]])\n",
    "        fp = fp + 1\n",
    "    else:\n",
    "#         print(non_cocomo.Title.iloc[sims_ft_non[i][0]])\n",
    "        tn = tn + 1\n",
    "# print(\"Hasil yang tertangkap dari dataset yang bukan COCOMO sebanyak {}\".format(count))\n",
    "print(\"Hasil True Negative dari dataset yang bukan COCOMO sebanyak {}\".format(tn))\n",
    "print(\"Hasil False Positive dari dataset yang bukan COCOMO sebanyak {}\".format(fp))"
   ]
  },
  {
   "cell_type": "code",
   "execution_count": 315,
   "metadata": {},
   "outputs": [
    {
     "name": "stdout",
     "output_type": "stream",
     "text": [
      "Query:\n",
      "cocomo cost constructive\n",
      "Hasil True Positive dari dataset yang COCOMO sebanyak 93\n",
      "Hasil False Negative dari dataset yang COCOMO sebanyak 12\n"
     ]
    }
   ],
   "source": [
    "wmd = list()\n",
    "print('Query:')\n",
    "print(sentence)\n",
    "tp = 0\n",
    "fn = 0\n",
    "for i in range(105):\n",
    "#     print('sim = %.3f' % sims_w2v[i][1])\n",
    "    if round(sims_ft[i][1],2) > .85:\n",
    "#         print(cocomo.Title.iloc[sims_ft[i][0]])\n",
    "        wmd.append(cocomo.Title.iloc[sims_ft[i][0]])\n",
    "        tp = tp + 1\n",
    "    else:\n",
    "#         print(cocomo.Title.iloc[sims_ft[i][0]])\n",
    "#         fn.append(cocomo.Title.iloc[sims_ft[i][0]])\n",
    "        fn = fn + 1\n",
    "print(\"Hasil True Positive dari dataset yang COCOMO sebanyak {}\".format(tp))\n",
    "print(\"Hasil False Negative dari dataset yang COCOMO sebanyak {}\".format(fn))"
   ]
  },
  {
   "cell_type": "code",
   "execution_count": 174,
   "metadata": {},
   "outputs": [
    {
     "data": {
      "text/html": [
       "<div>\n",
       "<style scoped>\n",
       "    .dataframe tbody tr th:only-of-type {\n",
       "        vertical-align: middle;\n",
       "    }\n",
       "\n",
       "    .dataframe tbody tr th {\n",
       "        vertical-align: top;\n",
       "    }\n",
       "\n",
       "    .dataframe thead th {\n",
       "        text-align: right;\n",
       "    }\n",
       "</style>\n",
       "<table border=\"1\" class=\"dataframe\">\n",
       "  <thead>\n",
       "    <tr style=\"text-align: right;\">\n",
       "      <th></th>\n",
       "      <th>Title</th>\n",
       "      <th>Abstract</th>\n",
       "      <th>Keywords</th>\n",
       "      <th>Source</th>\n",
       "      <th>content</th>\n",
       "    </tr>\n",
       "  </thead>\n",
       "  <tbody>\n",
       "    <tr>\n",
       "      <td>20</td>\n",
       "      <td>Software cost estimation for component based f...</td>\n",
       "      <td>Software cost estimation is important for budg...</td>\n",
       "      <td>budgeting , object-oriented programming , proj...</td>\n",
       "      <td>IEEE</td>\n",
       "      <td>Software cost estimation for component based f...</td>\n",
       "    </tr>\n",
       "    <tr>\n",
       "      <td>53</td>\n",
       "      <td>A PSO-based model to increase the accuracy of ...</td>\n",
       "      <td>Development effort is one of the most importan...</td>\n",
       "      <td>Development effort estimation COCOMO Analogy-b...</td>\n",
       "      <td>Springer Link</td>\n",
       "      <td>A PSO-based model to increase the accuracy of ...</td>\n",
       "    </tr>\n",
       "    <tr>\n",
       "      <td>31</td>\n",
       "      <td>Cuckoo search-based hybrid models for improvin...</td>\n",
       "      <td>This research proposes a new approach which is...</td>\n",
       "      <td>Cuckoo search COCOMO model Software effort est...</td>\n",
       "      <td>Springer Link</td>\n",
       "      <td>Cuckoo search-based hybrid models for improvin...</td>\n",
       "    </tr>\n",
       "    <tr>\n",
       "      <td>45</td>\n",
       "      <td>Transfer learning in effort estimation</td>\n",
       "      <td>When projects lack sufficient local data to ma...</td>\n",
       "      <td>Transfer learning Effort estimation COCOMO mod...</td>\n",
       "      <td>Springer Link</td>\n",
       "      <td>Transfer learning in effort estimation When pr...</td>\n",
       "    </tr>\n",
       "    <tr>\n",
       "      <td>87</td>\n",
       "      <td>A simulation model for strategic management pr...</td>\n",
       "      <td>In this study, a simulation model for the stra...</td>\n",
       "      <td>Strategic management,Simulation modelling,Deci...</td>\n",
       "      <td>Science Direct</td>\n",
       "      <td>A simulation model for strategic management pr...</td>\n",
       "    </tr>\n",
       "  </tbody>\n",
       "</table>\n",
       "</div>"
      ],
      "text/plain": [
       "                                                Title  \\\n",
       "20  Software cost estimation for component based f...   \n",
       "53  A PSO-based model to increase the accuracy of ...   \n",
       "31  Cuckoo search-based hybrid models for improvin...   \n",
       "45             Transfer learning in effort estimation   \n",
       "87  A simulation model for strategic management pr...   \n",
       "\n",
       "                                             Abstract  \\\n",
       "20  Software cost estimation is important for budg...   \n",
       "53  Development effort is one of the most importan...   \n",
       "31  This research proposes a new approach which is...   \n",
       "45  When projects lack sufficient local data to ma...   \n",
       "87  In this study, a simulation model for the stra...   \n",
       "\n",
       "                                             Keywords          Source  \\\n",
       "20  budgeting , object-oriented programming , proj...            IEEE   \n",
       "53  Development effort estimation COCOMO Analogy-b...   Springer Link   \n",
       "31  Cuckoo search COCOMO model Software effort est...   Springer Link   \n",
       "45  Transfer learning Effort estimation COCOMO mod...   Springer Link   \n",
       "87  Strategic management,Simulation modelling,Deci...  Science Direct   \n",
       "\n",
       "                                              content  \n",
       "20  Software cost estimation for component based f...  \n",
       "53  A PSO-based model to increase the accuracy of ...  \n",
       "31  Cuckoo search-based hybrid models for improvin...  \n",
       "45  Transfer learning in effort estimation When pr...  \n",
       "87  A simulation model for strategic management pr...  "
      ]
     },
     "execution_count": 174,
     "metadata": {},
     "output_type": "execute_result"
    }
   ],
   "source": [
    "df_tp = pd.DataFrame()\n",
    "for metadata in wmd:\n",
    "    df_tp=df_tp.append(df[df['Title']==metadata])\n",
    "\n",
    "df_tp = df_tp.drop(['Label'], axis=1)\n",
    "df_tp.head()"
   ]
  },
  {
   "cell_type": "code",
   "execution_count": 175,
   "metadata": {},
   "outputs": [
    {
     "name": "stdout",
     "output_type": "stream",
     "text": [
      "Hasil Cohen's Kappa dari Skenario 2 COCOMO 0.9296875\n",
      "Hasil Precision dari Skenario 2 COCOMO 1.0\n",
      "Hasil Recall dari Skenario 2 COCOMO 0.9142857142857143\n",
      "Hasil F-1 Score dari Skenario 2 COCOMO 0.955223880597015\n"
     ]
    }
   ],
   "source": [
    "cohen_kappa = (tp + tn)/(tp + tn + fp + fn)\n",
    "precision = tp/(tp+fp)\n",
    "recall = tp/(tp+fn)\n",
    "f1_score = 2 * (precision * recall)/(precision + recall)\n",
    "print(\"Hasil Cohen's Kappa dari Skenario 2 COCOMO {}\".format(cohen_kappa))\n",
    "print(\"Hasil Precision dari Skenario 2 COCOMO {}\".format(precision))\n",
    "print(\"Hasil Recall dari Skenario 2 COCOMO {}\".format(recall))\n",
    "print(\"Hasil F-1 Score dari Skenario 2 COCOMO {}\".format(f1_score))"
   ]
  },
  {
   "cell_type": "markdown",
   "metadata": {},
   "source": [
    "## Skenario 3 COCOMO"
   ]
  },
  {
   "cell_type": "code",
   "execution_count": 254,
   "metadata": {},
   "outputs": [],
   "source": [
    "start = time()\n",
    "\n",
    "sentence = 'cocomo'\n",
    "query = preprocess(sentence)\n",
    "query = lemmatize(query)"
   ]
  },
  {
   "cell_type": "code",
   "execution_count": 316,
   "metadata": {},
   "outputs": [
    {
     "name": "stderr",
     "output_type": "stream",
     "text": [
      "C:\\Users\\nabil\\Anaconda3\\lib\\site-packages\\ipykernel_launcher.py:1: DeprecationWarning: Call to deprecated `most_similar` (Method will be removed in 4.0.0, use self.wv.most_similar() instead).\n",
      "  \"\"\"Entry point for launching an IPython kernel.\n"
     ]
    },
    {
     "data": {
      "text/plain": [
       "'modifiability'"
      ]
     },
     "execution_count": 316,
     "metadata": {},
     "output_type": "execute_result"
    }
   ],
   "source": [
    "similar = model_ft_wmd.most_similar(positive=query, topn=50)\n",
    "cocomo_most_similar_1 = similar[0][0]\n",
    "cocomo_most_similar_10 = similar[9][0]\n",
    "cocomo_most_similar_20 = similar[19][0]\n",
    "cocomo_most_similar_20"
   ]
  },
  {
   "cell_type": "code",
   "execution_count": 278,
   "metadata": {},
   "outputs": [],
   "source": [
    "start = time()\n",
    "\n",
    "sentence = \"cocomo\" + \" \" + cocomo_most_similar_1 + \" \" + cocomo_most_similar_10\n",
    "query = preprocess(sentence)\n",
    "query = lemmatize(query)"
   ]
  },
  {
   "cell_type": "code",
   "execution_count": 279,
   "metadata": {},
   "outputs": [
    {
     "name": "stdout",
     "output_type": "stream",
     "text": [
      "Cell took 0.03 minutes to run.\n"
     ]
    }
   ],
   "source": [
    "start = time()\n",
    "sims_ft = instance_ft[query]\n",
    "sims_ft_non = instance_ft_non[query]\n",
    "print('Cell took %.2f minutes to run.' %((time() - start)/60))"
   ]
  },
  {
   "cell_type": "code",
   "execution_count": 290,
   "metadata": {},
   "outputs": [
    {
     "data": {
      "text/plain": [
       "0.72"
      ]
     },
     "execution_count": 290,
     "metadata": {},
     "output_type": "execute_result"
    }
   ],
   "source": [
    "round(0.723,2)"
   ]
  },
  {
   "cell_type": "code",
   "execution_count": 287,
   "metadata": {},
   "outputs": [
    {
     "name": "stdout",
     "output_type": "stream",
     "text": [
      "Query:\n",
      "cocomo computing measurement\n",
      "Hasil True Negative dari dataset yang bukan COCOMO sebanyak 23\n",
      "Hasil False Positive dari dataset yang bukan COCOMO sebanyak 0\n"
     ]
    }
   ],
   "source": [
    "wmd_non = list()\n",
    "print('Query:')\n",
    "print(sentence)\n",
    "fp = 0\n",
    "tn = 0\n",
    "for i in range(23):\n",
    "#     print('sim = %.3f' % sims_ft[i][1])\n",
    "    if round(sims_ft_non[i][1],2) > threshold_skenario_3_non_cocomo:\n",
    "#         print(non_cocomo.Title.iloc[sims_ft_non[i][0]])\n",
    "        wmd_non.append(non_cocomo.Title.iloc[sims_ft_non[i][0]])\n",
    "        fp = fp + 1\n",
    "    else:\n",
    "#         print(non_cocomo.Title.iloc[sims_ft_non[i][0]])\n",
    "        tn = tn + 1\n",
    "# print(\"Hasil yang tertangkap dari dataset yang bukan COCOMO sebanyak {}\".format(count))\n",
    "print(\"Hasil True Negative dari dataset yang bukan COCOMO sebanyak {}\".format(tn))\n",
    "print(\"Hasil False Positive dari dataset yang bukan COCOMO sebanyak {}\".format(fp))"
   ]
  },
  {
   "cell_type": "code",
   "execution_count": 288,
   "metadata": {},
   "outputs": [
    {
     "name": "stdout",
     "output_type": "stream",
     "text": [
      "Query:\n",
      "cocomo computing measurement\n",
      "Hasil True Positive dari dataset yang COCOMO sebanyak 97\n",
      "Hasil False Negative dari dataset yang COCOMO sebanyak 8\n"
     ]
    }
   ],
   "source": [
    "wmd = list()\n",
    "print('Query:')\n",
    "print(sentence)\n",
    "tp = 0\n",
    "fn = 0\n",
    "for i in range(105):\n",
    "#     print('sim = %.3f' % sims_w2v[i][1])\n",
    "    if round(sims_ft[i][1],2) >= 0.85:\n",
    "#         print(cocomo.Title.iloc[sims_ft[i][0]])\n",
    "        wmd.append(cocomo.Title.iloc[sims_ft[i][0]])\n",
    "        tp = tp + 1\n",
    "    else:\n",
    "#         print(cocomo.Title.iloc[sims_ft[i][0]])\n",
    "#         fn.append(cocomo.Title.iloc[sims_ft[i][0]])\n",
    "        fn = fn + 1\n",
    "print(\"Hasil True Positive dari dataset yang COCOMO sebanyak {}\".format(tp))\n",
    "print(\"Hasil False Negative dari dataset yang COCOMO sebanyak {}\".format(fn))"
   ]
  },
  {
   "cell_type": "code",
   "execution_count": 182,
   "metadata": {},
   "outputs": [
    {
     "data": {
      "text/html": [
       "<div>\n",
       "<style scoped>\n",
       "    .dataframe tbody tr th:only-of-type {\n",
       "        vertical-align: middle;\n",
       "    }\n",
       "\n",
       "    .dataframe tbody tr th {\n",
       "        vertical-align: top;\n",
       "    }\n",
       "\n",
       "    .dataframe thead th {\n",
       "        text-align: right;\n",
       "    }\n",
       "</style>\n",
       "<table border=\"1\" class=\"dataframe\">\n",
       "  <thead>\n",
       "    <tr style=\"text-align: right;\">\n",
       "      <th></th>\n",
       "      <th>Title</th>\n",
       "      <th>Abstract</th>\n",
       "      <th>Keywords</th>\n",
       "      <th>Source</th>\n",
       "      <th>content</th>\n",
       "    </tr>\n",
       "  </thead>\n",
       "  <tbody>\n",
       "    <tr>\n",
       "      <td>20</td>\n",
       "      <td>Software cost estimation for component based f...</td>\n",
       "      <td>Software cost estimation is important for budg...</td>\n",
       "      <td>budgeting , object-oriented programming , proj...</td>\n",
       "      <td>IEEE</td>\n",
       "      <td>Software cost estimation for component based f...</td>\n",
       "    </tr>\n",
       "    <tr>\n",
       "      <td>53</td>\n",
       "      <td>A PSO-based model to increase the accuracy of ...</td>\n",
       "      <td>Development effort is one of the most importan...</td>\n",
       "      <td>Development effort estimation COCOMO Analogy-b...</td>\n",
       "      <td>Springer Link</td>\n",
       "      <td>A PSO-based model to increase the accuracy of ...</td>\n",
       "    </tr>\n",
       "    <tr>\n",
       "      <td>31</td>\n",
       "      <td>Cuckoo search-based hybrid models for improvin...</td>\n",
       "      <td>This research proposes a new approach which is...</td>\n",
       "      <td>Cuckoo search COCOMO model Software effort est...</td>\n",
       "      <td>Springer Link</td>\n",
       "      <td>Cuckoo search-based hybrid models for improvin...</td>\n",
       "    </tr>\n",
       "    <tr>\n",
       "      <td>45</td>\n",
       "      <td>Transfer learning in effort estimation</td>\n",
       "      <td>When projects lack sufficient local data to ma...</td>\n",
       "      <td>Transfer learning Effort estimation COCOMO mod...</td>\n",
       "      <td>Springer Link</td>\n",
       "      <td>Transfer learning in effort estimation When pr...</td>\n",
       "    </tr>\n",
       "    <tr>\n",
       "      <td>87</td>\n",
       "      <td>A simulation model for strategic management pr...</td>\n",
       "      <td>In this study, a simulation model for the stra...</td>\n",
       "      <td>Strategic management,Simulation modelling,Deci...</td>\n",
       "      <td>Science Direct</td>\n",
       "      <td>A simulation model for strategic management pr...</td>\n",
       "    </tr>\n",
       "  </tbody>\n",
       "</table>\n",
       "</div>"
      ],
      "text/plain": [
       "                                                Title  \\\n",
       "20  Software cost estimation for component based f...   \n",
       "53  A PSO-based model to increase the accuracy of ...   \n",
       "31  Cuckoo search-based hybrid models for improvin...   \n",
       "45             Transfer learning in effort estimation   \n",
       "87  A simulation model for strategic management pr...   \n",
       "\n",
       "                                             Abstract  \\\n",
       "20  Software cost estimation is important for budg...   \n",
       "53  Development effort is one of the most importan...   \n",
       "31  This research proposes a new approach which is...   \n",
       "45  When projects lack sufficient local data to ma...   \n",
       "87  In this study, a simulation model for the stra...   \n",
       "\n",
       "                                             Keywords          Source  \\\n",
       "20  budgeting , object-oriented programming , proj...            IEEE   \n",
       "53  Development effort estimation COCOMO Analogy-b...   Springer Link   \n",
       "31  Cuckoo search COCOMO model Software effort est...   Springer Link   \n",
       "45  Transfer learning Effort estimation COCOMO mod...   Springer Link   \n",
       "87  Strategic management,Simulation modelling,Deci...  Science Direct   \n",
       "\n",
       "                                              content  \n",
       "20  Software cost estimation for component based f...  \n",
       "53  A PSO-based model to increase the accuracy of ...  \n",
       "31  Cuckoo search-based hybrid models for improvin...  \n",
       "45  Transfer learning in effort estimation When pr...  \n",
       "87  A simulation model for strategic management pr...  "
      ]
     },
     "execution_count": 182,
     "metadata": {},
     "output_type": "execute_result"
    }
   ],
   "source": [
    "df_tp = pd.DataFrame()\n",
    "for metadata in wmd:\n",
    "    df_tp=df_tp.append(df[df['Title']==metadata])\n",
    "\n",
    "df_tp = df_tp.drop(['Label'], axis=1)\n",
    "df_tp.head()"
   ]
  },
  {
   "cell_type": "code",
   "execution_count": 183,
   "metadata": {},
   "outputs": [
    {
     "name": "stdout",
     "output_type": "stream",
     "text": [
      "Hasil Cohen's Kappa dari Skenario 3 COCOMO 0.8984375\n",
      "Hasil Precision dari Skenario 3 COCOMO 1.0\n",
      "Hasil Recall dari Skenario 3 COCOMO 0.8761904761904762\n",
      "Hasil F-1 Score dari Skenario 3 COCOMO 0.934010152284264\n"
     ]
    }
   ],
   "source": [
    "cohen_kappa = (tp + tn)/(tp + tn + fp + fn)\n",
    "precision = tp/(tp+fp)\n",
    "recall = tp/(tp+fn)\n",
    "f1_score = 2 * (precision * recall)/(precision + recall)\n",
    "print(\"Hasil Cohen's Kappa dari Skenario 3 COCOMO {}\".format(cohen_kappa))\n",
    "print(\"Hasil Precision dari Skenario 3 COCOMO {}\".format(precision))\n",
    "print(\"Hasil Recall dari Skenario 3 COCOMO {}\".format(recall))\n",
    "print(\"Hasil F-1 Score dari Skenario 3 COCOMO {}\".format(f1_score))"
   ]
  },
  {
   "cell_type": "code",
   "execution_count": null,
   "metadata": {},
   "outputs": [],
   "source": []
  }
 ],
 "metadata": {
  "kernelspec": {
   "display_name": "Python 3",
   "language": "python",
   "name": "python3"
  },
  "language_info": {
   "codemirror_mode": {
    "name": "ipython",
    "version": 3
   },
   "file_extension": ".py",
   "mimetype": "text/x-python",
   "name": "python",
   "nbconvert_exporter": "python",
   "pygments_lexer": "ipython3",
   "version": "3.7.4"
  }
 },
 "nbformat": 4,
 "nbformat_minor": 2
}
